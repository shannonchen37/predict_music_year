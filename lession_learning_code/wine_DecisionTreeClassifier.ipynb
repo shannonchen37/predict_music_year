{
 "cells": [
  {
   "cell_type": "markdown",
   "metadata": {},
   "source": [
    "# 基于决策数进行的分类任务\n",
    "通过属性值区分wine葡萄酒属于什么类型"
   ]
  },
  {
   "cell_type": "code",
   "execution_count": 1,
   "metadata": {},
   "outputs": [],
   "source": [
    "import pandas as pd\n",
    "from sklearn import tree\n",
    "from sklearn.datasets import load_wine\n",
    "from sklearn.model_selection import train_test_split\n",
    "import graphviz\n",
    "# brew install graphviz <= https://stackoverflow.com/questions/35064304/runtimeerror-make-sure-the-graphviz-executables-are-on-your-systems-path-aft"
   ]
  },
  {
   "cell_type": "markdown",
   "metadata": {},
   "source": [
    "# graphviz的曲折安装\n",
    "pip 之后发现IDE化了波浪线，这是因为pip没有安装依赖的原因，需要使用conda install安装（conda install python-graphviz）\n",
    "教程： https://zhuanlan.zhihu.com/p/417012153\n",
    "brew install graphviz <= https://stackoverflow.com/questions/35064304/runtimeerror-make-sure-the-graphviz-executables-are-on-your-systems-path-aft"
   ]
  },
  {
   "cell_type": "code",
   "execution_count": 2,
   "metadata": {},
   "outputs": [],
   "source": [
    "# 1 数据获取\n",
    "wine = load_wine()"
   ]
  },
  {
   "cell_type": "code",
   "execution_count": 3,
   "metadata": {},
   "outputs": [
    {
     "data": {
      "text/plain": [
       "['alcohol',\n",
       " 'malic_acid',\n",
       " 'ash',\n",
       " 'alcalinity_of_ash',\n",
       " 'magnesium',\n",
       " 'total_phenols',\n",
       " 'flavanoids',\n",
       " 'nonflavanoid_phenols',\n",
       " 'proanthocyanins',\n",
       " 'color_intensity',\n",
       " 'hue',\n",
       " 'od280/od315_of_diluted_wines',\n",
       " 'proline']"
      ]
     },
     "execution_count": 3,
     "metadata": {},
     "output_type": "execute_result"
    }
   ],
   "source": [
    "# 2 数据处理\n",
    "# 2.1观察数据属性\n",
    "wine.feature_names      #也可以查看其他的属性 wine,wine.target,wine.data"
   ]
  },
  {
   "cell_type": "code",
   "execution_count": 4,
   "metadata": {},
   "outputs": [
    {
     "data": {
      "text/html": [
       "<div>\n",
       "<style scoped>\n",
       "    .dataframe tbody tr th:only-of-type {\n",
       "        vertical-align: middle;\n",
       "    }\n",
       "\n",
       "    .dataframe tbody tr th {\n",
       "        vertical-align: top;\n",
       "    }\n",
       "\n",
       "    .dataframe thead th {\n",
       "        text-align: right;\n",
       "    }\n",
       "</style>\n",
       "<table border=\"1\" class=\"dataframe\">\n",
       "  <thead>\n",
       "    <tr style=\"text-align: right;\">\n",
       "      <th></th>\n",
       "      <th>alcohol</th>\n",
       "      <th>malic_acid</th>\n",
       "      <th>ash</th>\n",
       "      <th>alcalinity_of_ash</th>\n",
       "      <th>magnesium</th>\n",
       "      <th>total_phenols</th>\n",
       "      <th>flavanoids</th>\n",
       "      <th>nonflavanoid_phenols</th>\n",
       "      <th>proanthocyanins</th>\n",
       "      <th>color_intensity</th>\n",
       "      <th>hue</th>\n",
       "      <th>od280/od315_of_diluted_wines</th>\n",
       "      <th>proline</th>\n",
       "      <th>tag</th>\n",
       "    </tr>\n",
       "  </thead>\n",
       "  <tbody>\n",
       "    <tr>\n",
       "      <th>0</th>\n",
       "      <td>14.23</td>\n",
       "      <td>1.71</td>\n",
       "      <td>2.43</td>\n",
       "      <td>15.6</td>\n",
       "      <td>127.0</td>\n",
       "      <td>2.80</td>\n",
       "      <td>3.06</td>\n",
       "      <td>0.28</td>\n",
       "      <td>2.29</td>\n",
       "      <td>5.64</td>\n",
       "      <td>1.04</td>\n",
       "      <td>3.92</td>\n",
       "      <td>1065.0</td>\n",
       "      <td>0</td>\n",
       "    </tr>\n",
       "    <tr>\n",
       "      <th>1</th>\n",
       "      <td>13.20</td>\n",
       "      <td>1.78</td>\n",
       "      <td>2.14</td>\n",
       "      <td>11.2</td>\n",
       "      <td>100.0</td>\n",
       "      <td>2.65</td>\n",
       "      <td>2.76</td>\n",
       "      <td>0.26</td>\n",
       "      <td>1.28</td>\n",
       "      <td>4.38</td>\n",
       "      <td>1.05</td>\n",
       "      <td>3.40</td>\n",
       "      <td>1050.0</td>\n",
       "      <td>0</td>\n",
       "    </tr>\n",
       "    <tr>\n",
       "      <th>2</th>\n",
       "      <td>13.16</td>\n",
       "      <td>2.36</td>\n",
       "      <td>2.67</td>\n",
       "      <td>18.6</td>\n",
       "      <td>101.0</td>\n",
       "      <td>2.80</td>\n",
       "      <td>3.24</td>\n",
       "      <td>0.30</td>\n",
       "      <td>2.81</td>\n",
       "      <td>5.68</td>\n",
       "      <td>1.03</td>\n",
       "      <td>3.17</td>\n",
       "      <td>1185.0</td>\n",
       "      <td>0</td>\n",
       "    </tr>\n",
       "    <tr>\n",
       "      <th>3</th>\n",
       "      <td>14.37</td>\n",
       "      <td>1.95</td>\n",
       "      <td>2.50</td>\n",
       "      <td>16.8</td>\n",
       "      <td>113.0</td>\n",
       "      <td>3.85</td>\n",
       "      <td>3.49</td>\n",
       "      <td>0.24</td>\n",
       "      <td>2.18</td>\n",
       "      <td>7.80</td>\n",
       "      <td>0.86</td>\n",
       "      <td>3.45</td>\n",
       "      <td>1480.0</td>\n",
       "      <td>0</td>\n",
       "    </tr>\n",
       "    <tr>\n",
       "      <th>4</th>\n",
       "      <td>13.24</td>\n",
       "      <td>2.59</td>\n",
       "      <td>2.87</td>\n",
       "      <td>21.0</td>\n",
       "      <td>118.0</td>\n",
       "      <td>2.80</td>\n",
       "      <td>2.69</td>\n",
       "      <td>0.39</td>\n",
       "      <td>1.82</td>\n",
       "      <td>4.32</td>\n",
       "      <td>1.04</td>\n",
       "      <td>2.93</td>\n",
       "      <td>735.0</td>\n",
       "      <td>0</td>\n",
       "    </tr>\n",
       "    <tr>\n",
       "      <th>...</th>\n",
       "      <td>...</td>\n",
       "      <td>...</td>\n",
       "      <td>...</td>\n",
       "      <td>...</td>\n",
       "      <td>...</td>\n",
       "      <td>...</td>\n",
       "      <td>...</td>\n",
       "      <td>...</td>\n",
       "      <td>...</td>\n",
       "      <td>...</td>\n",
       "      <td>...</td>\n",
       "      <td>...</td>\n",
       "      <td>...</td>\n",
       "      <td>...</td>\n",
       "    </tr>\n",
       "    <tr>\n",
       "      <th>173</th>\n",
       "      <td>13.71</td>\n",
       "      <td>5.65</td>\n",
       "      <td>2.45</td>\n",
       "      <td>20.5</td>\n",
       "      <td>95.0</td>\n",
       "      <td>1.68</td>\n",
       "      <td>0.61</td>\n",
       "      <td>0.52</td>\n",
       "      <td>1.06</td>\n",
       "      <td>7.70</td>\n",
       "      <td>0.64</td>\n",
       "      <td>1.74</td>\n",
       "      <td>740.0</td>\n",
       "      <td>2</td>\n",
       "    </tr>\n",
       "    <tr>\n",
       "      <th>174</th>\n",
       "      <td>13.40</td>\n",
       "      <td>3.91</td>\n",
       "      <td>2.48</td>\n",
       "      <td>23.0</td>\n",
       "      <td>102.0</td>\n",
       "      <td>1.80</td>\n",
       "      <td>0.75</td>\n",
       "      <td>0.43</td>\n",
       "      <td>1.41</td>\n",
       "      <td>7.30</td>\n",
       "      <td>0.70</td>\n",
       "      <td>1.56</td>\n",
       "      <td>750.0</td>\n",
       "      <td>2</td>\n",
       "    </tr>\n",
       "    <tr>\n",
       "      <th>175</th>\n",
       "      <td>13.27</td>\n",
       "      <td>4.28</td>\n",
       "      <td>2.26</td>\n",
       "      <td>20.0</td>\n",
       "      <td>120.0</td>\n",
       "      <td>1.59</td>\n",
       "      <td>0.69</td>\n",
       "      <td>0.43</td>\n",
       "      <td>1.35</td>\n",
       "      <td>10.20</td>\n",
       "      <td>0.59</td>\n",
       "      <td>1.56</td>\n",
       "      <td>835.0</td>\n",
       "      <td>2</td>\n",
       "    </tr>\n",
       "    <tr>\n",
       "      <th>176</th>\n",
       "      <td>13.17</td>\n",
       "      <td>2.59</td>\n",
       "      <td>2.37</td>\n",
       "      <td>20.0</td>\n",
       "      <td>120.0</td>\n",
       "      <td>1.65</td>\n",
       "      <td>0.68</td>\n",
       "      <td>0.53</td>\n",
       "      <td>1.46</td>\n",
       "      <td>9.30</td>\n",
       "      <td>0.60</td>\n",
       "      <td>1.62</td>\n",
       "      <td>840.0</td>\n",
       "      <td>2</td>\n",
       "    </tr>\n",
       "    <tr>\n",
       "      <th>177</th>\n",
       "      <td>14.13</td>\n",
       "      <td>4.10</td>\n",
       "      <td>2.74</td>\n",
       "      <td>24.5</td>\n",
       "      <td>96.0</td>\n",
       "      <td>2.05</td>\n",
       "      <td>0.76</td>\n",
       "      <td>0.56</td>\n",
       "      <td>1.35</td>\n",
       "      <td>9.20</td>\n",
       "      <td>0.61</td>\n",
       "      <td>1.60</td>\n",
       "      <td>560.0</td>\n",
       "      <td>2</td>\n",
       "    </tr>\n",
       "  </tbody>\n",
       "</table>\n",
       "<p>178 rows × 14 columns</p>\n",
       "</div>"
      ],
      "text/plain": [
       "     alcohol  malic_acid   ash  alcalinity_of_ash  magnesium  total_phenols  \\\n",
       "0      14.23        1.71  2.43               15.6      127.0           2.80   \n",
       "1      13.20        1.78  2.14               11.2      100.0           2.65   \n",
       "2      13.16        2.36  2.67               18.6      101.0           2.80   \n",
       "3      14.37        1.95  2.50               16.8      113.0           3.85   \n",
       "4      13.24        2.59  2.87               21.0      118.0           2.80   \n",
       "..       ...         ...   ...                ...        ...            ...   \n",
       "173    13.71        5.65  2.45               20.5       95.0           1.68   \n",
       "174    13.40        3.91  2.48               23.0      102.0           1.80   \n",
       "175    13.27        4.28  2.26               20.0      120.0           1.59   \n",
       "176    13.17        2.59  2.37               20.0      120.0           1.65   \n",
       "177    14.13        4.10  2.74               24.5       96.0           2.05   \n",
       "\n",
       "     flavanoids  nonflavanoid_phenols  proanthocyanins  color_intensity   hue  \\\n",
       "0          3.06                  0.28             2.29             5.64  1.04   \n",
       "1          2.76                  0.26             1.28             4.38  1.05   \n",
       "2          3.24                  0.30             2.81             5.68  1.03   \n",
       "3          3.49                  0.24             2.18             7.80  0.86   \n",
       "4          2.69                  0.39             1.82             4.32  1.04   \n",
       "..          ...                   ...              ...              ...   ...   \n",
       "173        0.61                  0.52             1.06             7.70  0.64   \n",
       "174        0.75                  0.43             1.41             7.30  0.70   \n",
       "175        0.69                  0.43             1.35            10.20  0.59   \n",
       "176        0.68                  0.53             1.46             9.30  0.60   \n",
       "177        0.76                  0.56             1.35             9.20  0.61   \n",
       "\n",
       "     od280/od315_of_diluted_wines  proline  tag  \n",
       "0                            3.92   1065.0    0  \n",
       "1                            3.40   1050.0    0  \n",
       "2                            3.17   1185.0    0  \n",
       "3                            3.45   1480.0    0  \n",
       "4                            2.93    735.0    0  \n",
       "..                            ...      ...  ...  \n",
       "173                          1.74    740.0    2  \n",
       "174                          1.56    750.0    2  \n",
       "175                          1.56    835.0    2  \n",
       "176                          1.62    840.0    2  \n",
       "177                          1.60    560.0    2  \n",
       "\n",
       "[178 rows x 14 columns]"
      ]
     },
     "execution_count": 4,
     "metadata": {},
     "output_type": "execute_result"
    }
   ],
   "source": [
    "# 2.2数据可视化\n",
    "wineframe = pd.DataFrame(data=wine.data,columns=wine.feature_names)\n",
    "wineframe['tag'] = wine.target  #增添一行属性值\n",
    "wineframe"
   ]
  },
  {
   "cell_type": "code",
   "execution_count": 5,
   "metadata": {},
   "outputs": [
    {
     "data": {
      "text/plain": [
       "<bound method NDFrame.describe of      alcohol  malic_acid   ash  alcalinity_of_ash  magnesium  total_phenols  \\\n",
       "0      14.23        1.71  2.43               15.6      127.0           2.80   \n",
       "1      13.20        1.78  2.14               11.2      100.0           2.65   \n",
       "2      13.16        2.36  2.67               18.6      101.0           2.80   \n",
       "3      14.37        1.95  2.50               16.8      113.0           3.85   \n",
       "4      13.24        2.59  2.87               21.0      118.0           2.80   \n",
       "..       ...         ...   ...                ...        ...            ...   \n",
       "173    13.71        5.65  2.45               20.5       95.0           1.68   \n",
       "174    13.40        3.91  2.48               23.0      102.0           1.80   \n",
       "175    13.27        4.28  2.26               20.0      120.0           1.59   \n",
       "176    13.17        2.59  2.37               20.0      120.0           1.65   \n",
       "177    14.13        4.10  2.74               24.5       96.0           2.05   \n",
       "\n",
       "     flavanoids  nonflavanoid_phenols  proanthocyanins  color_intensity   hue  \\\n",
       "0          3.06                  0.28             2.29             5.64  1.04   \n",
       "1          2.76                  0.26             1.28             4.38  1.05   \n",
       "2          3.24                  0.30             2.81             5.68  1.03   \n",
       "3          3.49                  0.24             2.18             7.80  0.86   \n",
       "4          2.69                  0.39             1.82             4.32  1.04   \n",
       "..          ...                   ...              ...              ...   ...   \n",
       "173        0.61                  0.52             1.06             7.70  0.64   \n",
       "174        0.75                  0.43             1.41             7.30  0.70   \n",
       "175        0.69                  0.43             1.35            10.20  0.59   \n",
       "176        0.68                  0.53             1.46             9.30  0.60   \n",
       "177        0.76                  0.56             1.35             9.20  0.61   \n",
       "\n",
       "     od280/od315_of_diluted_wines  proline  tag  \n",
       "0                            3.92   1065.0    0  \n",
       "1                            3.40   1050.0    0  \n",
       "2                            3.17   1185.0    0  \n",
       "3                            3.45   1480.0    0  \n",
       "4                            2.93    735.0    0  \n",
       "..                            ...      ...  ...  \n",
       "173                          1.74    740.0    2  \n",
       "174                          1.56    750.0    2  \n",
       "175                          1.56    835.0    2  \n",
       "176                          1.62    840.0    2  \n",
       "177                          1.60    560.0    2  \n",
       "\n",
       "[178 rows x 14 columns]>"
      ]
     },
     "execution_count": 5,
     "metadata": {},
     "output_type": "execute_result"
    }
   ],
   "source": [
    "# 查看表格属性值\n",
    "wineframe.describe"
   ]
  },
  {
   "cell_type": "code",
   "execution_count": 6,
   "metadata": {},
   "outputs": [
    {
     "data": {
      "text/plain": [
       "(124, 13)"
      ]
     },
     "execution_count": 6,
     "metadata": {},
     "output_type": "execute_result"
    }
   ],
   "source": [
    "# 2.3 数据集划分（训练集and测试集）\n",
    "x_train,x_test,y_train,y_test = train_test_split(wine.data,wine.target,test_size=0.3)\n",
    "x_train.shape   # 观察数据集划分结果"
   ]
  },
  {
   "cell_type": "code",
   "execution_count": 7,
   "metadata": {},
   "outputs": [
    {
     "data": {
      "text/html": [
       "<style>#sk-container-id-1 {color: black;background-color: white;}#sk-container-id-1 pre{padding: 0;}#sk-container-id-1 div.sk-toggleable {background-color: white;}#sk-container-id-1 label.sk-toggleable__label {cursor: pointer;display: block;width: 100%;margin-bottom: 0;padding: 0.3em;box-sizing: border-box;text-align: center;}#sk-container-id-1 label.sk-toggleable__label-arrow:before {content: \"▸\";float: left;margin-right: 0.25em;color: #696969;}#sk-container-id-1 label.sk-toggleable__label-arrow:hover:before {color: black;}#sk-container-id-1 div.sk-estimator:hover label.sk-toggleable__label-arrow:before {color: black;}#sk-container-id-1 div.sk-toggleable__content {max-height: 0;max-width: 0;overflow: hidden;text-align: left;background-color: #f0f8ff;}#sk-container-id-1 div.sk-toggleable__content pre {margin: 0.2em;color: black;border-radius: 0.25em;background-color: #f0f8ff;}#sk-container-id-1 input.sk-toggleable__control:checked~div.sk-toggleable__content {max-height: 200px;max-width: 100%;overflow: auto;}#sk-container-id-1 input.sk-toggleable__control:checked~label.sk-toggleable__label-arrow:before {content: \"▾\";}#sk-container-id-1 div.sk-estimator input.sk-toggleable__control:checked~label.sk-toggleable__label {background-color: #d4ebff;}#sk-container-id-1 div.sk-label input.sk-toggleable__control:checked~label.sk-toggleable__label {background-color: #d4ebff;}#sk-container-id-1 input.sk-hidden--visually {border: 0;clip: rect(1px 1px 1px 1px);clip: rect(1px, 1px, 1px, 1px);height: 1px;margin: -1px;overflow: hidden;padding: 0;position: absolute;width: 1px;}#sk-container-id-1 div.sk-estimator {font-family: monospace;background-color: #f0f8ff;border: 1px dotted black;border-radius: 0.25em;box-sizing: border-box;margin-bottom: 0.5em;}#sk-container-id-1 div.sk-estimator:hover {background-color: #d4ebff;}#sk-container-id-1 div.sk-parallel-item::after {content: \"\";width: 100%;border-bottom: 1px solid gray;flex-grow: 1;}#sk-container-id-1 div.sk-label:hover label.sk-toggleable__label {background-color: #d4ebff;}#sk-container-id-1 div.sk-serial::before {content: \"\";position: absolute;border-left: 1px solid gray;box-sizing: border-box;top: 0;bottom: 0;left: 50%;z-index: 0;}#sk-container-id-1 div.sk-serial {display: flex;flex-direction: column;align-items: center;background-color: white;padding-right: 0.2em;padding-left: 0.2em;position: relative;}#sk-container-id-1 div.sk-item {position: relative;z-index: 1;}#sk-container-id-1 div.sk-parallel {display: flex;align-items: stretch;justify-content: center;background-color: white;position: relative;}#sk-container-id-1 div.sk-item::before, #sk-container-id-1 div.sk-parallel-item::before {content: \"\";position: absolute;border-left: 1px solid gray;box-sizing: border-box;top: 0;bottom: 0;left: 50%;z-index: -1;}#sk-container-id-1 div.sk-parallel-item {display: flex;flex-direction: column;z-index: 1;position: relative;background-color: white;}#sk-container-id-1 div.sk-parallel-item:first-child::after {align-self: flex-end;width: 50%;}#sk-container-id-1 div.sk-parallel-item:last-child::after {align-self: flex-start;width: 50%;}#sk-container-id-1 div.sk-parallel-item:only-child::after {width: 0;}#sk-container-id-1 div.sk-dashed-wrapped {border: 1px dashed gray;margin: 0 0.4em 0.5em 0.4em;box-sizing: border-box;padding-bottom: 0.4em;background-color: white;}#sk-container-id-1 div.sk-label label {font-family: monospace;font-weight: bold;display: inline-block;line-height: 1.2em;}#sk-container-id-1 div.sk-label-container {text-align: center;}#sk-container-id-1 div.sk-container {/* jupyter's `normalize.less` sets `[hidden] { display: none; }` but bootstrap.min.css set `[hidden] { display: none !important; }` so we also need the `!important` here to be able to override the default hidden behavior on the sphinx rendered scikit-learn.org. See: https://github.com/scikit-learn/scikit-learn/issues/21755 */display: inline-block !important;position: relative;}#sk-container-id-1 div.sk-text-repr-fallback {display: none;}</style><div id=\"sk-container-id-1\" class=\"sk-top-container\"><div class=\"sk-text-repr-fallback\"><pre>DecisionTreeClassifier(criterion=&#x27;entropy&#x27;)</pre><b>In a Jupyter environment, please rerun this cell to show the HTML representation or trust the notebook. <br />On GitHub, the HTML representation is unable to render, please try loading this page with nbviewer.org.</b></div><div class=\"sk-container\" hidden><div class=\"sk-item\"><div class=\"sk-estimator sk-toggleable\"><input class=\"sk-toggleable__control sk-hidden--visually\" id=\"sk-estimator-id-1\" type=\"checkbox\" checked><label for=\"sk-estimator-id-1\" class=\"sk-toggleable__label sk-toggleable__label-arrow\">DecisionTreeClassifier</label><div class=\"sk-toggleable__content\"><pre>DecisionTreeClassifier(criterion=&#x27;entropy&#x27;)</pre></div></div></div></div></div>"
      ],
      "text/plain": [
       "DecisionTreeClassifier(criterion='entropy')"
      ]
     },
     "execution_count": 7,
     "metadata": {},
     "output_type": "execute_result"
    }
   ],
   "source": [
    "# 机器学习算法\n",
    "# 采用sklearn中的tree，利用决策树分类\n",
    "clf = tree.DecisionTreeClassifier(criterion='entropy')  # gini指数｜ID3熵\n",
    "clf.fit(x_train,y_train)"
   ]
  },
  {
   "cell_type": "code",
   "execution_count": 8,
   "metadata": {},
   "outputs": [
    {
     "name": "stdout",
     "output_type": "stream",
     "text": [
      "[1 0 0 0 0 0 2 2 2 1 0 0 0 0 1 2 1 2 2 0 2 2 0 0 0 2 0 1 0 1 1 1 2 1 0 0 2\n",
      " 0 1 1 1 1 0 2 2 0 2 0 2 0 1 2 1 2]\n"
     ]
    }
   ],
   "source": [
    "# 查看预测值\n",
    "y_pre = clf.predict(x_test)\n",
    "print(y_pre)"
   ]
  },
  {
   "cell_type": "code",
   "execution_count": 9,
   "metadata": {},
   "outputs": [
    {
     "data": {
      "text/plain": [
       "array([ 8, 18, 18, 18, 18, 18,  2,  6,  2,  8, 18, 18, 18, 18,  8,  6,  8,\n",
       "        2,  2, 18,  2,  2, 18, 18, 11, 14, 18,  8, 18,  8,  8,  8,  2,  8,\n",
       "       18, 18, 14, 11,  8,  8,  8,  8, 18,  2,  2, 18,  6, 18,  6, 18,  8,\n",
       "       14,  8,  2])"
      ]
     },
     "execution_count": 9,
     "metadata": {},
     "output_type": "execute_result"
    }
   ],
   "source": [
    "clf.apply(x_test)   # 返回每个测试样本所在叶节点索引"
   ]
  },
  {
   "cell_type": "code",
   "execution_count": 10,
   "metadata": {},
   "outputs": [
    {
     "name": "stdout",
     "output_type": "stream",
     "text": [
      "0.9259259259259259\n"
     ]
    }
   ],
   "source": [
    "result = clf.score(x_test,y_test)\n",
    "print(result)"
   ]
  },
  {
   "cell_type": "code",
   "execution_count": 11,
   "metadata": {},
   "outputs": [
    {
     "data": {
      "image/svg+xml": "<?xml version=\"1.0\" encoding=\"UTF-8\" standalone=\"no\"?>\n<!DOCTYPE svg PUBLIC \"-//W3C//DTD SVG 1.1//EN\"\n \"http://www.w3.org/Graphics/SVG/1.1/DTD/svg11.dtd\">\n<!-- Generated by graphviz version 2.50.0 (0)\n -->\n<!-- Title: Tree Pages: 1 -->\n<svg width=\"858pt\" height=\"671pt\"\n viewBox=\"0.00 0.00 858.00 671.00\" xmlns=\"http://www.w3.org/2000/svg\" xmlns:xlink=\"http://www.w3.org/1999/xlink\">\n<g id=\"graph0\" class=\"graph\" transform=\"scale(1 1) rotate(0) translate(4 667)\">\n<title>Tree</title>\n<polygon fill=\"white\" stroke=\"transparent\" points=\"-4,4 -4,-667 854,-667 854,4 -4,4\"/>\n<!-- 0 -->\n<g id=\"node1\" class=\"node\">\n<title>0</title>\n<path fill=\"#defbea\" stroke=\"black\" d=\"M486,-663C486,-663 378,-663 378,-663 372,-663 366,-657 366,-651 366,-651 366,-592 366,-592 366,-586 372,-580 378,-580 378,-580 486,-580 486,-580 492,-580 498,-586 498,-592 498,-592 498,-651 498,-651 498,-657 492,-663 486,-663\"/>\n<text text-anchor=\"middle\" x=\"432\" y=\"-647.8\" font-family=\"Helvetica,sans-Serif\" font-size=\"14.00\">proline &lt;= 755.0</text>\n<text text-anchor=\"middle\" x=\"432\" y=\"-632.8\" font-family=\"Helvetica,sans-Serif\" font-size=\"14.00\">entropy = 1.544</text>\n<text text-anchor=\"middle\" x=\"432\" y=\"-617.8\" font-family=\"Helvetica,sans-Serif\" font-size=\"14.00\">samples = 124</text>\n<text text-anchor=\"middle\" x=\"432\" y=\"-602.8\" font-family=\"Helvetica,sans-Serif\" font-size=\"14.00\">value = [40, 54, 30]</text>\n<text text-anchor=\"middle\" x=\"432\" y=\"-587.8\" font-family=\"Helvetica,sans-Serif\" font-size=\"14.00\">class = class_1</text>\n</g>\n<!-- 1 -->\n<g id=\"node2\" class=\"node\">\n<title>1</title>\n<path fill=\"#a5f3c6\" stroke=\"black\" d=\"M383.5,-544C383.5,-544 272.5,-544 272.5,-544 266.5,-544 260.5,-538 260.5,-532 260.5,-532 260.5,-473 260.5,-473 260.5,-467 266.5,-461 272.5,-461 272.5,-461 383.5,-461 383.5,-461 389.5,-461 395.5,-467 395.5,-473 395.5,-473 395.5,-532 395.5,-532 395.5,-538 389.5,-544 383.5,-544\"/>\n<text text-anchor=\"middle\" x=\"328\" y=\"-528.8\" font-family=\"Helvetica,sans-Serif\" font-size=\"14.00\">flavanoids &lt;= 0.955</text>\n<text text-anchor=\"middle\" x=\"328\" y=\"-513.8\" font-family=\"Helvetica,sans-Serif\" font-size=\"14.00\">entropy = 1.076</text>\n<text text-anchor=\"middle\" x=\"328\" y=\"-498.8\" font-family=\"Helvetica,sans-Serif\" font-size=\"14.00\">samples = 80</text>\n<text text-anchor=\"middle\" x=\"328\" y=\"-483.8\" font-family=\"Helvetica,sans-Serif\" font-size=\"14.00\">value = [2, 51, 27]</text>\n<text text-anchor=\"middle\" x=\"328\" y=\"-468.8\" font-family=\"Helvetica,sans-Serif\" font-size=\"14.00\">class = class_1</text>\n</g>\n<!-- 0&#45;&gt;1 -->\n<g id=\"edge1\" class=\"edge\">\n<title>0&#45;&gt;1</title>\n<path fill=\"none\" stroke=\"black\" d=\"M395.92,-579.91C387.85,-570.83 379.22,-561.12 370.91,-551.77\"/>\n<polygon fill=\"black\" stroke=\"black\" points=\"373.28,-549.17 364.02,-544.02 368.05,-553.82 373.28,-549.17\"/>\n<text text-anchor=\"middle\" x=\"362.55\" y=\"-565.28\" font-family=\"Helvetica,sans-Serif\" font-size=\"14.00\">True</text>\n</g>\n<!-- 12 -->\n<g id=\"node13\" class=\"node\">\n<title>12</title>\n<path fill=\"#e99356\" stroke=\"black\" d=\"M589,-544C589,-544 485,-544 485,-544 479,-544 473,-538 473,-532 473,-532 473,-473 473,-473 473,-467 479,-461 485,-461 485,-461 589,-461 589,-461 595,-461 601,-467 601,-473 601,-473 601,-532 601,-532 601,-538 595,-544 589,-544\"/>\n<text text-anchor=\"middle\" x=\"537\" y=\"-528.8\" font-family=\"Helvetica,sans-Serif\" font-size=\"14.00\">flavanoids &lt;= 2.32</text>\n<text text-anchor=\"middle\" x=\"537\" y=\"-513.8\" font-family=\"Helvetica,sans-Serif\" font-size=\"14.00\">entropy = 0.711</text>\n<text text-anchor=\"middle\" x=\"537\" y=\"-498.8\" font-family=\"Helvetica,sans-Serif\" font-size=\"14.00\">samples = 44</text>\n<text text-anchor=\"middle\" x=\"537\" y=\"-483.8\" font-family=\"Helvetica,sans-Serif\" font-size=\"14.00\">value = [38, 3, 3]</text>\n<text text-anchor=\"middle\" x=\"537\" y=\"-468.8\" font-family=\"Helvetica,sans-Serif\" font-size=\"14.00\">class = class_0</text>\n</g>\n<!-- 0&#45;&gt;12 -->\n<g id=\"edge12\" class=\"edge\">\n<title>0&#45;&gt;12</title>\n<path fill=\"none\" stroke=\"black\" d=\"M468.43,-579.91C476.65,-570.74 485.46,-560.93 493.93,-551.49\"/>\n<polygon fill=\"black\" stroke=\"black\" points=\"496.56,-553.8 500.64,-544.02 491.35,-549.13 496.56,-553.8\"/>\n<text text-anchor=\"middle\" x=\"501.98\" y=\"-565.28\" font-family=\"Helvetica,sans-Serif\" font-size=\"14.00\">False</text>\n</g>\n<!-- 2 -->\n<g id=\"node3\" class=\"node\">\n<title>2</title>\n<path fill=\"#8139e5\" stroke=\"black\" d=\"M167.5,-417.5C167.5,-417.5 74.5,-417.5 74.5,-417.5 68.5,-417.5 62.5,-411.5 62.5,-405.5 62.5,-405.5 62.5,-361.5 62.5,-361.5 62.5,-355.5 68.5,-349.5 74.5,-349.5 74.5,-349.5 167.5,-349.5 167.5,-349.5 173.5,-349.5 179.5,-355.5 179.5,-361.5 179.5,-361.5 179.5,-405.5 179.5,-405.5 179.5,-411.5 173.5,-417.5 167.5,-417.5\"/>\n<text text-anchor=\"middle\" x=\"121\" y=\"-402.3\" font-family=\"Helvetica,sans-Serif\" font-size=\"14.00\">entropy = 0.0</text>\n<text text-anchor=\"middle\" x=\"121\" y=\"-387.3\" font-family=\"Helvetica,sans-Serif\" font-size=\"14.00\">samples = 22</text>\n<text text-anchor=\"middle\" x=\"121\" y=\"-372.3\" font-family=\"Helvetica,sans-Serif\" font-size=\"14.00\">value = [0, 0, 22]</text>\n<text text-anchor=\"middle\" x=\"121\" y=\"-357.3\" font-family=\"Helvetica,sans-Serif\" font-size=\"14.00\">class = class_2</text>\n</g>\n<!-- 1&#45;&gt;2 -->\n<g id=\"edge2\" class=\"edge\">\n<title>1&#45;&gt;2</title>\n<path fill=\"none\" stroke=\"black\" d=\"M260.38,-465.32C237.3,-452.77 211.41,-438.46 188,-425 186.71,-424.26 185.41,-423.51 184.1,-422.75\"/>\n<polygon fill=\"black\" stroke=\"black\" points=\"185.76,-419.66 175.37,-417.63 182.23,-425.71 185.76,-419.66\"/>\n</g>\n<!-- 3 -->\n<g id=\"node4\" class=\"node\">\n<title>3</title>\n<path fill=\"#53e892\" stroke=\"black\" d=\"M446.5,-425C446.5,-425 209.5,-425 209.5,-425 203.5,-425 197.5,-419 197.5,-413 197.5,-413 197.5,-354 197.5,-354 197.5,-348 203.5,-342 209.5,-342 209.5,-342 446.5,-342 446.5,-342 452.5,-342 458.5,-348 458.5,-354 458.5,-354 458.5,-413 458.5,-413 458.5,-419 452.5,-425 446.5,-425\"/>\n<text text-anchor=\"middle\" x=\"328\" y=\"-409.8\" font-family=\"Helvetica,sans-Serif\" font-size=\"14.00\">od280/od315_of_diluted_wines &lt;= 1.855</text>\n<text text-anchor=\"middle\" x=\"328\" y=\"-394.8\" font-family=\"Helvetica,sans-Serif\" font-size=\"14.00\">entropy = 0.636</text>\n<text text-anchor=\"middle\" x=\"328\" y=\"-379.8\" font-family=\"Helvetica,sans-Serif\" font-size=\"14.00\">samples = 58</text>\n<text text-anchor=\"middle\" x=\"328\" y=\"-364.8\" font-family=\"Helvetica,sans-Serif\" font-size=\"14.00\">value = [2, 51, 5]</text>\n<text text-anchor=\"middle\" x=\"328\" y=\"-349.8\" font-family=\"Helvetica,sans-Serif\" font-size=\"14.00\">class = class_1</text>\n</g>\n<!-- 1&#45;&gt;3 -->\n<g id=\"edge3\" class=\"edge\">\n<title>1&#45;&gt;3</title>\n<path fill=\"none\" stroke=\"black\" d=\"M328,-460.91C328,-452.65 328,-443.86 328,-435.3\"/>\n<polygon fill=\"black\" stroke=\"black\" points=\"331.5,-435.02 328,-425.02 324.5,-435.02 331.5,-435.02\"/>\n</g>\n<!-- 4 -->\n<g id=\"node5\" class=\"node\">\n<title>4</title>\n<path fill=\"#b388ef\" stroke=\"black\" d=\"M246.5,-306C246.5,-306 103.5,-306 103.5,-306 97.5,-306 91.5,-300 91.5,-294 91.5,-294 91.5,-235 91.5,-235 91.5,-229 97.5,-223 103.5,-223 103.5,-223 246.5,-223 246.5,-223 252.5,-223 258.5,-229 258.5,-235 258.5,-235 258.5,-294 258.5,-294 258.5,-300 252.5,-306 246.5,-306\"/>\n<text text-anchor=\"middle\" x=\"175\" y=\"-290.8\" font-family=\"Helvetica,sans-Serif\" font-size=\"14.00\">alcalinity_of_ash &lt;= 17.4</text>\n<text text-anchor=\"middle\" x=\"175\" y=\"-275.8\" font-family=\"Helvetica,sans-Serif\" font-size=\"14.00\">entropy = 0.863</text>\n<text text-anchor=\"middle\" x=\"175\" y=\"-260.8\" font-family=\"Helvetica,sans-Serif\" font-size=\"14.00\">samples = 7</text>\n<text text-anchor=\"middle\" x=\"175\" y=\"-245.8\" font-family=\"Helvetica,sans-Serif\" font-size=\"14.00\">value = [0, 2, 5]</text>\n<text text-anchor=\"middle\" x=\"175\" y=\"-230.8\" font-family=\"Helvetica,sans-Serif\" font-size=\"14.00\">class = class_2</text>\n</g>\n<!-- 3&#45;&gt;4 -->\n<g id=\"edge4\" class=\"edge\">\n<title>3&#45;&gt;4</title>\n<path fill=\"none\" stroke=\"black\" d=\"M274.92,-341.91C262.46,-332.38 249.08,-322.15 236.29,-312.37\"/>\n<polygon fill=\"black\" stroke=\"black\" points=\"238.06,-309.32 227.99,-306.02 233.81,-314.88 238.06,-309.32\"/>\n</g>\n<!-- 7 -->\n<g id=\"node8\" class=\"node\">\n<title>7</title>\n<path fill=\"#41e686\" stroke=\"black\" d=\"M389.5,-306C389.5,-306 288.5,-306 288.5,-306 282.5,-306 276.5,-300 276.5,-294 276.5,-294 276.5,-235 276.5,-235 276.5,-229 282.5,-223 288.5,-223 288.5,-223 389.5,-223 389.5,-223 395.5,-223 401.5,-229 401.5,-235 401.5,-235 401.5,-294 401.5,-294 401.5,-300 395.5,-306 389.5,-306\"/>\n<text text-anchor=\"middle\" x=\"339\" y=\"-290.8\" font-family=\"Helvetica,sans-Serif\" font-size=\"14.00\">alcohol &lt;= 13.175</text>\n<text text-anchor=\"middle\" x=\"339\" y=\"-275.8\" font-family=\"Helvetica,sans-Serif\" font-size=\"14.00\">entropy = 0.239</text>\n<text text-anchor=\"middle\" x=\"339\" y=\"-260.8\" font-family=\"Helvetica,sans-Serif\" font-size=\"14.00\">samples = 51</text>\n<text text-anchor=\"middle\" x=\"339\" y=\"-245.8\" font-family=\"Helvetica,sans-Serif\" font-size=\"14.00\">value = [2, 49, 0]</text>\n<text text-anchor=\"middle\" x=\"339\" y=\"-230.8\" font-family=\"Helvetica,sans-Serif\" font-size=\"14.00\">class = class_1</text>\n</g>\n<!-- 3&#45;&gt;7 -->\n<g id=\"edge7\" class=\"edge\">\n<title>3&#45;&gt;7</title>\n<path fill=\"none\" stroke=\"black\" d=\"M331.82,-341.91C332.6,-333.56 333.44,-324.67 334.25,-316.02\"/>\n<polygon fill=\"black\" stroke=\"black\" points=\"337.74,-316.3 335.19,-306.02 330.77,-315.65 337.74,-316.3\"/>\n</g>\n<!-- 5 -->\n<g id=\"node6\" class=\"node\">\n<title>5</title>\n<path fill=\"#39e581\" stroke=\"black\" d=\"M98,-179.5C98,-179.5 12,-179.5 12,-179.5 6,-179.5 0,-173.5 0,-167.5 0,-167.5 0,-123.5 0,-123.5 0,-117.5 6,-111.5 12,-111.5 12,-111.5 98,-111.5 98,-111.5 104,-111.5 110,-117.5 110,-123.5 110,-123.5 110,-167.5 110,-167.5 110,-173.5 104,-179.5 98,-179.5\"/>\n<text text-anchor=\"middle\" x=\"55\" y=\"-164.3\" font-family=\"Helvetica,sans-Serif\" font-size=\"14.00\">entropy = 0.0</text>\n<text text-anchor=\"middle\" x=\"55\" y=\"-149.3\" font-family=\"Helvetica,sans-Serif\" font-size=\"14.00\">samples = 2</text>\n<text text-anchor=\"middle\" x=\"55\" y=\"-134.3\" font-family=\"Helvetica,sans-Serif\" font-size=\"14.00\">value = [0, 2, 0]</text>\n<text text-anchor=\"middle\" x=\"55\" y=\"-119.3\" font-family=\"Helvetica,sans-Serif\" font-size=\"14.00\">class = class_1</text>\n</g>\n<!-- 4&#45;&gt;5 -->\n<g id=\"edge5\" class=\"edge\">\n<title>4&#45;&gt;5</title>\n<path fill=\"none\" stroke=\"black\" d=\"M133.37,-222.91C121.37,-211.21 108.29,-198.46 96.31,-186.78\"/>\n<polygon fill=\"black\" stroke=\"black\" points=\"98.62,-184.14 89.02,-179.67 93.73,-189.15 98.62,-184.14\"/>\n</g>\n<!-- 6 -->\n<g id=\"node7\" class=\"node\">\n<title>6</title>\n<path fill=\"#8139e5\" stroke=\"black\" d=\"M226,-179.5C226,-179.5 140,-179.5 140,-179.5 134,-179.5 128,-173.5 128,-167.5 128,-167.5 128,-123.5 128,-123.5 128,-117.5 134,-111.5 140,-111.5 140,-111.5 226,-111.5 226,-111.5 232,-111.5 238,-117.5 238,-123.5 238,-123.5 238,-167.5 238,-167.5 238,-173.5 232,-179.5 226,-179.5\"/>\n<text text-anchor=\"middle\" x=\"183\" y=\"-164.3\" font-family=\"Helvetica,sans-Serif\" font-size=\"14.00\">entropy = 0.0</text>\n<text text-anchor=\"middle\" x=\"183\" y=\"-149.3\" font-family=\"Helvetica,sans-Serif\" font-size=\"14.00\">samples = 5</text>\n<text text-anchor=\"middle\" x=\"183\" y=\"-134.3\" font-family=\"Helvetica,sans-Serif\" font-size=\"14.00\">value = [0, 0, 5]</text>\n<text text-anchor=\"middle\" x=\"183\" y=\"-119.3\" font-family=\"Helvetica,sans-Serif\" font-size=\"14.00\">class = class_2</text>\n</g>\n<!-- 4&#45;&gt;6 -->\n<g id=\"edge6\" class=\"edge\">\n<title>4&#45;&gt;6</title>\n<path fill=\"none\" stroke=\"black\" d=\"M177.78,-222.91C178.51,-212.2 179.3,-200.62 180.04,-189.78\"/>\n<polygon fill=\"black\" stroke=\"black\" points=\"183.54,-189.88 180.73,-179.67 176.56,-189.4 183.54,-189.88\"/>\n</g>\n<!-- 8 -->\n<g id=\"node9\" class=\"node\">\n<title>8</title>\n<path fill=\"#39e581\" stroke=\"black\" d=\"M377.5,-179.5C377.5,-179.5 284.5,-179.5 284.5,-179.5 278.5,-179.5 272.5,-173.5 272.5,-167.5 272.5,-167.5 272.5,-123.5 272.5,-123.5 272.5,-117.5 278.5,-111.5 284.5,-111.5 284.5,-111.5 377.5,-111.5 377.5,-111.5 383.5,-111.5 389.5,-117.5 389.5,-123.5 389.5,-123.5 389.5,-167.5 389.5,-167.5 389.5,-173.5 383.5,-179.5 377.5,-179.5\"/>\n<text text-anchor=\"middle\" x=\"331\" y=\"-164.3\" font-family=\"Helvetica,sans-Serif\" font-size=\"14.00\">entropy = 0.0</text>\n<text text-anchor=\"middle\" x=\"331\" y=\"-149.3\" font-family=\"Helvetica,sans-Serif\" font-size=\"14.00\">samples = 45</text>\n<text text-anchor=\"middle\" x=\"331\" y=\"-134.3\" font-family=\"Helvetica,sans-Serif\" font-size=\"14.00\">value = [0, 45, 0]</text>\n<text text-anchor=\"middle\" x=\"331\" y=\"-119.3\" font-family=\"Helvetica,sans-Serif\" font-size=\"14.00\">class = class_1</text>\n</g>\n<!-- 7&#45;&gt;8 -->\n<g id=\"edge8\" class=\"edge\">\n<title>7&#45;&gt;8</title>\n<path fill=\"none\" stroke=\"black\" d=\"M336.22,-222.91C335.49,-212.2 334.7,-200.62 333.96,-189.78\"/>\n<polygon fill=\"black\" stroke=\"black\" points=\"337.44,-189.4 333.27,-179.67 330.46,-189.88 337.44,-189.4\"/>\n</g>\n<!-- 9 -->\n<g id=\"node10\" class=\"node\">\n<title>9</title>\n<path fill=\"#9cf2c0\" stroke=\"black\" d=\"M548.5,-187C548.5,-187 419.5,-187 419.5,-187 413.5,-187 407.5,-181 407.5,-175 407.5,-175 407.5,-116 407.5,-116 407.5,-110 413.5,-104 419.5,-104 419.5,-104 548.5,-104 548.5,-104 554.5,-104 560.5,-110 560.5,-116 560.5,-116 560.5,-175 560.5,-175 560.5,-181 554.5,-187 548.5,-187\"/>\n<text text-anchor=\"middle\" x=\"484\" y=\"-171.8\" font-family=\"Helvetica,sans-Serif\" font-size=\"14.00\">color_intensity &lt;= 4.06</text>\n<text text-anchor=\"middle\" x=\"484\" y=\"-156.8\" font-family=\"Helvetica,sans-Serif\" font-size=\"14.00\">entropy = 0.918</text>\n<text text-anchor=\"middle\" x=\"484\" y=\"-141.8\" font-family=\"Helvetica,sans-Serif\" font-size=\"14.00\">samples = 6</text>\n<text text-anchor=\"middle\" x=\"484\" y=\"-126.8\" font-family=\"Helvetica,sans-Serif\" font-size=\"14.00\">value = [2, 4, 0]</text>\n<text text-anchor=\"middle\" x=\"484\" y=\"-111.8\" font-family=\"Helvetica,sans-Serif\" font-size=\"14.00\">class = class_1</text>\n</g>\n<!-- 7&#45;&gt;9 -->\n<g id=\"edge9\" class=\"edge\">\n<title>7&#45;&gt;9</title>\n<path fill=\"none\" stroke=\"black\" d=\"M389.31,-222.91C401.12,-213.38 413.79,-203.15 425.91,-193.37\"/>\n<polygon fill=\"black\" stroke=\"black\" points=\"428.2,-196.02 433.78,-187.02 423.8,-190.58 428.2,-196.02\"/>\n</g>\n<!-- 10 -->\n<g id=\"node11\" class=\"node\">\n<title>10</title>\n<path fill=\"#39e581\" stroke=\"black\" d=\"M463,-68C463,-68 377,-68 377,-68 371,-68 365,-62 365,-56 365,-56 365,-12 365,-12 365,-6 371,0 377,0 377,0 463,0 463,0 469,0 475,-6 475,-12 475,-12 475,-56 475,-56 475,-62 469,-68 463,-68\"/>\n<text text-anchor=\"middle\" x=\"420\" y=\"-52.8\" font-family=\"Helvetica,sans-Serif\" font-size=\"14.00\">entropy = 0.0</text>\n<text text-anchor=\"middle\" x=\"420\" y=\"-37.8\" font-family=\"Helvetica,sans-Serif\" font-size=\"14.00\">samples = 4</text>\n<text text-anchor=\"middle\" x=\"420\" y=\"-22.8\" font-family=\"Helvetica,sans-Serif\" font-size=\"14.00\">value = [0, 4, 0]</text>\n<text text-anchor=\"middle\" x=\"420\" y=\"-7.8\" font-family=\"Helvetica,sans-Serif\" font-size=\"14.00\">class = class_1</text>\n</g>\n<!-- 9&#45;&gt;10 -->\n<g id=\"edge10\" class=\"edge\">\n<title>9&#45;&gt;10</title>\n<path fill=\"none\" stroke=\"black\" d=\"M460.17,-103.73C455.1,-95.06 449.75,-85.9 444.65,-77.18\"/>\n<polygon fill=\"black\" stroke=\"black\" points=\"447.53,-75.17 439.46,-68.3 441.49,-78.7 447.53,-75.17\"/>\n</g>\n<!-- 11 -->\n<g id=\"node12\" class=\"node\">\n<title>11</title>\n<path fill=\"#e58139\" stroke=\"black\" d=\"M591,-68C591,-68 505,-68 505,-68 499,-68 493,-62 493,-56 493,-56 493,-12 493,-12 493,-6 499,0 505,0 505,0 591,0 591,0 597,0 603,-6 603,-12 603,-12 603,-56 603,-56 603,-62 597,-68 591,-68\"/>\n<text text-anchor=\"middle\" x=\"548\" y=\"-52.8\" font-family=\"Helvetica,sans-Serif\" font-size=\"14.00\">entropy = 0.0</text>\n<text text-anchor=\"middle\" x=\"548\" y=\"-37.8\" font-family=\"Helvetica,sans-Serif\" font-size=\"14.00\">samples = 2</text>\n<text text-anchor=\"middle\" x=\"548\" y=\"-22.8\" font-family=\"Helvetica,sans-Serif\" font-size=\"14.00\">value = [2, 0, 0]</text>\n<text text-anchor=\"middle\" x=\"548\" y=\"-7.8\" font-family=\"Helvetica,sans-Serif\" font-size=\"14.00\">class = class_0</text>\n</g>\n<!-- 9&#45;&gt;11 -->\n<g id=\"edge11\" class=\"edge\">\n<title>9&#45;&gt;11</title>\n<path fill=\"none\" stroke=\"black\" d=\"M507.83,-103.73C512.9,-95.06 518.25,-85.9 523.35,-77.18\"/>\n<polygon fill=\"black\" stroke=\"black\" points=\"526.51,-78.7 528.54,-68.3 520.47,-75.17 526.51,-78.7\"/>\n</g>\n<!-- 13 -->\n<g id=\"node14\" class=\"node\">\n<title>13</title>\n<path fill=\"#ffffff\" stroke=\"black\" d=\"M585,-425C585,-425 489,-425 489,-425 483,-425 477,-419 477,-413 477,-413 477,-354 477,-354 477,-348 483,-342 489,-342 489,-342 585,-342 585,-342 591,-342 597,-348 597,-354 597,-354 597,-413 597,-413 597,-419 591,-425 585,-425\"/>\n<text text-anchor=\"middle\" x=\"537\" y=\"-409.8\" font-family=\"Helvetica,sans-Serif\" font-size=\"14.00\">flavanoids &lt;= 0.9</text>\n<text text-anchor=\"middle\" x=\"537\" y=\"-394.8\" font-family=\"Helvetica,sans-Serif\" font-size=\"14.00\">entropy = 1.449</text>\n<text text-anchor=\"middle\" x=\"537\" y=\"-379.8\" font-family=\"Helvetica,sans-Serif\" font-size=\"14.00\">samples = 7</text>\n<text text-anchor=\"middle\" x=\"537\" y=\"-364.8\" font-family=\"Helvetica,sans-Serif\" font-size=\"14.00\">value = [1, 3, 3]</text>\n<text text-anchor=\"middle\" x=\"537\" y=\"-349.8\" font-family=\"Helvetica,sans-Serif\" font-size=\"14.00\">class = class_1</text>\n</g>\n<!-- 12&#45;&gt;13 -->\n<g id=\"edge13\" class=\"edge\">\n<title>12&#45;&gt;13</title>\n<path fill=\"none\" stroke=\"black\" d=\"M537,-460.91C537,-452.65 537,-443.86 537,-435.3\"/>\n<polygon fill=\"black\" stroke=\"black\" points=\"540.5,-435.02 537,-425.02 533.5,-435.02 540.5,-435.02\"/>\n</g>\n<!-- 18 -->\n<g id=\"node19\" class=\"node\">\n<title>18</title>\n<path fill=\"#e58139\" stroke=\"black\" d=\"M720.5,-417.5C720.5,-417.5 627.5,-417.5 627.5,-417.5 621.5,-417.5 615.5,-411.5 615.5,-405.5 615.5,-405.5 615.5,-361.5 615.5,-361.5 615.5,-355.5 621.5,-349.5 627.5,-349.5 627.5,-349.5 720.5,-349.5 720.5,-349.5 726.5,-349.5 732.5,-355.5 732.5,-361.5 732.5,-361.5 732.5,-405.5 732.5,-405.5 732.5,-411.5 726.5,-417.5 720.5,-417.5\"/>\n<text text-anchor=\"middle\" x=\"674\" y=\"-402.3\" font-family=\"Helvetica,sans-Serif\" font-size=\"14.00\">entropy = 0.0</text>\n<text text-anchor=\"middle\" x=\"674\" y=\"-387.3\" font-family=\"Helvetica,sans-Serif\" font-size=\"14.00\">samples = 37</text>\n<text text-anchor=\"middle\" x=\"674\" y=\"-372.3\" font-family=\"Helvetica,sans-Serif\" font-size=\"14.00\">value = [37, 0, 0]</text>\n<text text-anchor=\"middle\" x=\"674\" y=\"-357.3\" font-family=\"Helvetica,sans-Serif\" font-size=\"14.00\">class = class_0</text>\n</g>\n<!-- 12&#45;&gt;18 -->\n<g id=\"edge18\" class=\"edge\">\n<title>12&#45;&gt;18</title>\n<path fill=\"none\" stroke=\"black\" d=\"M584.53,-460.91C598.36,-449.1 613.44,-436.22 627.22,-424.45\"/>\n<polygon fill=\"black\" stroke=\"black\" points=\"629.83,-426.82 635.16,-417.67 625.29,-421.5 629.83,-426.82\"/>\n</g>\n<!-- 14 -->\n<g id=\"node15\" class=\"node\">\n<title>14</title>\n<path fill=\"#8139e5\" stroke=\"black\" d=\"M560,-298.5C560,-298.5 474,-298.5 474,-298.5 468,-298.5 462,-292.5 462,-286.5 462,-286.5 462,-242.5 462,-242.5 462,-236.5 468,-230.5 474,-230.5 474,-230.5 560,-230.5 560,-230.5 566,-230.5 572,-236.5 572,-242.5 572,-242.5 572,-286.5 572,-286.5 572,-292.5 566,-298.5 560,-298.5\"/>\n<text text-anchor=\"middle\" x=\"517\" y=\"-283.3\" font-family=\"Helvetica,sans-Serif\" font-size=\"14.00\">entropy = 0.0</text>\n<text text-anchor=\"middle\" x=\"517\" y=\"-268.3\" font-family=\"Helvetica,sans-Serif\" font-size=\"14.00\">samples = 3</text>\n<text text-anchor=\"middle\" x=\"517\" y=\"-253.3\" font-family=\"Helvetica,sans-Serif\" font-size=\"14.00\">value = [0, 0, 3]</text>\n<text text-anchor=\"middle\" x=\"517\" y=\"-238.3\" font-family=\"Helvetica,sans-Serif\" font-size=\"14.00\">class = class_2</text>\n</g>\n<!-- 13&#45;&gt;14 -->\n<g id=\"edge14\" class=\"edge\">\n<title>13&#45;&gt;14</title>\n<path fill=\"none\" stroke=\"black\" d=\"M530.06,-341.91C528.23,-331.2 526.25,-319.62 524.4,-308.78\"/>\n<polygon fill=\"black\" stroke=\"black\" points=\"527.8,-307.93 522.67,-298.67 520.9,-309.11 527.8,-307.93\"/>\n</g>\n<!-- 15 -->\n<g id=\"node16\" class=\"node\">\n<title>15</title>\n<path fill=\"#7beeab\" stroke=\"black\" d=\"M751.5,-306C751.5,-306 602.5,-306 602.5,-306 596.5,-306 590.5,-300 590.5,-294 590.5,-294 590.5,-235 590.5,-235 590.5,-229 596.5,-223 602.5,-223 602.5,-223 751.5,-223 751.5,-223 757.5,-223 763.5,-229 763.5,-235 763.5,-235 763.5,-294 763.5,-294 763.5,-300 757.5,-306 751.5,-306\"/>\n<text text-anchor=\"middle\" x=\"677\" y=\"-290.8\" font-family=\"Helvetica,sans-Serif\" font-size=\"14.00\">proanthocyanins &lt;= 1.405</text>\n<text text-anchor=\"middle\" x=\"677\" y=\"-275.8\" font-family=\"Helvetica,sans-Serif\" font-size=\"14.00\">entropy = 0.811</text>\n<text text-anchor=\"middle\" x=\"677\" y=\"-260.8\" font-family=\"Helvetica,sans-Serif\" font-size=\"14.00\">samples = 4</text>\n<text text-anchor=\"middle\" x=\"677\" y=\"-245.8\" font-family=\"Helvetica,sans-Serif\" font-size=\"14.00\">value = [1, 3, 0]</text>\n<text text-anchor=\"middle\" x=\"677\" y=\"-230.8\" font-family=\"Helvetica,sans-Serif\" font-size=\"14.00\">class = class_1</text>\n</g>\n<!-- 13&#45;&gt;15 -->\n<g id=\"edge15\" class=\"edge\">\n<title>13&#45;&gt;15</title>\n<path fill=\"none\" stroke=\"black\" d=\"M585.57,-341.91C596.87,-332.47 608.98,-322.34 620.58,-312.65\"/>\n<polygon fill=\"black\" stroke=\"black\" points=\"623.08,-315.12 628.51,-306.02 618.6,-309.75 623.08,-315.12\"/>\n</g>\n<!-- 16 -->\n<g id=\"node17\" class=\"node\">\n<title>16</title>\n<path fill=\"#e58139\" stroke=\"black\" d=\"M710,-179.5C710,-179.5 624,-179.5 624,-179.5 618,-179.5 612,-173.5 612,-167.5 612,-167.5 612,-123.5 612,-123.5 612,-117.5 618,-111.5 624,-111.5 624,-111.5 710,-111.5 710,-111.5 716,-111.5 722,-117.5 722,-123.5 722,-123.5 722,-167.5 722,-167.5 722,-173.5 716,-179.5 710,-179.5\"/>\n<text text-anchor=\"middle\" x=\"667\" y=\"-164.3\" font-family=\"Helvetica,sans-Serif\" font-size=\"14.00\">entropy = 0.0</text>\n<text text-anchor=\"middle\" x=\"667\" y=\"-149.3\" font-family=\"Helvetica,sans-Serif\" font-size=\"14.00\">samples = 1</text>\n<text text-anchor=\"middle\" x=\"667\" y=\"-134.3\" font-family=\"Helvetica,sans-Serif\" font-size=\"14.00\">value = [1, 0, 0]</text>\n<text text-anchor=\"middle\" x=\"667\" y=\"-119.3\" font-family=\"Helvetica,sans-Serif\" font-size=\"14.00\">class = class_0</text>\n</g>\n<!-- 15&#45;&gt;16 -->\n<g id=\"edge16\" class=\"edge\">\n<title>15&#45;&gt;16</title>\n<path fill=\"none\" stroke=\"black\" d=\"M673.53,-222.91C672.62,-212.2 671.63,-200.62 670.7,-189.78\"/>\n<polygon fill=\"black\" stroke=\"black\" points=\"674.17,-189.33 669.83,-179.67 667.2,-189.93 674.17,-189.33\"/>\n</g>\n<!-- 17 -->\n<g id=\"node18\" class=\"node\">\n<title>17</title>\n<path fill=\"#39e581\" stroke=\"black\" d=\"M838,-179.5C838,-179.5 752,-179.5 752,-179.5 746,-179.5 740,-173.5 740,-167.5 740,-167.5 740,-123.5 740,-123.5 740,-117.5 746,-111.5 752,-111.5 752,-111.5 838,-111.5 838,-111.5 844,-111.5 850,-117.5 850,-123.5 850,-123.5 850,-167.5 850,-167.5 850,-173.5 844,-179.5 838,-179.5\"/>\n<text text-anchor=\"middle\" x=\"795\" y=\"-164.3\" font-family=\"Helvetica,sans-Serif\" font-size=\"14.00\">entropy = 0.0</text>\n<text text-anchor=\"middle\" x=\"795\" y=\"-149.3\" font-family=\"Helvetica,sans-Serif\" font-size=\"14.00\">samples = 3</text>\n<text text-anchor=\"middle\" x=\"795\" y=\"-134.3\" font-family=\"Helvetica,sans-Serif\" font-size=\"14.00\">value = [0, 3, 0]</text>\n<text text-anchor=\"middle\" x=\"795\" y=\"-119.3\" font-family=\"Helvetica,sans-Serif\" font-size=\"14.00\">class = class_1</text>\n</g>\n<!-- 15&#45;&gt;17 -->\n<g id=\"edge17\" class=\"edge\">\n<title>15&#45;&gt;17</title>\n<path fill=\"none\" stroke=\"black\" d=\"M717.94,-222.91C729.74,-211.21 742.6,-198.46 754.38,-186.78\"/>\n<polygon fill=\"black\" stroke=\"black\" points=\"756.91,-189.19 761.55,-179.67 751.98,-184.22 756.91,-189.19\"/>\n</g>\n</g>\n</svg>\n",
      "text/plain": [
       "<graphviz.sources.Source at 0x7f7adce876d0>"
      ]
     },
     "execution_count": 11,
     "metadata": {},
     "output_type": "execute_result"
    }
   ],
   "source": [
    "# 生成决策树，了解每个参数的作用\n",
    "# 通过修改上面clf的参数值，修改最终决策树的生成\n",
    "dot_data = tree.export_graphviz(clf\n",
    "                                ,feature_names=wine.feature_names\n",
    "                                ,class_names=wine.target_names\n",
    "                                ,filled=True\n",
    "                                ,rounded=True)\n",
    "graph = graphviz.Source(dot_data)\n",
    "graph"
   ]
  },
  {
   "cell_type": "code",
   "execution_count": 12,
   "metadata": {},
   "outputs": [
    {
     "data": {
      "text/plain": [
       "array([0.03479942, 0.        , 0.        , 0.03155462, 0.        ,\n",
       "       0.        , 0.40349322, 0.        , 0.01694818, 0.02877579,\n",
       "       0.        , 0.09737588, 0.38705288])"
      ]
     },
     "execution_count": 12,
     "metadata": {},
     "output_type": "execute_result"
    }
   ],
   "source": [
    "clf.feature_importances_    #查看每个属性的重要性"
   ]
  },
  {
   "cell_type": "code",
   "execution_count": 13,
   "metadata": {},
   "outputs": [
    {
     "data": {
      "text/plain": [
       "[('alcohol', 0.03479942258026868),\n",
       " ('malic_acid', 0.0),\n",
       " ('ash', 0.0),\n",
       " ('alcalinity_of_ash', 0.031554617979336376),\n",
       " ('magnesium', 0.0),\n",
       " ('total_phenols', 0.0),\n",
       " ('flavanoids', 0.40349321938771227),\n",
       " ('nonflavanoid_phenols', 0.0),\n",
       " ('proanthocyanins', 0.016948184280947114),\n",
       " ('color_intensity', 0.02877579195856681),\n",
       " ('hue', 0.0),\n",
       " ('od280/od315_of_diluted_wines', 0.09737588098277462),\n",
       " ('proline', 0.3870528828303942)]"
      ]
     },
     "execution_count": 13,
     "metadata": {},
     "output_type": "execute_result"
    }
   ],
   "source": [
    "[*zip(wine.feature_names,clf.feature_importances_)]     #将上面的importance与其属性值放置一起"
   ]
  },
  {
   "cell_type": "code",
   "execution_count": 18,
   "metadata": {},
   "outputs": [
    {
     "name": "stdout",
     "output_type": "stream",
     "text": [
      "0.9444444444444444\n"
     ]
    },
    {
     "data": {
      "image/svg+xml": "<?xml version=\"1.0\" encoding=\"UTF-8\" standalone=\"no\"?>\n<!DOCTYPE svg PUBLIC \"-//W3C//DTD SVG 1.1//EN\"\n \"http://www.w3.org/Graphics/SVG/1.1/DTD/svg11.dtd\">\n<!-- Generated by graphviz version 2.50.0 (0)\n -->\n<!-- Title: Tree Pages: 1 -->\n<svg width=\"813pt\" height=\"433pt\"\n viewBox=\"0.00 0.00 813.00 433.00\" xmlns=\"http://www.w3.org/2000/svg\" xmlns:xlink=\"http://www.w3.org/1999/xlink\">\n<g id=\"graph0\" class=\"graph\" transform=\"scale(1 1) rotate(0) translate(4 429)\">\n<title>Tree</title>\n<polygon fill=\"white\" stroke=\"transparent\" points=\"-4,4 -4,-429 809,-429 809,4 -4,4\"/>\n<!-- 0 -->\n<g id=\"node1\" class=\"node\">\n<title>0</title>\n<path fill=\"#defbea\" stroke=\"black\" d=\"M469.5,-425C469.5,-425 361.5,-425 361.5,-425 355.5,-425 349.5,-419 349.5,-413 349.5,-413 349.5,-354 349.5,-354 349.5,-348 355.5,-342 361.5,-342 361.5,-342 469.5,-342 469.5,-342 475.5,-342 481.5,-348 481.5,-354 481.5,-354 481.5,-413 481.5,-413 481.5,-419 475.5,-425 469.5,-425\"/>\n<text text-anchor=\"middle\" x=\"415.5\" y=\"-409.8\" font-family=\"Helvetica,sans-Serif\" font-size=\"14.00\">flavanoids &lt;= 2.24</text>\n<text text-anchor=\"middle\" x=\"415.5\" y=\"-394.8\" font-family=\"Helvetica,sans-Serif\" font-size=\"14.00\">entropy = 1.544</text>\n<text text-anchor=\"middle\" x=\"415.5\" y=\"-379.8\" font-family=\"Helvetica,sans-Serif\" font-size=\"14.00\">samples = 124</text>\n<text text-anchor=\"middle\" x=\"415.5\" y=\"-364.8\" font-family=\"Helvetica,sans-Serif\" font-size=\"14.00\">value = [40, 54, 30]</text>\n<text text-anchor=\"middle\" x=\"415.5\" y=\"-349.8\" font-family=\"Helvetica,sans-Serif\" font-size=\"14.00\">class = class_1</text>\n</g>\n<!-- 1 -->\n<g id=\"node2\" class=\"node\">\n<title>1</title>\n<path fill=\"#dffbeb\" stroke=\"black\" d=\"M427,-306C427,-306 190,-306 190,-306 184,-306 178,-300 178,-294 178,-294 178,-235 178,-235 178,-229 184,-223 190,-223 190,-223 427,-223 427,-223 433,-223 439,-229 439,-235 439,-235 439,-294 439,-294 439,-300 433,-306 427,-306\"/>\n<text text-anchor=\"middle\" x=\"308.5\" y=\"-290.8\" font-family=\"Helvetica,sans-Serif\" font-size=\"14.00\">od280/od315_of_diluted_wines &lt;= 2.222</text>\n<text text-anchor=\"middle\" x=\"308.5\" y=\"-275.8\" font-family=\"Helvetica,sans-Serif\" font-size=\"14.00\">entropy = 1.091</text>\n<text text-anchor=\"middle\" x=\"308.5\" y=\"-260.8\" font-family=\"Helvetica,sans-Serif\" font-size=\"14.00\">samples = 67</text>\n<text text-anchor=\"middle\" x=\"308.5\" y=\"-245.8\" font-family=\"Helvetica,sans-Serif\" font-size=\"14.00\">value = [1, 36, 30]</text>\n<text text-anchor=\"middle\" x=\"308.5\" y=\"-230.8\" font-family=\"Helvetica,sans-Serif\" font-size=\"14.00\">class = class_1</text>\n</g>\n<!-- 0&#45;&gt;1 -->\n<g id=\"edge1\" class=\"edge\">\n<title>0&#45;&gt;1</title>\n<path fill=\"none\" stroke=\"black\" d=\"M378.38,-341.91C369.99,-332.74 361.02,-322.93 352.39,-313.49\"/>\n<polygon fill=\"black\" stroke=\"black\" points=\"354.89,-311.04 345.56,-306.02 349.72,-315.76 354.89,-311.04\"/>\n<text text-anchor=\"middle\" x=\"344.44\" y=\"-327.3\" font-family=\"Helvetica,sans-Serif\" font-size=\"14.00\">True</text>\n</g>\n<!-- 8 -->\n<g id=\"node9\" class=\"node\">\n<title>8</title>\n<path fill=\"#f1bb94\" stroke=\"black\" d=\"M575.5,-306C575.5,-306 469.5,-306 469.5,-306 463.5,-306 457.5,-300 457.5,-294 457.5,-294 457.5,-235 457.5,-235 457.5,-229 463.5,-223 469.5,-223 469.5,-223 575.5,-223 575.5,-223 581.5,-223 587.5,-229 587.5,-235 587.5,-235 587.5,-294 587.5,-294 587.5,-300 581.5,-306 575.5,-306\"/>\n<text text-anchor=\"middle\" x=\"522.5\" y=\"-290.8\" font-family=\"Helvetica,sans-Serif\" font-size=\"14.00\">proline &lt;= 558.218</text>\n<text text-anchor=\"middle\" x=\"522.5\" y=\"-275.8\" font-family=\"Helvetica,sans-Serif\" font-size=\"14.00\">entropy = 0.9</text>\n<text text-anchor=\"middle\" x=\"522.5\" y=\"-260.8\" font-family=\"Helvetica,sans-Serif\" font-size=\"14.00\">samples = 57</text>\n<text text-anchor=\"middle\" x=\"522.5\" y=\"-245.8\" font-family=\"Helvetica,sans-Serif\" font-size=\"14.00\">value = [39, 18, 0]</text>\n<text text-anchor=\"middle\" x=\"522.5\" y=\"-230.8\" font-family=\"Helvetica,sans-Serif\" font-size=\"14.00\">class = class_0</text>\n</g>\n<!-- 0&#45;&gt;8 -->\n<g id=\"edge8\" class=\"edge\">\n<title>0&#45;&gt;8</title>\n<path fill=\"none\" stroke=\"black\" d=\"M452.62,-341.91C461.01,-332.74 469.98,-322.93 478.61,-313.49\"/>\n<polygon fill=\"black\" stroke=\"black\" points=\"481.28,-315.76 485.44,-306.02 476.11,-311.04 481.28,-315.76\"/>\n<text text-anchor=\"middle\" x=\"486.56\" y=\"-327.3\" font-family=\"Helvetica,sans-Serif\" font-size=\"14.00\">False</text>\n</g>\n<!-- 2 -->\n<g id=\"node3\" class=\"node\">\n<title>2</title>\n<path fill=\"#a470ec\" stroke=\"black\" d=\"M235,-187C235,-187 142,-187 142,-187 136,-187 130,-181 130,-175 130,-175 130,-116 130,-116 130,-110 136,-104 142,-104 142,-104 235,-104 235,-104 241,-104 247,-110 247,-116 247,-116 247,-175 247,-175 247,-181 241,-187 235,-187\"/>\n<text text-anchor=\"middle\" x=\"188.5\" y=\"-171.8\" font-family=\"Helvetica,sans-Serif\" font-size=\"14.00\">hue &lt;= 0.95</text>\n<text text-anchor=\"middle\" x=\"188.5\" y=\"-156.8\" font-family=\"Helvetica,sans-Serif\" font-size=\"14.00\">entropy = 0.753</text>\n<text text-anchor=\"middle\" x=\"188.5\" y=\"-141.8\" font-family=\"Helvetica,sans-Serif\" font-size=\"14.00\">samples = 37</text>\n<text text-anchor=\"middle\" x=\"188.5\" y=\"-126.8\" font-family=\"Helvetica,sans-Serif\" font-size=\"14.00\">value = [0, 8, 29]</text>\n<text text-anchor=\"middle\" x=\"188.5\" y=\"-111.8\" font-family=\"Helvetica,sans-Serif\" font-size=\"14.00\">class = class_2</text>\n</g>\n<!-- 1&#45;&gt;2 -->\n<g id=\"edge2\" class=\"edge\">\n<title>1&#45;&gt;2</title>\n<path fill=\"none\" stroke=\"black\" d=\"M266.87,-222.91C257.37,-213.65 247.2,-203.73 237.43,-194.21\"/>\n<polygon fill=\"black\" stroke=\"black\" points=\"239.66,-191.5 230.06,-187.02 234.78,-196.51 239.66,-191.5\"/>\n</g>\n<!-- 5 -->\n<g id=\"node6\" class=\"node\">\n<title>5</title>\n<path fill=\"#47e78a\" stroke=\"black\" d=\"M378,-187C378,-187 277,-187 277,-187 271,-187 265,-181 265,-175 265,-175 265,-116 265,-116 265,-110 271,-104 277,-104 277,-104 378,-104 378,-104 384,-104 390,-110 390,-116 390,-116 390,-175 390,-175 390,-181 384,-187 378,-187\"/>\n<text text-anchor=\"middle\" x=\"327.5\" y=\"-171.8\" font-family=\"Helvetica,sans-Serif\" font-size=\"14.00\">alcohol &lt;= 12.679</text>\n<text text-anchor=\"middle\" x=\"327.5\" y=\"-156.8\" font-family=\"Helvetica,sans-Serif\" font-size=\"14.00\">entropy = 0.42</text>\n<text text-anchor=\"middle\" x=\"327.5\" y=\"-141.8\" font-family=\"Helvetica,sans-Serif\" font-size=\"14.00\">samples = 30</text>\n<text text-anchor=\"middle\" x=\"327.5\" y=\"-126.8\" font-family=\"Helvetica,sans-Serif\" font-size=\"14.00\">value = [1, 28, 1]</text>\n<text text-anchor=\"middle\" x=\"327.5\" y=\"-111.8\" font-family=\"Helvetica,sans-Serif\" font-size=\"14.00\">class = class_1</text>\n</g>\n<!-- 1&#45;&gt;5 -->\n<g id=\"edge5\" class=\"edge\">\n<title>1&#45;&gt;5</title>\n<path fill=\"none\" stroke=\"black\" d=\"M315.09,-222.91C316.45,-214.56 317.89,-205.67 319.3,-197.02\"/>\n<polygon fill=\"black\" stroke=\"black\" points=\"322.77,-197.45 320.92,-187.02 315.86,-196.33 322.77,-197.45\"/>\n</g>\n<!-- 3 -->\n<g id=\"node4\" class=\"node\">\n<title>3</title>\n<path fill=\"#8e4ee8\" stroke=\"black\" d=\"M105,-68C105,-68 12,-68 12,-68 6,-68 0,-62 0,-56 0,-56 0,-12 0,-12 0,-6 6,0 12,0 12,0 105,0 105,0 111,0 117,-6 117,-12 117,-12 117,-56 117,-56 117,-62 111,-68 105,-68\"/>\n<text text-anchor=\"middle\" x=\"58.5\" y=\"-52.8\" font-family=\"Helvetica,sans-Serif\" font-size=\"14.00\">entropy = 0.459</text>\n<text text-anchor=\"middle\" x=\"58.5\" y=\"-37.8\" font-family=\"Helvetica,sans-Serif\" font-size=\"14.00\">samples = 31</text>\n<text text-anchor=\"middle\" x=\"58.5\" y=\"-22.8\" font-family=\"Helvetica,sans-Serif\" font-size=\"14.00\">value = [0, 3, 28]</text>\n<text text-anchor=\"middle\" x=\"58.5\" y=\"-7.8\" font-family=\"Helvetica,sans-Serif\" font-size=\"14.00\">class = class_2</text>\n</g>\n<!-- 2&#45;&gt;3 -->\n<g id=\"edge3\" class=\"edge\">\n<title>2&#45;&gt;3</title>\n<path fill=\"none\" stroke=\"black\" d=\"M140.09,-103.73C128.94,-94.33 117.09,-84.35 105.97,-74.99\"/>\n<polygon fill=\"black\" stroke=\"black\" points=\"107.94,-72.06 98.03,-68.3 103.43,-77.42 107.94,-72.06\"/>\n</g>\n<!-- 4 -->\n<g id=\"node5\" class=\"node\">\n<title>4</title>\n<path fill=\"#61ea9a\" stroke=\"black\" d=\"M233.5,-68C233.5,-68 147.5,-68 147.5,-68 141.5,-68 135.5,-62 135.5,-56 135.5,-56 135.5,-12 135.5,-12 135.5,-6 141.5,0 147.5,0 147.5,0 233.5,0 233.5,0 239.5,0 245.5,-6 245.5,-12 245.5,-12 245.5,-56 245.5,-56 245.5,-62 239.5,-68 233.5,-68\"/>\n<text text-anchor=\"middle\" x=\"190.5\" y=\"-52.8\" font-family=\"Helvetica,sans-Serif\" font-size=\"14.00\">entropy = 0.65</text>\n<text text-anchor=\"middle\" x=\"190.5\" y=\"-37.8\" font-family=\"Helvetica,sans-Serif\" font-size=\"14.00\">samples = 6</text>\n<text text-anchor=\"middle\" x=\"190.5\" y=\"-22.8\" font-family=\"Helvetica,sans-Serif\" font-size=\"14.00\">value = [0, 5, 1]</text>\n<text text-anchor=\"middle\" x=\"190.5\" y=\"-7.8\" font-family=\"Helvetica,sans-Serif\" font-size=\"14.00\">class = class_1</text>\n</g>\n<!-- 2&#45;&gt;4 -->\n<g id=\"edge4\" class=\"edge\">\n<title>2&#45;&gt;4</title>\n<path fill=\"none\" stroke=\"black\" d=\"M189.24,-103.73C189.39,-95.52 189.55,-86.86 189.7,-78.56\"/>\n<polygon fill=\"black\" stroke=\"black\" points=\"193.21,-78.36 189.89,-68.3 186.21,-78.23 193.21,-78.36\"/>\n</g>\n<!-- 6 -->\n<g id=\"node7\" class=\"node\">\n<title>6</title>\n<path fill=\"#39e581\" stroke=\"black\" d=\"M372,-68C372,-68 279,-68 279,-68 273,-68 267,-62 267,-56 267,-56 267,-12 267,-12 267,-6 273,0 279,0 279,0 372,0 372,0 378,0 384,-6 384,-12 384,-12 384,-56 384,-56 384,-62 378,-68 372,-68\"/>\n<text text-anchor=\"middle\" x=\"325.5\" y=\"-52.8\" font-family=\"Helvetica,sans-Serif\" font-size=\"14.00\">entropy = 0.0</text>\n<text text-anchor=\"middle\" x=\"325.5\" y=\"-37.8\" font-family=\"Helvetica,sans-Serif\" font-size=\"14.00\">samples = 25</text>\n<text text-anchor=\"middle\" x=\"325.5\" y=\"-22.8\" font-family=\"Helvetica,sans-Serif\" font-size=\"14.00\">value = [0, 25, 0]</text>\n<text text-anchor=\"middle\" x=\"325.5\" y=\"-7.8\" font-family=\"Helvetica,sans-Serif\" font-size=\"14.00\">class = class_1</text>\n</g>\n<!-- 5&#45;&gt;6 -->\n<g id=\"edge6\" class=\"edge\">\n<title>5&#45;&gt;6</title>\n<path fill=\"none\" stroke=\"black\" d=\"M326.76,-103.73C326.61,-95.52 326.45,-86.86 326.3,-78.56\"/>\n<polygon fill=\"black\" stroke=\"black\" points=\"329.79,-78.23 326.11,-68.3 322.79,-78.36 329.79,-78.23\"/>\n</g>\n<!-- 7 -->\n<g id=\"node8\" class=\"node\">\n<title>7</title>\n<path fill=\"#9cf2c0\" stroke=\"black\" d=\"M501,-68C501,-68 414,-68 414,-68 408,-68 402,-62 402,-56 402,-56 402,-12 402,-12 402,-6 408,0 414,0 414,0 501,0 501,0 507,0 513,-6 513,-12 513,-12 513,-56 513,-56 513,-62 507,-68 501,-68\"/>\n<text text-anchor=\"middle\" x=\"457.5\" y=\"-52.8\" font-family=\"Helvetica,sans-Serif\" font-size=\"14.00\">entropy = 1.371</text>\n<text text-anchor=\"middle\" x=\"457.5\" y=\"-37.8\" font-family=\"Helvetica,sans-Serif\" font-size=\"14.00\">samples = 5</text>\n<text text-anchor=\"middle\" x=\"457.5\" y=\"-22.8\" font-family=\"Helvetica,sans-Serif\" font-size=\"14.00\">value = [1, 3, 1]</text>\n<text text-anchor=\"middle\" x=\"457.5\" y=\"-7.8\" font-family=\"Helvetica,sans-Serif\" font-size=\"14.00\">class = class_1</text>\n</g>\n<!-- 5&#45;&gt;7 -->\n<g id=\"edge7\" class=\"edge\">\n<title>5&#45;&gt;7</title>\n<path fill=\"none\" stroke=\"black\" d=\"M375.91,-103.73C387.06,-94.33 398.91,-84.35 410.03,-74.99\"/>\n<polygon fill=\"black\" stroke=\"black\" points=\"412.57,-77.42 417.97,-68.3 408.06,-72.06 412.57,-77.42\"/>\n</g>\n<!-- 9 -->\n<g id=\"node10\" class=\"node\">\n<title>9</title>\n<path fill=\"#39e581\" stroke=\"black\" d=\"M550,-179.5C550,-179.5 457,-179.5 457,-179.5 451,-179.5 445,-173.5 445,-167.5 445,-167.5 445,-123.5 445,-123.5 445,-117.5 451,-111.5 457,-111.5 457,-111.5 550,-111.5 550,-111.5 556,-111.5 562,-117.5 562,-123.5 562,-123.5 562,-167.5 562,-167.5 562,-173.5 556,-179.5 550,-179.5\"/>\n<text text-anchor=\"middle\" x=\"503.5\" y=\"-164.3\" font-family=\"Helvetica,sans-Serif\" font-size=\"14.00\">entropy = 0.0</text>\n<text text-anchor=\"middle\" x=\"503.5\" y=\"-149.3\" font-family=\"Helvetica,sans-Serif\" font-size=\"14.00\">samples = 13</text>\n<text text-anchor=\"middle\" x=\"503.5\" y=\"-134.3\" font-family=\"Helvetica,sans-Serif\" font-size=\"14.00\">value = [0, 13, 0]</text>\n<text text-anchor=\"middle\" x=\"503.5\" y=\"-119.3\" font-family=\"Helvetica,sans-Serif\" font-size=\"14.00\">class = class_1</text>\n</g>\n<!-- 8&#45;&gt;9 -->\n<g id=\"edge9\" class=\"edge\">\n<title>8&#45;&gt;9</title>\n<path fill=\"none\" stroke=\"black\" d=\"M515.91,-222.91C514.17,-212.2 512.29,-200.62 510.53,-189.78\"/>\n<polygon fill=\"black\" stroke=\"black\" points=\"513.94,-188.98 508.89,-179.67 507.03,-190.1 513.94,-188.98\"/>\n</g>\n<!-- 10 -->\n<g id=\"node11\" class=\"node\">\n<title>10</title>\n<path fill=\"#e89152\" stroke=\"black\" d=\"M693,-187C693,-187 592,-187 592,-187 586,-187 580,-181 580,-175 580,-175 580,-116 580,-116 580,-110 586,-104 592,-104 592,-104 693,-104 693,-104 699,-104 705,-110 705,-116 705,-116 705,-175 705,-175 705,-181 699,-187 693,-187\"/>\n<text text-anchor=\"middle\" x=\"642.5\" y=\"-171.8\" font-family=\"Helvetica,sans-Serif\" font-size=\"14.00\">alcohol &lt;= 12.689</text>\n<text text-anchor=\"middle\" x=\"642.5\" y=\"-156.8\" font-family=\"Helvetica,sans-Serif\" font-size=\"14.00\">entropy = 0.511</text>\n<text text-anchor=\"middle\" x=\"642.5\" y=\"-141.8\" font-family=\"Helvetica,sans-Serif\" font-size=\"14.00\">samples = 44</text>\n<text text-anchor=\"middle\" x=\"642.5\" y=\"-126.8\" font-family=\"Helvetica,sans-Serif\" font-size=\"14.00\">value = [39, 5, 0]</text>\n<text text-anchor=\"middle\" x=\"642.5\" y=\"-111.8\" font-family=\"Helvetica,sans-Serif\" font-size=\"14.00\">class = class_0</text>\n</g>\n<!-- 8&#45;&gt;10 -->\n<g id=\"edge10\" class=\"edge\">\n<title>8&#45;&gt;10</title>\n<path fill=\"none\" stroke=\"black\" d=\"M564.13,-222.91C573.63,-213.65 583.8,-203.73 593.57,-194.21\"/>\n<polygon fill=\"black\" stroke=\"black\" points=\"596.22,-196.51 600.94,-187.02 591.34,-191.5 596.22,-196.51\"/>\n</g>\n<!-- 11 -->\n<g id=\"node12\" class=\"node\">\n<title>11</title>\n<path fill=\"#39e581\" stroke=\"black\" d=\"M657.5,-68C657.5,-68 571.5,-68 571.5,-68 565.5,-68 559.5,-62 559.5,-56 559.5,-56 559.5,-12 559.5,-12 559.5,-6 565.5,0 571.5,0 571.5,0 657.5,0 657.5,0 663.5,0 669.5,-6 669.5,-12 669.5,-12 669.5,-56 669.5,-56 669.5,-62 663.5,-68 657.5,-68\"/>\n<text text-anchor=\"middle\" x=\"614.5\" y=\"-52.8\" font-family=\"Helvetica,sans-Serif\" font-size=\"14.00\">entropy = 0.0</text>\n<text text-anchor=\"middle\" x=\"614.5\" y=\"-37.8\" font-family=\"Helvetica,sans-Serif\" font-size=\"14.00\">samples = 5</text>\n<text text-anchor=\"middle\" x=\"614.5\" y=\"-22.8\" font-family=\"Helvetica,sans-Serif\" font-size=\"14.00\">value = [0, 5, 0]</text>\n<text text-anchor=\"middle\" x=\"614.5\" y=\"-7.8\" font-family=\"Helvetica,sans-Serif\" font-size=\"14.00\">class = class_1</text>\n</g>\n<!-- 10&#45;&gt;11 -->\n<g id=\"edge11\" class=\"edge\">\n<title>10&#45;&gt;11</title>\n<path fill=\"none\" stroke=\"black\" d=\"M632.07,-103.73C629.93,-95.34 627.66,-86.47 625.5,-78.01\"/>\n<polygon fill=\"black\" stroke=\"black\" points=\"628.88,-77.12 623.01,-68.3 622.1,-78.85 628.88,-77.12\"/>\n</g>\n<!-- 12 -->\n<g id=\"node13\" class=\"node\">\n<title>12</title>\n<path fill=\"#e58139\" stroke=\"black\" d=\"M793,-68C793,-68 700,-68 700,-68 694,-68 688,-62 688,-56 688,-56 688,-12 688,-12 688,-6 694,0 700,0 700,0 793,0 793,0 799,0 805,-6 805,-12 805,-12 805,-56 805,-56 805,-62 799,-68 793,-68\"/>\n<text text-anchor=\"middle\" x=\"746.5\" y=\"-52.8\" font-family=\"Helvetica,sans-Serif\" font-size=\"14.00\">entropy = 0.0</text>\n<text text-anchor=\"middle\" x=\"746.5\" y=\"-37.8\" font-family=\"Helvetica,sans-Serif\" font-size=\"14.00\">samples = 39</text>\n<text text-anchor=\"middle\" x=\"746.5\" y=\"-22.8\" font-family=\"Helvetica,sans-Serif\" font-size=\"14.00\">value = [39, 0, 0]</text>\n<text text-anchor=\"middle\" x=\"746.5\" y=\"-7.8\" font-family=\"Helvetica,sans-Serif\" font-size=\"14.00\">class = class_0</text>\n</g>\n<!-- 10&#45;&gt;12 -->\n<g id=\"edge12\" class=\"edge\">\n<title>10&#45;&gt;12</title>\n<path fill=\"none\" stroke=\"black\" d=\"M681.23,-103.73C689.89,-94.61 699.08,-84.93 707.74,-75.81\"/>\n<polygon fill=\"black\" stroke=\"black\" points=\"710.52,-77.96 714.87,-68.3 705.45,-73.14 710.52,-77.96\"/>\n</g>\n</g>\n</svg>\n",
      "text/plain": [
       "<graphviz.sources.Source at 0x7f7adb2c19a0>"
      ]
     },
     "execution_count": 18,
     "metadata": {},
     "output_type": "execute_result"
    }
   ],
   "source": [
    "# 决策树的参数探索，final，整合了上面所有的代码\n",
    "clf = tree.DecisionTreeClassifier(criterion='entropy'\n",
    "                                ,splitter='random'\n",
    "                                ,random_state=30\n",
    "                                ,max_depth=3\n",
    "                                ,min_samples_leaf=4\n",
    "                                ,min_samples_split=10\n",
    "                                )\n",
    "clf.fit(x_train,y_train)\n",
    "result = clf.score(x_test,y_test)\n",
    "print(result)\n",
    "dot_data = tree.export_graphviz(clf\n",
    "                                ,feature_names=wine.feature_names\n",
    "                                ,class_names=wine.target_names\n",
    "                                ,filled=True\n",
    "                                ,rounded=True)\n",
    "graph = graphviz.Source(dot_data)\n",
    "graph"
   ]
  },
  {
   "cell_type": "code",
   "execution_count": null,
   "metadata": {},
   "outputs": [],
   "source": []
  }
 ],
 "metadata": {
  "kernelspec": {
   "display_name": "Python 3.9.13 ('ML')",
   "language": "python",
   "name": "python3"
  },
  "language_info": {
   "codemirror_mode": {
    "name": "ipython",
    "version": 3
   },
   "file_extension": ".py",
   "mimetype": "text/x-python",
   "name": "python",
   "nbconvert_exporter": "python",
   "pygments_lexer": "ipython3",
   "version": "3.9.13"
  },
  "orig_nbformat": 4,
  "vscode": {
   "interpreter": {
    "hash": "527e1f183729315cc0b20e076f8fa01a9ad5031799e510482f8c5a1d9432ab9a"
   }
  }
 },
 "nbformat": 4,
 "nbformat_minor": 2
}
