{
 "cells": [
  {
   "cell_type": "code",
   "execution_count": 1,
   "id": "71e52b49",
   "metadata": {},
   "outputs": [],
   "source": [
    "import pandas as pd \n",
    "import numpy as np"
   ]
  },
  {
   "cell_type": "code",
   "execution_count": 2,
   "id": "36e8213f",
   "metadata": {},
   "outputs": [],
   "source": [
    "# 股票波动曲线案例\n",
    "stock_change = np.random.normal(0,1,(10,5))"
   ]
  },
  {
   "cell_type": "code",
   "execution_count": 3,
   "id": "cf7c74b7",
   "metadata": {
    "collapsed": true
   },
   "outputs": [
    {
     "data": {
      "text/plain": [
       "array([[-0.23460298, -1.03226682, -0.00844998,  1.17686298, -0.55235011],\n",
       "       [ 0.28601282,  1.94819684,  0.92917075,  0.77124539,  0.60633774],\n",
       "       [-0.22534219, -0.22833394,  0.16465943,  0.60911891,  0.97836321],\n",
       "       [ 0.49883283, -1.15839314,  0.51463101, -1.88071199, -0.61878296],\n",
       "       [ 1.04104687,  1.64428365, -0.38544806,  0.26862568,  0.20253444],\n",
       "       [-1.15555142,  1.14383137, -1.33273642, -2.0702834 ,  0.73172795],\n",
       "       [ 1.00408563, -2.19244023,  0.38117422, -0.03252096, -0.68253811],\n",
       "       [-1.9928639 , -1.58156086, -0.75318756, -0.20498417,  0.4965073 ],\n",
       "       [ 0.09454132,  0.62627882, -1.29295776,  0.96366831, -0.30398293],\n",
       "       [-1.72170493,  1.72884063, -0.57871076, -0.58447894, -0.28474537]])"
      ]
     },
     "execution_count": 3,
     "metadata": {},
     "output_type": "execute_result"
    }
   ],
   "source": [
    "stock_change"
   ]
  },
  {
   "cell_type": "code",
   "execution_count": 4,
   "id": "508aeb28",
   "metadata": {},
   "outputs": [],
   "source": [
    "stock_rise = pd.DataFrame(stock_change)"
   ]
  },
  {
   "cell_type": "code",
   "execution_count": 5,
   "id": "c1af53db",
   "metadata": {
    "collapsed": true
   },
   "outputs": [
    {
     "data": {
      "text/html": [
       "<div>\n",
       "<style scoped>\n",
       "    .dataframe tbody tr th:only-of-type {\n",
       "        vertical-align: middle;\n",
       "    }\n",
       "\n",
       "    .dataframe tbody tr th {\n",
       "        vertical-align: top;\n",
       "    }\n",
       "\n",
       "    .dataframe thead th {\n",
       "        text-align: right;\n",
       "    }\n",
       "</style>\n",
       "<table border=\"1\" class=\"dataframe\">\n",
       "  <thead>\n",
       "    <tr style=\"text-align: right;\">\n",
       "      <th></th>\n",
       "      <th>0</th>\n",
       "      <th>1</th>\n",
       "      <th>2</th>\n",
       "      <th>3</th>\n",
       "      <th>4</th>\n",
       "    </tr>\n",
       "  </thead>\n",
       "  <tbody>\n",
       "    <tr>\n",
       "      <th>0</th>\n",
       "      <td>-0.234603</td>\n",
       "      <td>-1.032267</td>\n",
       "      <td>-0.008450</td>\n",
       "      <td>1.176863</td>\n",
       "      <td>-0.552350</td>\n",
       "    </tr>\n",
       "    <tr>\n",
       "      <th>1</th>\n",
       "      <td>0.286013</td>\n",
       "      <td>1.948197</td>\n",
       "      <td>0.929171</td>\n",
       "      <td>0.771245</td>\n",
       "      <td>0.606338</td>\n",
       "    </tr>\n",
       "    <tr>\n",
       "      <th>2</th>\n",
       "      <td>-0.225342</td>\n",
       "      <td>-0.228334</td>\n",
       "      <td>0.164659</td>\n",
       "      <td>0.609119</td>\n",
       "      <td>0.978363</td>\n",
       "    </tr>\n",
       "    <tr>\n",
       "      <th>3</th>\n",
       "      <td>0.498833</td>\n",
       "      <td>-1.158393</td>\n",
       "      <td>0.514631</td>\n",
       "      <td>-1.880712</td>\n",
       "      <td>-0.618783</td>\n",
       "    </tr>\n",
       "    <tr>\n",
       "      <th>4</th>\n",
       "      <td>1.041047</td>\n",
       "      <td>1.644284</td>\n",
       "      <td>-0.385448</td>\n",
       "      <td>0.268626</td>\n",
       "      <td>0.202534</td>\n",
       "    </tr>\n",
       "    <tr>\n",
       "      <th>5</th>\n",
       "      <td>-1.155551</td>\n",
       "      <td>1.143831</td>\n",
       "      <td>-1.332736</td>\n",
       "      <td>-2.070283</td>\n",
       "      <td>0.731728</td>\n",
       "    </tr>\n",
       "    <tr>\n",
       "      <th>6</th>\n",
       "      <td>1.004086</td>\n",
       "      <td>-2.192440</td>\n",
       "      <td>0.381174</td>\n",
       "      <td>-0.032521</td>\n",
       "      <td>-0.682538</td>\n",
       "    </tr>\n",
       "    <tr>\n",
       "      <th>7</th>\n",
       "      <td>-1.992864</td>\n",
       "      <td>-1.581561</td>\n",
       "      <td>-0.753188</td>\n",
       "      <td>-0.204984</td>\n",
       "      <td>0.496507</td>\n",
       "    </tr>\n",
       "    <tr>\n",
       "      <th>8</th>\n",
       "      <td>0.094541</td>\n",
       "      <td>0.626279</td>\n",
       "      <td>-1.292958</td>\n",
       "      <td>0.963668</td>\n",
       "      <td>-0.303983</td>\n",
       "    </tr>\n",
       "    <tr>\n",
       "      <th>9</th>\n",
       "      <td>-1.721705</td>\n",
       "      <td>1.728841</td>\n",
       "      <td>-0.578711</td>\n",
       "      <td>-0.584479</td>\n",
       "      <td>-0.284745</td>\n",
       "    </tr>\n",
       "  </tbody>\n",
       "</table>\n",
       "</div>"
      ],
      "text/plain": [
       "          0         1         2         3         4\n",
       "0 -0.234603 -1.032267 -0.008450  1.176863 -0.552350\n",
       "1  0.286013  1.948197  0.929171  0.771245  0.606338\n",
       "2 -0.225342 -0.228334  0.164659  0.609119  0.978363\n",
       "3  0.498833 -1.158393  0.514631 -1.880712 -0.618783\n",
       "4  1.041047  1.644284 -0.385448  0.268626  0.202534\n",
       "5 -1.155551  1.143831 -1.332736 -2.070283  0.731728\n",
       "6  1.004086 -2.192440  0.381174 -0.032521 -0.682538\n",
       "7 -1.992864 -1.581561 -0.753188 -0.204984  0.496507\n",
       "8  0.094541  0.626279 -1.292958  0.963668 -0.303983\n",
       "9 -1.721705  1.728841 -0.578711 -0.584479 -0.284745"
      ]
     },
     "execution_count": 5,
     "metadata": {},
     "output_type": "execute_result"
    }
   ],
   "source": [
    "stock_rise"
   ]
  },
  {
   "cell_type": "code",
   "execution_count": 6,
   "id": "9fd8c9ec",
   "metadata": {
    "collapsed": true
   },
   "outputs": [
    {
     "data": {
      "text/plain": [
       "(10, 5)"
      ]
     },
     "execution_count": 6,
     "metadata": {},
     "output_type": "execute_result"
    }
   ],
   "source": [
    "stock_rise.shape"
   ]
  },
  {
   "cell_type": "code",
   "execution_count": 7,
   "id": "d02b5fbf",
   "metadata": {
    "collapsed": true
   },
   "outputs": [
    {
     "data": {
      "text/plain": [
       "10"
      ]
     },
     "execution_count": 7,
     "metadata": {},
     "output_type": "execute_result"
    }
   ],
   "source": [
    "stock_rise.shape[0]"
   ]
  },
  {
   "cell_type": "code",
   "execution_count": 8,
   "id": "71f76d8f",
   "metadata": {},
   "outputs": [],
   "source": [
    "stock_code = [\"股票{}\".format(i+1) for i in range(stock_rise.shape[0])]"
   ]
  },
  {
   "cell_type": "code",
   "execution_count": 9,
   "id": "3c45ebf2",
   "metadata": {
    "collapsed": true
   },
   "outputs": [
    {
     "data": {
      "text/plain": [
       "['股票1', '股票2', '股票3', '股票4', '股票5', '股票6', '股票7', '股票8', '股票9', '股票10']"
      ]
     },
     "execution_count": 9,
     "metadata": {},
     "output_type": "execute_result"
    }
   ],
   "source": [
    "stock_code"
   ]
  },
  {
   "cell_type": "code",
   "execution_count": 10,
   "id": "c1a5af7b",
   "metadata": {
    "collapsed": true
   },
   "outputs": [
    {
     "data": {
      "text/html": [
       "<div>\n",
       "<style scoped>\n",
       "    .dataframe tbody tr th:only-of-type {\n",
       "        vertical-align: middle;\n",
       "    }\n",
       "\n",
       "    .dataframe tbody tr th {\n",
       "        vertical-align: top;\n",
       "    }\n",
       "\n",
       "    .dataframe thead th {\n",
       "        text-align: right;\n",
       "    }\n",
       "</style>\n",
       "<table border=\"1\" class=\"dataframe\">\n",
       "  <thead>\n",
       "    <tr style=\"text-align: right;\">\n",
       "      <th></th>\n",
       "      <th>0</th>\n",
       "      <th>1</th>\n",
       "      <th>2</th>\n",
       "      <th>3</th>\n",
       "      <th>4</th>\n",
       "    </tr>\n",
       "  </thead>\n",
       "  <tbody>\n",
       "    <tr>\n",
       "      <th>股票1</th>\n",
       "      <td>-0.234603</td>\n",
       "      <td>-1.032267</td>\n",
       "      <td>-0.008450</td>\n",
       "      <td>1.176863</td>\n",
       "      <td>-0.552350</td>\n",
       "    </tr>\n",
       "    <tr>\n",
       "      <th>股票2</th>\n",
       "      <td>0.286013</td>\n",
       "      <td>1.948197</td>\n",
       "      <td>0.929171</td>\n",
       "      <td>0.771245</td>\n",
       "      <td>0.606338</td>\n",
       "    </tr>\n",
       "    <tr>\n",
       "      <th>股票3</th>\n",
       "      <td>-0.225342</td>\n",
       "      <td>-0.228334</td>\n",
       "      <td>0.164659</td>\n",
       "      <td>0.609119</td>\n",
       "      <td>0.978363</td>\n",
       "    </tr>\n",
       "    <tr>\n",
       "      <th>股票4</th>\n",
       "      <td>0.498833</td>\n",
       "      <td>-1.158393</td>\n",
       "      <td>0.514631</td>\n",
       "      <td>-1.880712</td>\n",
       "      <td>-0.618783</td>\n",
       "    </tr>\n",
       "    <tr>\n",
       "      <th>股票5</th>\n",
       "      <td>1.041047</td>\n",
       "      <td>1.644284</td>\n",
       "      <td>-0.385448</td>\n",
       "      <td>0.268626</td>\n",
       "      <td>0.202534</td>\n",
       "    </tr>\n",
       "    <tr>\n",
       "      <th>股票6</th>\n",
       "      <td>-1.155551</td>\n",
       "      <td>1.143831</td>\n",
       "      <td>-1.332736</td>\n",
       "      <td>-2.070283</td>\n",
       "      <td>0.731728</td>\n",
       "    </tr>\n",
       "    <tr>\n",
       "      <th>股票7</th>\n",
       "      <td>1.004086</td>\n",
       "      <td>-2.192440</td>\n",
       "      <td>0.381174</td>\n",
       "      <td>-0.032521</td>\n",
       "      <td>-0.682538</td>\n",
       "    </tr>\n",
       "    <tr>\n",
       "      <th>股票8</th>\n",
       "      <td>-1.992864</td>\n",
       "      <td>-1.581561</td>\n",
       "      <td>-0.753188</td>\n",
       "      <td>-0.204984</td>\n",
       "      <td>0.496507</td>\n",
       "    </tr>\n",
       "    <tr>\n",
       "      <th>股票9</th>\n",
       "      <td>0.094541</td>\n",
       "      <td>0.626279</td>\n",
       "      <td>-1.292958</td>\n",
       "      <td>0.963668</td>\n",
       "      <td>-0.303983</td>\n",
       "    </tr>\n",
       "    <tr>\n",
       "      <th>股票10</th>\n",
       "      <td>-1.721705</td>\n",
       "      <td>1.728841</td>\n",
       "      <td>-0.578711</td>\n",
       "      <td>-0.584479</td>\n",
       "      <td>-0.284745</td>\n",
       "    </tr>\n",
       "  </tbody>\n",
       "</table>\n",
       "</div>"
      ],
      "text/plain": [
       "             0         1         2         3         4\n",
       "股票1  -0.234603 -1.032267 -0.008450  1.176863 -0.552350\n",
       "股票2   0.286013  1.948197  0.929171  0.771245  0.606338\n",
       "股票3  -0.225342 -0.228334  0.164659  0.609119  0.978363\n",
       "股票4   0.498833 -1.158393  0.514631 -1.880712 -0.618783\n",
       "股票5   1.041047  1.644284 -0.385448  0.268626  0.202534\n",
       "股票6  -1.155551  1.143831 -1.332736 -2.070283  0.731728\n",
       "股票7   1.004086 -2.192440  0.381174 -0.032521 -0.682538\n",
       "股票8  -1.992864 -1.581561 -0.753188 -0.204984  0.496507\n",
       "股票9   0.094541  0.626279 -1.292958  0.963668 -0.303983\n",
       "股票10 -1.721705  1.728841 -0.578711 -0.584479 -0.284745"
      ]
     },
     "execution_count": 10,
     "metadata": {},
     "output_type": "execute_result"
    }
   ],
   "source": [
    "pd.DataFrame(stock_change,index=stock_code)"
   ]
  },
  {
   "cell_type": "code",
   "execution_count": 11,
   "id": "55208859",
   "metadata": {
    "code_folding": []
   },
   "outputs": [],
   "source": [
    "# 增加列索引 日期\n",
    "date = pd.date_range(start='20220305',periods=stock_rise.shape[1])"
   ]
  },
  {
   "cell_type": "code",
   "execution_count": 12,
   "id": "b084fbea",
   "metadata": {},
   "outputs": [
    {
     "data": {
      "text/plain": [
       "DatetimeIndex(['2022-03-05', '2022-03-06', '2022-03-07', '2022-03-08',\n",
       "               '2022-03-09'],\n",
       "              dtype='datetime64[ns]', freq='D')"
      ]
     },
     "execution_count": 12,
     "metadata": {},
     "output_type": "execute_result"
    }
   ],
   "source": [
    "date"
   ]
  },
  {
   "cell_type": "code",
   "execution_count": 13,
   "id": "e5f67a7c",
   "metadata": {},
   "outputs": [],
   "source": [
    "stock_c = pd.DataFrame(stock_change,index=stock_code,columns=date)"
   ]
  },
  {
   "cell_type": "code",
   "execution_count": 14,
   "id": "72fc5c31",
   "metadata": {
    "collapsed": true
   },
   "outputs": [
    {
     "data": {
      "text/html": [
       "<div>\n",
       "<style scoped>\n",
       "    .dataframe tbody tr th:only-of-type {\n",
       "        vertical-align: middle;\n",
       "    }\n",
       "\n",
       "    .dataframe tbody tr th {\n",
       "        vertical-align: top;\n",
       "    }\n",
       "\n",
       "    .dataframe thead th {\n",
       "        text-align: right;\n",
       "    }\n",
       "</style>\n",
       "<table border=\"1\" class=\"dataframe\">\n",
       "  <thead>\n",
       "    <tr style=\"text-align: right;\">\n",
       "      <th></th>\n",
       "      <th>2022-03-05</th>\n",
       "      <th>2022-03-06</th>\n",
       "      <th>2022-03-07</th>\n",
       "      <th>2022-03-08</th>\n",
       "      <th>2022-03-09</th>\n",
       "    </tr>\n",
       "  </thead>\n",
       "  <tbody>\n",
       "    <tr>\n",
       "      <th>股票1</th>\n",
       "      <td>-0.234603</td>\n",
       "      <td>-1.032267</td>\n",
       "      <td>-0.008450</td>\n",
       "      <td>1.176863</td>\n",
       "      <td>-0.552350</td>\n",
       "    </tr>\n",
       "    <tr>\n",
       "      <th>股票2</th>\n",
       "      <td>0.286013</td>\n",
       "      <td>1.948197</td>\n",
       "      <td>0.929171</td>\n",
       "      <td>0.771245</td>\n",
       "      <td>0.606338</td>\n",
       "    </tr>\n",
       "    <tr>\n",
       "      <th>股票3</th>\n",
       "      <td>-0.225342</td>\n",
       "      <td>-0.228334</td>\n",
       "      <td>0.164659</td>\n",
       "      <td>0.609119</td>\n",
       "      <td>0.978363</td>\n",
       "    </tr>\n",
       "    <tr>\n",
       "      <th>股票4</th>\n",
       "      <td>0.498833</td>\n",
       "      <td>-1.158393</td>\n",
       "      <td>0.514631</td>\n",
       "      <td>-1.880712</td>\n",
       "      <td>-0.618783</td>\n",
       "    </tr>\n",
       "    <tr>\n",
       "      <th>股票5</th>\n",
       "      <td>1.041047</td>\n",
       "      <td>1.644284</td>\n",
       "      <td>-0.385448</td>\n",
       "      <td>0.268626</td>\n",
       "      <td>0.202534</td>\n",
       "    </tr>\n",
       "    <tr>\n",
       "      <th>股票6</th>\n",
       "      <td>-1.155551</td>\n",
       "      <td>1.143831</td>\n",
       "      <td>-1.332736</td>\n",
       "      <td>-2.070283</td>\n",
       "      <td>0.731728</td>\n",
       "    </tr>\n",
       "    <tr>\n",
       "      <th>股票7</th>\n",
       "      <td>1.004086</td>\n",
       "      <td>-2.192440</td>\n",
       "      <td>0.381174</td>\n",
       "      <td>-0.032521</td>\n",
       "      <td>-0.682538</td>\n",
       "    </tr>\n",
       "    <tr>\n",
       "      <th>股票8</th>\n",
       "      <td>-1.992864</td>\n",
       "      <td>-1.581561</td>\n",
       "      <td>-0.753188</td>\n",
       "      <td>-0.204984</td>\n",
       "      <td>0.496507</td>\n",
       "    </tr>\n",
       "    <tr>\n",
       "      <th>股票9</th>\n",
       "      <td>0.094541</td>\n",
       "      <td>0.626279</td>\n",
       "      <td>-1.292958</td>\n",
       "      <td>0.963668</td>\n",
       "      <td>-0.303983</td>\n",
       "    </tr>\n",
       "    <tr>\n",
       "      <th>股票10</th>\n",
       "      <td>-1.721705</td>\n",
       "      <td>1.728841</td>\n",
       "      <td>-0.578711</td>\n",
       "      <td>-0.584479</td>\n",
       "      <td>-0.284745</td>\n",
       "    </tr>\n",
       "  </tbody>\n",
       "</table>\n",
       "</div>"
      ],
      "text/plain": [
       "      2022-03-05  2022-03-06  2022-03-07  2022-03-08  2022-03-09\n",
       "股票1    -0.234603   -1.032267   -0.008450    1.176863   -0.552350\n",
       "股票2     0.286013    1.948197    0.929171    0.771245    0.606338\n",
       "股票3    -0.225342   -0.228334    0.164659    0.609119    0.978363\n",
       "股票4     0.498833   -1.158393    0.514631   -1.880712   -0.618783\n",
       "股票5     1.041047    1.644284   -0.385448    0.268626    0.202534\n",
       "股票6    -1.155551    1.143831   -1.332736   -2.070283    0.731728\n",
       "股票7     1.004086   -2.192440    0.381174   -0.032521   -0.682538\n",
       "股票8    -1.992864   -1.581561   -0.753188   -0.204984    0.496507\n",
       "股票9     0.094541    0.626279   -1.292958    0.963668   -0.303983\n",
       "股票10   -1.721705    1.728841   -0.578711   -0.584479   -0.284745"
      ]
     },
     "execution_count": 14,
     "metadata": {},
     "output_type": "execute_result"
    }
   ],
   "source": [
    "stock_c"
   ]
  },
  {
   "cell_type": "markdown",
   "id": "ed9b0312",
   "metadata": {},
   "source": [
    "练习stock_c.index    .columns   .values  .T"
   ]
  },
  {
   "cell_type": "code",
   "execution_count": 15,
   "id": "efb86c6b",
   "metadata": {
    "collapsed": true
   },
   "outputs": [
    {
     "data": {
      "text/html": [
       "<div>\n",
       "<style scoped>\n",
       "    .dataframe tbody tr th:only-of-type {\n",
       "        vertical-align: middle;\n",
       "    }\n",
       "\n",
       "    .dataframe tbody tr th {\n",
       "        vertical-align: top;\n",
       "    }\n",
       "\n",
       "    .dataframe thead th {\n",
       "        text-align: right;\n",
       "    }\n",
       "</style>\n",
       "<table border=\"1\" class=\"dataframe\">\n",
       "  <thead>\n",
       "    <tr style=\"text-align: right;\">\n",
       "      <th></th>\n",
       "      <th>2022-03-05</th>\n",
       "      <th>2022-03-06</th>\n",
       "      <th>2022-03-07</th>\n",
       "      <th>2022-03-08</th>\n",
       "      <th>2022-03-09</th>\n",
       "    </tr>\n",
       "  </thead>\n",
       "  <tbody>\n",
       "    <tr>\n",
       "      <th>股票1</th>\n",
       "      <td>-0.234603</td>\n",
       "      <td>-1.032267</td>\n",
       "      <td>-0.008450</td>\n",
       "      <td>1.176863</td>\n",
       "      <td>-0.552350</td>\n",
       "    </tr>\n",
       "    <tr>\n",
       "      <th>股票2</th>\n",
       "      <td>0.286013</td>\n",
       "      <td>1.948197</td>\n",
       "      <td>0.929171</td>\n",
       "      <td>0.771245</td>\n",
       "      <td>0.606338</td>\n",
       "    </tr>\n",
       "    <tr>\n",
       "      <th>股票3</th>\n",
       "      <td>-0.225342</td>\n",
       "      <td>-0.228334</td>\n",
       "      <td>0.164659</td>\n",
       "      <td>0.609119</td>\n",
       "      <td>0.978363</td>\n",
       "    </tr>\n",
       "    <tr>\n",
       "      <th>股票4</th>\n",
       "      <td>0.498833</td>\n",
       "      <td>-1.158393</td>\n",
       "      <td>0.514631</td>\n",
       "      <td>-1.880712</td>\n",
       "      <td>-0.618783</td>\n",
       "    </tr>\n",
       "    <tr>\n",
       "      <th>股票5</th>\n",
       "      <td>1.041047</td>\n",
       "      <td>1.644284</td>\n",
       "      <td>-0.385448</td>\n",
       "      <td>0.268626</td>\n",
       "      <td>0.202534</td>\n",
       "    </tr>\n",
       "  </tbody>\n",
       "</table>\n",
       "</div>"
      ],
      "text/plain": [
       "     2022-03-05  2022-03-06  2022-03-07  2022-03-08  2022-03-09\n",
       "股票1   -0.234603   -1.032267   -0.008450    1.176863   -0.552350\n",
       "股票2    0.286013    1.948197    0.929171    0.771245    0.606338\n",
       "股票3   -0.225342   -0.228334    0.164659    0.609119    0.978363\n",
       "股票4    0.498833   -1.158393    0.514631   -1.880712   -0.618783\n",
       "股票5    1.041047    1.644284   -0.385448    0.268626    0.202534"
      ]
     },
     "execution_count": 15,
     "metadata": {},
     "output_type": "execute_result"
    }
   ],
   "source": [
    "stock_c.head()"
   ]
  },
  {
   "cell_type": "code",
   "execution_count": 16,
   "id": "63054452",
   "metadata": {
    "collapsed": true
   },
   "outputs": [
    {
     "data": {
      "text/html": [
       "<div>\n",
       "<style scoped>\n",
       "    .dataframe tbody tr th:only-of-type {\n",
       "        vertical-align: middle;\n",
       "    }\n",
       "\n",
       "    .dataframe tbody tr th {\n",
       "        vertical-align: top;\n",
       "    }\n",
       "\n",
       "    .dataframe thead th {\n",
       "        text-align: right;\n",
       "    }\n",
       "</style>\n",
       "<table border=\"1\" class=\"dataframe\">\n",
       "  <thead>\n",
       "    <tr style=\"text-align: right;\">\n",
       "      <th></th>\n",
       "      <th>2022-03-05</th>\n",
       "      <th>2022-03-06</th>\n",
       "      <th>2022-03-07</th>\n",
       "      <th>2022-03-08</th>\n",
       "      <th>2022-03-09</th>\n",
       "    </tr>\n",
       "  </thead>\n",
       "  <tbody>\n",
       "    <tr>\n",
       "      <th>股票8</th>\n",
       "      <td>-1.992864</td>\n",
       "      <td>-1.581561</td>\n",
       "      <td>-0.753188</td>\n",
       "      <td>-0.204984</td>\n",
       "      <td>0.496507</td>\n",
       "    </tr>\n",
       "    <tr>\n",
       "      <th>股票9</th>\n",
       "      <td>0.094541</td>\n",
       "      <td>0.626279</td>\n",
       "      <td>-1.292958</td>\n",
       "      <td>0.963668</td>\n",
       "      <td>-0.303983</td>\n",
       "    </tr>\n",
       "    <tr>\n",
       "      <th>股票10</th>\n",
       "      <td>-1.721705</td>\n",
       "      <td>1.728841</td>\n",
       "      <td>-0.578711</td>\n",
       "      <td>-0.584479</td>\n",
       "      <td>-0.284745</td>\n",
       "    </tr>\n",
       "  </tbody>\n",
       "</table>\n",
       "</div>"
      ],
      "text/plain": [
       "      2022-03-05  2022-03-06  2022-03-07  2022-03-08  2022-03-09\n",
       "股票8    -1.992864   -1.581561   -0.753188   -0.204984    0.496507\n",
       "股票9     0.094541    0.626279   -1.292958    0.963668   -0.303983\n",
       "股票10   -1.721705    1.728841   -0.578711   -0.584479   -0.284745"
      ]
     },
     "execution_count": 16,
     "metadata": {},
     "output_type": "execute_result"
    }
   ],
   "source": [
    "stock_c.tail(3)"
   ]
  },
  {
   "cell_type": "code",
   "execution_count": 17,
   "id": "c8225924",
   "metadata": {
    "collapsed": true
   },
   "outputs": [
    {
     "data": {
      "text/html": [
       "<div>\n",
       "<style scoped>\n",
       "    .dataframe tbody tr th:only-of-type {\n",
       "        vertical-align: middle;\n",
       "    }\n",
       "\n",
       "    .dataframe tbody tr th {\n",
       "        vertical-align: top;\n",
       "    }\n",
       "\n",
       "    .dataframe thead th {\n",
       "        text-align: right;\n",
       "    }\n",
       "</style>\n",
       "<table border=\"1\" class=\"dataframe\">\n",
       "  <thead>\n",
       "    <tr style=\"text-align: right;\">\n",
       "      <th></th>\n",
       "      <th>2022-03-05</th>\n",
       "      <th>2022-03-06</th>\n",
       "      <th>2022-03-07</th>\n",
       "      <th>2022-03-08</th>\n",
       "      <th>2022-03-09</th>\n",
       "    </tr>\n",
       "  </thead>\n",
       "  <tbody>\n",
       "    <tr>\n",
       "      <th>股票-1</th>\n",
       "      <td>-0.234603</td>\n",
       "      <td>-1.032267</td>\n",
       "      <td>-0.008450</td>\n",
       "      <td>1.176863</td>\n",
       "      <td>-0.552350</td>\n",
       "    </tr>\n",
       "    <tr>\n",
       "      <th>股票-2</th>\n",
       "      <td>0.286013</td>\n",
       "      <td>1.948197</td>\n",
       "      <td>0.929171</td>\n",
       "      <td>0.771245</td>\n",
       "      <td>0.606338</td>\n",
       "    </tr>\n",
       "    <tr>\n",
       "      <th>股票-3</th>\n",
       "      <td>-0.225342</td>\n",
       "      <td>-0.228334</td>\n",
       "      <td>0.164659</td>\n",
       "      <td>0.609119</td>\n",
       "      <td>0.978363</td>\n",
       "    </tr>\n",
       "    <tr>\n",
       "      <th>股票-4</th>\n",
       "      <td>0.498833</td>\n",
       "      <td>-1.158393</td>\n",
       "      <td>0.514631</td>\n",
       "      <td>-1.880712</td>\n",
       "      <td>-0.618783</td>\n",
       "    </tr>\n",
       "    <tr>\n",
       "      <th>股票-5</th>\n",
       "      <td>1.041047</td>\n",
       "      <td>1.644284</td>\n",
       "      <td>-0.385448</td>\n",
       "      <td>0.268626</td>\n",
       "      <td>0.202534</td>\n",
       "    </tr>\n",
       "    <tr>\n",
       "      <th>股票-6</th>\n",
       "      <td>-1.155551</td>\n",
       "      <td>1.143831</td>\n",
       "      <td>-1.332736</td>\n",
       "      <td>-2.070283</td>\n",
       "      <td>0.731728</td>\n",
       "    </tr>\n",
       "    <tr>\n",
       "      <th>股票-7</th>\n",
       "      <td>1.004086</td>\n",
       "      <td>-2.192440</td>\n",
       "      <td>0.381174</td>\n",
       "      <td>-0.032521</td>\n",
       "      <td>-0.682538</td>\n",
       "    </tr>\n",
       "    <tr>\n",
       "      <th>股票-8</th>\n",
       "      <td>-1.992864</td>\n",
       "      <td>-1.581561</td>\n",
       "      <td>-0.753188</td>\n",
       "      <td>-0.204984</td>\n",
       "      <td>0.496507</td>\n",
       "    </tr>\n",
       "    <tr>\n",
       "      <th>股票-9</th>\n",
       "      <td>0.094541</td>\n",
       "      <td>0.626279</td>\n",
       "      <td>-1.292958</td>\n",
       "      <td>0.963668</td>\n",
       "      <td>-0.303983</td>\n",
       "    </tr>\n",
       "    <tr>\n",
       "      <th>股票-10</th>\n",
       "      <td>-1.721705</td>\n",
       "      <td>1.728841</td>\n",
       "      <td>-0.578711</td>\n",
       "      <td>-0.584479</td>\n",
       "      <td>-0.284745</td>\n",
       "    </tr>\n",
       "  </tbody>\n",
       "</table>\n",
       "</div>"
      ],
      "text/plain": [
       "       2022-03-05  2022-03-06  2022-03-07  2022-03-08  2022-03-09\n",
       "股票-1    -0.234603   -1.032267   -0.008450    1.176863   -0.552350\n",
       "股票-2     0.286013    1.948197    0.929171    0.771245    0.606338\n",
       "股票-3    -0.225342   -0.228334    0.164659    0.609119    0.978363\n",
       "股票-4     0.498833   -1.158393    0.514631   -1.880712   -0.618783\n",
       "股票-5     1.041047    1.644284   -0.385448    0.268626    0.202534\n",
       "股票-6    -1.155551    1.143831   -1.332736   -2.070283    0.731728\n",
       "股票-7     1.004086   -2.192440    0.381174   -0.032521   -0.682538\n",
       "股票-8    -1.992864   -1.581561   -0.753188   -0.204984    0.496507\n",
       "股票-9     0.094541    0.626279   -1.292958    0.963668   -0.303983\n",
       "股票-10   -1.721705    1.728841   -0.578711   -0.584479   -0.284745"
      ]
     },
     "execution_count": 17,
     "metadata": {},
     "output_type": "execute_result"
    }
   ],
   "source": [
    "# 设置索引\n",
    "stock_code = [\"股票-{}\".format(i+1) for i in range(stock_rise.shape[0])]\n",
    "stock_c.index = stock_code\n",
    "stock_c"
   ]
  },
  {
   "cell_type": "code",
   "execution_count": 18,
   "id": "b41fe141",
   "metadata": {
    "collapsed": true
   },
   "outputs": [
    {
     "data": {
      "text/html": [
       "<div>\n",
       "<style scoped>\n",
       "    .dataframe tbody tr th:only-of-type {\n",
       "        vertical-align: middle;\n",
       "    }\n",
       "\n",
       "    .dataframe tbody tr th {\n",
       "        vertical-align: top;\n",
       "    }\n",
       "\n",
       "    .dataframe thead th {\n",
       "        text-align: right;\n",
       "    }\n",
       "</style>\n",
       "<table border=\"1\" class=\"dataframe\">\n",
       "  <thead>\n",
       "    <tr style=\"text-align: right;\">\n",
       "      <th></th>\n",
       "      <th>index</th>\n",
       "      <th>2022-03-05 00:00:00</th>\n",
       "      <th>2022-03-06 00:00:00</th>\n",
       "      <th>2022-03-07 00:00:00</th>\n",
       "      <th>2022-03-08 00:00:00</th>\n",
       "      <th>2022-03-09 00:00:00</th>\n",
       "    </tr>\n",
       "  </thead>\n",
       "  <tbody>\n",
       "    <tr>\n",
       "      <th>0</th>\n",
       "      <td>股票-1</td>\n",
       "      <td>-0.234603</td>\n",
       "      <td>-1.032267</td>\n",
       "      <td>-0.008450</td>\n",
       "      <td>1.176863</td>\n",
       "      <td>-0.552350</td>\n",
       "    </tr>\n",
       "    <tr>\n",
       "      <th>1</th>\n",
       "      <td>股票-2</td>\n",
       "      <td>0.286013</td>\n",
       "      <td>1.948197</td>\n",
       "      <td>0.929171</td>\n",
       "      <td>0.771245</td>\n",
       "      <td>0.606338</td>\n",
       "    </tr>\n",
       "    <tr>\n",
       "      <th>2</th>\n",
       "      <td>股票-3</td>\n",
       "      <td>-0.225342</td>\n",
       "      <td>-0.228334</td>\n",
       "      <td>0.164659</td>\n",
       "      <td>0.609119</td>\n",
       "      <td>0.978363</td>\n",
       "    </tr>\n",
       "    <tr>\n",
       "      <th>3</th>\n",
       "      <td>股票-4</td>\n",
       "      <td>0.498833</td>\n",
       "      <td>-1.158393</td>\n",
       "      <td>0.514631</td>\n",
       "      <td>-1.880712</td>\n",
       "      <td>-0.618783</td>\n",
       "    </tr>\n",
       "    <tr>\n",
       "      <th>4</th>\n",
       "      <td>股票-5</td>\n",
       "      <td>1.041047</td>\n",
       "      <td>1.644284</td>\n",
       "      <td>-0.385448</td>\n",
       "      <td>0.268626</td>\n",
       "      <td>0.202534</td>\n",
       "    </tr>\n",
       "    <tr>\n",
       "      <th>5</th>\n",
       "      <td>股票-6</td>\n",
       "      <td>-1.155551</td>\n",
       "      <td>1.143831</td>\n",
       "      <td>-1.332736</td>\n",
       "      <td>-2.070283</td>\n",
       "      <td>0.731728</td>\n",
       "    </tr>\n",
       "    <tr>\n",
       "      <th>6</th>\n",
       "      <td>股票-7</td>\n",
       "      <td>1.004086</td>\n",
       "      <td>-2.192440</td>\n",
       "      <td>0.381174</td>\n",
       "      <td>-0.032521</td>\n",
       "      <td>-0.682538</td>\n",
       "    </tr>\n",
       "    <tr>\n",
       "      <th>7</th>\n",
       "      <td>股票-8</td>\n",
       "      <td>-1.992864</td>\n",
       "      <td>-1.581561</td>\n",
       "      <td>-0.753188</td>\n",
       "      <td>-0.204984</td>\n",
       "      <td>0.496507</td>\n",
       "    </tr>\n",
       "    <tr>\n",
       "      <th>8</th>\n",
       "      <td>股票-9</td>\n",
       "      <td>0.094541</td>\n",
       "      <td>0.626279</td>\n",
       "      <td>-1.292958</td>\n",
       "      <td>0.963668</td>\n",
       "      <td>-0.303983</td>\n",
       "    </tr>\n",
       "    <tr>\n",
       "      <th>9</th>\n",
       "      <td>股票-10</td>\n",
       "      <td>-1.721705</td>\n",
       "      <td>1.728841</td>\n",
       "      <td>-0.578711</td>\n",
       "      <td>-0.584479</td>\n",
       "      <td>-0.284745</td>\n",
       "    </tr>\n",
       "  </tbody>\n",
       "</table>\n",
       "</div>"
      ],
      "text/plain": [
       "   index  2022-03-05 00:00:00  2022-03-06 00:00:00  2022-03-07 00:00:00  \\\n",
       "0   股票-1            -0.234603            -1.032267            -0.008450   \n",
       "1   股票-2             0.286013             1.948197             0.929171   \n",
       "2   股票-3            -0.225342            -0.228334             0.164659   \n",
       "3   股票-4             0.498833            -1.158393             0.514631   \n",
       "4   股票-5             1.041047             1.644284            -0.385448   \n",
       "5   股票-6            -1.155551             1.143831            -1.332736   \n",
       "6   股票-7             1.004086            -2.192440             0.381174   \n",
       "7   股票-8            -1.992864            -1.581561            -0.753188   \n",
       "8   股票-9             0.094541             0.626279            -1.292958   \n",
       "9  股票-10            -1.721705             1.728841            -0.578711   \n",
       "\n",
       "   2022-03-08 00:00:00  2022-03-09 00:00:00  \n",
       "0             1.176863            -0.552350  \n",
       "1             0.771245             0.606338  \n",
       "2             0.609119             0.978363  \n",
       "3            -1.880712            -0.618783  \n",
       "4             0.268626             0.202534  \n",
       "5            -2.070283             0.731728  \n",
       "6            -0.032521            -0.682538  \n",
       "7            -0.204984             0.496507  \n",
       "8             0.963668            -0.303983  \n",
       "9            -0.584479            -0.284745  "
      ]
     },
     "execution_count": 18,
     "metadata": {},
     "output_type": "execute_result"
    }
   ],
   "source": [
    "stock_c.reset_index() #重设索引 "
   ]
  },
  {
   "cell_type": "code",
   "execution_count": 19,
   "id": "aa3afcce",
   "metadata": {
    "collapsed": true
   },
   "outputs": [
    {
     "data": {
      "text/html": [
       "<div>\n",
       "<style scoped>\n",
       "    .dataframe tbody tr th:only-of-type {\n",
       "        vertical-align: middle;\n",
       "    }\n",
       "\n",
       "    .dataframe tbody tr th {\n",
       "        vertical-align: top;\n",
       "    }\n",
       "\n",
       "    .dataframe thead th {\n",
       "        text-align: right;\n",
       "    }\n",
       "</style>\n",
       "<table border=\"1\" class=\"dataframe\">\n",
       "  <thead>\n",
       "    <tr style=\"text-align: right;\">\n",
       "      <th></th>\n",
       "      <th>month</th>\n",
       "      <th>year</th>\n",
       "      <th>sale</th>\n",
       "    </tr>\n",
       "  </thead>\n",
       "  <tbody>\n",
       "    <tr>\n",
       "      <th>0</th>\n",
       "      <td>1</td>\n",
       "      <td>2001</td>\n",
       "      <td>100</td>\n",
       "    </tr>\n",
       "    <tr>\n",
       "      <th>1</th>\n",
       "      <td>2</td>\n",
       "      <td>2002</td>\n",
       "      <td>200</td>\n",
       "    </tr>\n",
       "    <tr>\n",
       "      <th>2</th>\n",
       "      <td>3</td>\n",
       "      <td>2003</td>\n",
       "      <td>300</td>\n",
       "    </tr>\n",
       "    <tr>\n",
       "      <th>3</th>\n",
       "      <td>4</td>\n",
       "      <td>2004</td>\n",
       "      <td>400</td>\n",
       "    </tr>\n",
       "  </tbody>\n",
       "</table>\n",
       "</div>"
      ],
      "text/plain": [
       "   month  year  sale\n",
       "0      1  2001   100\n",
       "1      2  2002   200\n",
       "2      3  2003   300\n",
       "3      4  2004   400"
      ]
     },
     "execution_count": 19,
     "metadata": {},
     "output_type": "execute_result"
    }
   ],
   "source": [
    "df = pd.DataFrame({'month':[1,2,3,4],'year':[2001,2002,2003,2004],\n",
    "                   'sale':[100,200,300,400]})\n",
    "df"
   ]
  },
  {
   "cell_type": "code",
   "execution_count": 20,
   "id": "af9a6b2c",
   "metadata": {
    "collapsed": true
   },
   "outputs": [
    {
     "data": {
      "text/html": [
       "<div>\n",
       "<style scoped>\n",
       "    .dataframe tbody tr th:only-of-type {\n",
       "        vertical-align: middle;\n",
       "    }\n",
       "\n",
       "    .dataframe tbody tr th {\n",
       "        vertical-align: top;\n",
       "    }\n",
       "\n",
       "    .dataframe thead th {\n",
       "        text-align: right;\n",
       "    }\n",
       "</style>\n",
       "<table border=\"1\" class=\"dataframe\">\n",
       "  <thead>\n",
       "    <tr style=\"text-align: right;\">\n",
       "      <th></th>\n",
       "      <th>month</th>\n",
       "      <th>sale</th>\n",
       "    </tr>\n",
       "    <tr>\n",
       "      <th>year</th>\n",
       "      <th></th>\n",
       "      <th></th>\n",
       "    </tr>\n",
       "  </thead>\n",
       "  <tbody>\n",
       "    <tr>\n",
       "      <th>2001</th>\n",
       "      <td>1</td>\n",
       "      <td>100</td>\n",
       "    </tr>\n",
       "    <tr>\n",
       "      <th>2002</th>\n",
       "      <td>2</td>\n",
       "      <td>200</td>\n",
       "    </tr>\n",
       "    <tr>\n",
       "      <th>2003</th>\n",
       "      <td>3</td>\n",
       "      <td>300</td>\n",
       "    </tr>\n",
       "    <tr>\n",
       "      <th>2004</th>\n",
       "      <td>4</td>\n",
       "      <td>400</td>\n",
       "    </tr>\n",
       "  </tbody>\n",
       "</table>\n",
       "</div>"
      ],
      "text/plain": [
       "      month  sale\n",
       "year             \n",
       "2001      1   100\n",
       "2002      2   200\n",
       "2003      3   300\n",
       "2004      4   400"
      ]
     },
     "execution_count": 20,
     "metadata": {},
     "output_type": "execute_result"
    }
   ],
   "source": [
    "df.set_index(keys='year',drop=True)"
   ]
  },
  {
   "cell_type": "code",
   "execution_count": 21,
   "id": "aa41149c",
   "metadata": {},
   "outputs": [
    {
     "data": {
      "text/plain": [
       "0.16465942692096075"
      ]
     },
     "execution_count": 21,
     "metadata": {},
     "output_type": "execute_result"
    }
   ],
   "source": [
    "# 索引方式\n",
    "stock_c['2022-03-07']['股票-3'] #必须先列后行\n",
    "# stock_c[1:,] 切片也不可以"
   ]
  },
  {
   "cell_type": "code",
   "execution_count": 22,
   "id": "b30a0cc9",
   "metadata": {
    "collapsed": true
   },
   "outputs": [
    {
     "data": {
      "text/html": [
       "<div>\n",
       "<style scoped>\n",
       "    .dataframe tbody tr th:only-of-type {\n",
       "        vertical-align: middle;\n",
       "    }\n",
       "\n",
       "    .dataframe tbody tr th {\n",
       "        vertical-align: top;\n",
       "    }\n",
       "\n",
       "    .dataframe thead th {\n",
       "        text-align: right;\n",
       "    }\n",
       "</style>\n",
       "<table border=\"1\" class=\"dataframe\">\n",
       "  <thead>\n",
       "    <tr style=\"text-align: right;\">\n",
       "      <th></th>\n",
       "      <th>2022-03-05</th>\n",
       "      <th>2022-03-06</th>\n",
       "      <th>2022-03-07</th>\n",
       "      <th>2022-03-08</th>\n",
       "      <th>2022-03-09</th>\n",
       "    </tr>\n",
       "  </thead>\n",
       "  <tbody>\n",
       "    <tr>\n",
       "      <th>股票-1</th>\n",
       "      <td>-0.234603</td>\n",
       "      <td>-1.032267</td>\n",
       "      <td>-0.008450</td>\n",
       "      <td>1.176863</td>\n",
       "      <td>-0.552350</td>\n",
       "    </tr>\n",
       "    <tr>\n",
       "      <th>股票-2</th>\n",
       "      <td>0.286013</td>\n",
       "      <td>1.948197</td>\n",
       "      <td>0.929171</td>\n",
       "      <td>0.771245</td>\n",
       "      <td>0.606338</td>\n",
       "    </tr>\n",
       "    <tr>\n",
       "      <th>股票-3</th>\n",
       "      <td>-0.225342</td>\n",
       "      <td>-0.228334</td>\n",
       "      <td>0.164659</td>\n",
       "      <td>0.609119</td>\n",
       "      <td>0.978363</td>\n",
       "    </tr>\n",
       "    <tr>\n",
       "      <th>股票-4</th>\n",
       "      <td>0.498833</td>\n",
       "      <td>-1.158393</td>\n",
       "      <td>0.514631</td>\n",
       "      <td>-1.880712</td>\n",
       "      <td>-0.618783</td>\n",
       "    </tr>\n",
       "  </tbody>\n",
       "</table>\n",
       "</div>"
      ],
      "text/plain": [
       "      2022-03-05  2022-03-06  2022-03-07  2022-03-08  2022-03-09\n",
       "股票-1   -0.234603   -1.032267   -0.008450    1.176863   -0.552350\n",
       "股票-2    0.286013    1.948197    0.929171    0.771245    0.606338\n",
       "股票-3   -0.225342   -0.228334    0.164659    0.609119    0.978363\n",
       "股票-4    0.498833   -1.158393    0.514631   -1.880712   -0.618783"
      ]
     },
     "execution_count": 22,
     "metadata": {},
     "output_type": "execute_result"
    }
   ],
   "source": [
    "stock_c.loc['股票-1':'股票-4']"
   ]
  },
  {
   "cell_type": "code",
   "execution_count": 23,
   "id": "a4f3efb2",
   "metadata": {
    "collapsed": true
   },
   "outputs": [
    {
     "data": {
      "text/html": [
       "<div>\n",
       "<style scoped>\n",
       "    .dataframe tbody tr th:only-of-type {\n",
       "        vertical-align: middle;\n",
       "    }\n",
       "\n",
       "    .dataframe tbody tr th {\n",
       "        vertical-align: top;\n",
       "    }\n",
       "\n",
       "    .dataframe thead th {\n",
       "        text-align: right;\n",
       "    }\n",
       "</style>\n",
       "<table border=\"1\" class=\"dataframe\">\n",
       "  <thead>\n",
       "    <tr style=\"text-align: right;\">\n",
       "      <th></th>\n",
       "      <th>2022-03-05</th>\n",
       "      <th>2022-03-06</th>\n",
       "    </tr>\n",
       "  </thead>\n",
       "  <tbody>\n",
       "    <tr>\n",
       "      <th>股票-1</th>\n",
       "      <td>-0.234603</td>\n",
       "      <td>-1.032267</td>\n",
       "    </tr>\n",
       "    <tr>\n",
       "      <th>股票-2</th>\n",
       "      <td>0.286013</td>\n",
       "      <td>1.948197</td>\n",
       "    </tr>\n",
       "    <tr>\n",
       "      <th>股票-3</th>\n",
       "      <td>-0.225342</td>\n",
       "      <td>-0.228334</td>\n",
       "    </tr>\n",
       "  </tbody>\n",
       "</table>\n",
       "</div>"
      ],
      "text/plain": [
       "      2022-03-05  2022-03-06\n",
       "股票-1   -0.234603   -1.032267\n",
       "股票-2    0.286013    1.948197\n",
       "股票-3   -0.225342   -0.228334"
      ]
     },
     "execution_count": 23,
     "metadata": {},
     "output_type": "execute_result"
    }
   ],
   "source": [
    "stock_c.iloc[:3,:2]"
   ]
  },
  {
   "cell_type": "code",
   "execution_count": 24,
   "id": "f5ae3bac",
   "metadata": {},
   "outputs": [],
   "source": [
    "# 赋值\n",
    "stock_c['2022-03-06'] = 1\n"
   ]
  },
  {
   "cell_type": "code",
   "execution_count": 27,
   "id": "1b87f7e2",
   "metadata": {
    "collapsed": true
   },
   "outputs": [
    {
     "data": {
      "text/html": [
       "<div>\n",
       "<style scoped>\n",
       "    .dataframe tbody tr th:only-of-type {\n",
       "        vertical-align: middle;\n",
       "    }\n",
       "\n",
       "    .dataframe tbody tr th {\n",
       "        vertical-align: top;\n",
       "    }\n",
       "\n",
       "    .dataframe thead th {\n",
       "        text-align: right;\n",
       "    }\n",
       "</style>\n",
       "<table border=\"1\" class=\"dataframe\">\n",
       "  <thead>\n",
       "    <tr style=\"text-align: right;\">\n",
       "      <th></th>\n",
       "      <th>2022-03-05</th>\n",
       "      <th>2022-03-06</th>\n",
       "      <th>2022-03-07</th>\n",
       "      <th>2022-03-08</th>\n",
       "      <th>2022-03-09</th>\n",
       "    </tr>\n",
       "  </thead>\n",
       "  <tbody>\n",
       "    <tr>\n",
       "      <th>股票-6</th>\n",
       "      <td>-1.155551</td>\n",
       "      <td>1</td>\n",
       "      <td>-1.332736</td>\n",
       "      <td>-2.070283</td>\n",
       "      <td>0.731728</td>\n",
       "    </tr>\n",
       "    <tr>\n",
       "      <th>股票-9</th>\n",
       "      <td>0.094541</td>\n",
       "      <td>1</td>\n",
       "      <td>-1.292958</td>\n",
       "      <td>0.963668</td>\n",
       "      <td>-0.303983</td>\n",
       "    </tr>\n",
       "    <tr>\n",
       "      <th>股票-8</th>\n",
       "      <td>-1.992864</td>\n",
       "      <td>1</td>\n",
       "      <td>-0.753188</td>\n",
       "      <td>-0.204984</td>\n",
       "      <td>0.496507</td>\n",
       "    </tr>\n",
       "    <tr>\n",
       "      <th>股票-10</th>\n",
       "      <td>-1.721705</td>\n",
       "      <td>1</td>\n",
       "      <td>-0.578711</td>\n",
       "      <td>-0.584479</td>\n",
       "      <td>-0.284745</td>\n",
       "    </tr>\n",
       "    <tr>\n",
       "      <th>股票-5</th>\n",
       "      <td>1.041047</td>\n",
       "      <td>1</td>\n",
       "      <td>-0.385448</td>\n",
       "      <td>0.268626</td>\n",
       "      <td>0.202534</td>\n",
       "    </tr>\n",
       "    <tr>\n",
       "      <th>股票-1</th>\n",
       "      <td>-0.234603</td>\n",
       "      <td>1</td>\n",
       "      <td>-0.008450</td>\n",
       "      <td>1.176863</td>\n",
       "      <td>-0.552350</td>\n",
       "    </tr>\n",
       "    <tr>\n",
       "      <th>股票-3</th>\n",
       "      <td>-0.225342</td>\n",
       "      <td>1</td>\n",
       "      <td>0.164659</td>\n",
       "      <td>0.609119</td>\n",
       "      <td>0.978363</td>\n",
       "    </tr>\n",
       "    <tr>\n",
       "      <th>股票-7</th>\n",
       "      <td>1.004086</td>\n",
       "      <td>1</td>\n",
       "      <td>0.381174</td>\n",
       "      <td>-0.032521</td>\n",
       "      <td>-0.682538</td>\n",
       "    </tr>\n",
       "    <tr>\n",
       "      <th>股票-4</th>\n",
       "      <td>0.498833</td>\n",
       "      <td>1</td>\n",
       "      <td>0.514631</td>\n",
       "      <td>-1.880712</td>\n",
       "      <td>-0.618783</td>\n",
       "    </tr>\n",
       "    <tr>\n",
       "      <th>股票-2</th>\n",
       "      <td>0.286013</td>\n",
       "      <td>1</td>\n",
       "      <td>0.929171</td>\n",
       "      <td>0.771245</td>\n",
       "      <td>0.606338</td>\n",
       "    </tr>\n",
       "  </tbody>\n",
       "</table>\n",
       "</div>"
      ],
      "text/plain": [
       "       2022-03-05  2022-03-06  2022-03-07  2022-03-08  2022-03-09\n",
       "股票-6    -1.155551           1   -1.332736   -2.070283    0.731728\n",
       "股票-9     0.094541           1   -1.292958    0.963668   -0.303983\n",
       "股票-8    -1.992864           1   -0.753188   -0.204984    0.496507\n",
       "股票-10   -1.721705           1   -0.578711   -0.584479   -0.284745\n",
       "股票-5     1.041047           1   -0.385448    0.268626    0.202534\n",
       "股票-1    -0.234603           1   -0.008450    1.176863   -0.552350\n",
       "股票-3    -0.225342           1    0.164659    0.609119    0.978363\n",
       "股票-7     1.004086           1    0.381174   -0.032521   -0.682538\n",
       "股票-4     0.498833           1    0.514631   -1.880712   -0.618783\n",
       "股票-2     0.286013           1    0.929171    0.771245    0.606338"
      ]
     },
     "execution_count": 27,
     "metadata": {},
     "output_type": "execute_result"
    }
   ],
   "source": [
    "#排序\n",
    "stock_c.sort_values(by='2022-03-07',ascending=True)"
   ]
  },
  {
   "cell_type": "code",
   "execution_count": 31,
   "id": "44d08744",
   "metadata": {
    "collapsed": true
   },
   "outputs": [
    {
     "data": {
      "text/plain": [
       "股票-1     1.176863\n",
       "股票-9     0.963668\n",
       "股票-2     0.771245\n",
       "股票-3     0.609119\n",
       "股票-5     0.268626\n",
       "股票-7    -0.032521\n",
       "股票-8    -0.204984\n",
       "股票-10   -0.584479\n",
       "股票-4    -1.880712\n",
       "股票-6    -2.070283\n",
       "Name: 2022-03-08 00:00:00, dtype: float64"
      ]
     },
     "execution_count": 31,
     "metadata": {},
     "output_type": "execute_result"
    }
   ],
   "source": [
    "stock_c['2022-03-08'].sort_values(ascending=False)"
   ]
  },
  {
   "cell_type": "code",
   "execution_count": 33,
   "id": "8f780979",
   "metadata": {
    "collapsed": true
   },
   "outputs": [
    {
     "data": {
      "text/plain": [
       "股票-1     1.176863\n",
       "股票-10   -0.584479\n",
       "股票-2     0.771245\n",
       "股票-3     0.609119\n",
       "股票-4    -1.880712\n",
       "Name: 2022-03-08 00:00:00, dtype: float64"
      ]
     },
     "execution_count": 33,
     "metadata": {},
     "output_type": "execute_result"
    }
   ],
   "source": [
    "stock_c['2022-03-08'].sort_index().head()"
   ]
  },
  {
   "cell_type": "code",
   "execution_count": 37,
   "id": "8aa76b1e",
   "metadata": {
    "collapsed": true
   },
   "outputs": [
    {
     "data": {
      "text/plain": [
       "股票-1     0.176863\n",
       "股票-2    -0.228755\n",
       "股票-3    -0.390881\n",
       "股票-4    -2.880712\n",
       "股票-5    -0.731374\n",
       "股票-6    -3.070283\n",
       "股票-7    -1.032521\n",
       "股票-8    -1.204984\n",
       "股票-9    -0.036332\n",
       "股票-10   -1.584479\n",
       "Name: 2022-03-08 00:00:00, dtype: float64"
      ]
     },
     "execution_count": 37,
     "metadata": {},
     "output_type": "execute_result"
    }
   ],
   "source": [
    "# 运算\n",
    "stock_c['2022-03-08'].sub(1)"
   ]
  },
  {
   "cell_type": "code",
   "execution_count": 38,
   "id": "140ef0be",
   "metadata": {
    "collapsed": true
   },
   "outputs": [
    {
     "data": {
      "text/plain": [
       "股票-1     2.176863\n",
       "股票-2     1.771245\n",
       "股票-3     1.609119\n",
       "股票-4    -0.880712\n",
       "股票-5     1.268626\n",
       "股票-6    -1.070283\n",
       "股票-7     0.967479\n",
       "股票-8     0.795016\n",
       "股票-9     1.963668\n",
       "股票-10    0.415521\n",
       "Name: 2022-03-08 00:00:00, dtype: float64"
      ]
     },
     "execution_count": 38,
     "metadata": {},
     "output_type": "execute_result"
    }
   ],
   "source": [
    "stock_c['2022-03-08']+1"
   ]
  },
  {
   "cell_type": "code",
   "execution_count": 39,
   "id": "3ebe28fe",
   "metadata": {
    "collapsed": true
   },
   "outputs": [
    {
     "data": {
      "text/plain": [
       "股票-1     False\n",
       "股票-2      True\n",
       "股票-3      True\n",
       "股票-4      True\n",
       "股票-5      True\n",
       "股票-6      True\n",
       "股票-7      True\n",
       "股票-8      True\n",
       "股票-9      True\n",
       "股票-10     True\n",
       "Name: 2022-03-08 00:00:00, dtype: bool"
      ]
     },
     "execution_count": 39,
     "metadata": {},
     "output_type": "execute_result"
    }
   ],
   "source": [
    "stock_c['2022-03-08']<1"
   ]
  },
  {
   "cell_type": "code",
   "execution_count": 44,
   "id": "9ee6427c",
   "metadata": {
    "collapsed": true
   },
   "outputs": [
    {
     "data": {
      "text/plain": [
       "股票-1     False\n",
       "股票-2      True\n",
       "股票-3      True\n",
       "股票-4      True\n",
       "股票-5      True\n",
       "股票-6      True\n",
       "股票-7      True\n",
       "股票-8      True\n",
       "股票-9      True\n",
       "股票-10     True\n",
       "dtype: bool"
      ]
     },
     "execution_count": 44,
     "metadata": {},
     "output_type": "execute_result"
    }
   ],
   "source": [
    "(stock_c['2022-03-08']<1) & (stock_c['2022-03-09']<1)"
   ]
  },
  {
   "cell_type": "code",
   "execution_count": 60,
   "id": "0f61325e",
   "metadata": {
    "collapsed": true
   },
   "outputs": [
    {
     "data": {
      "text/html": [
       "<div>\n",
       "<style scoped>\n",
       "    .dataframe tbody tr th:only-of-type {\n",
       "        vertical-align: middle;\n",
       "    }\n",
       "\n",
       "    .dataframe tbody tr th {\n",
       "        vertical-align: top;\n",
       "    }\n",
       "\n",
       "    .dataframe thead th {\n",
       "        text-align: right;\n",
       "    }\n",
       "</style>\n",
       "<table border=\"1\" class=\"dataframe\">\n",
       "  <thead>\n",
       "    <tr style=\"text-align: right;\">\n",
       "      <th></th>\n",
       "      <th>col1</th>\n",
       "      <th>col2</th>\n",
       "    </tr>\n",
       "  </thead>\n",
       "  <tbody>\n",
       "    <tr>\n",
       "      <th>0</th>\n",
       "      <td>1</td>\n",
       "      <td>5</td>\n",
       "    </tr>\n",
       "    <tr>\n",
       "      <th>1</th>\n",
       "      <td>2</td>\n",
       "      <td>6</td>\n",
       "    </tr>\n",
       "  </tbody>\n",
       "</table>\n",
       "</div>"
      ],
      "text/plain": [
       "   col1  col2\n",
       "0     1     5\n",
       "1     2     6"
      ]
     },
     "execution_count": 60,
     "metadata": {},
     "output_type": "execute_result"
    }
   ],
   "source": [
    "df = pd.DataFrame({'col1':[1,2,3,4], 'col2':[5,6,7,8]})\n",
    "df.query('col1 <3')"
   ]
  },
  {
   "cell_type": "code",
   "execution_count": 62,
   "id": "c161af47",
   "metadata": {
    "collapsed": true
   },
   "outputs": [
    {
     "data": {
      "text/plain": [
       "0     True\n",
       "1     True\n",
       "2    False\n",
       "3    False\n",
       "Name: col1, dtype: bool"
      ]
     },
     "execution_count": 62,
     "metadata": {},
     "output_type": "execute_result"
    }
   ],
   "source": [
    "df['col1'].isin([0,1,2]) # 判断值是否存在"
   ]
  },
  {
   "cell_type": "code",
   "execution_count": 59,
   "id": "c83e3e36",
   "metadata": {
    "collapsed": true
   },
   "outputs": [
    {
     "data": {
      "text/html": [
       "<div>\n",
       "<style scoped>\n",
       "    .dataframe tbody tr th:only-of-type {\n",
       "        vertical-align: middle;\n",
       "    }\n",
       "\n",
       "    .dataframe tbody tr th {\n",
       "        vertical-align: top;\n",
       "    }\n",
       "\n",
       "    .dataframe thead th {\n",
       "        text-align: right;\n",
       "    }\n",
       "</style>\n",
       "<table border=\"1\" class=\"dataframe\">\n",
       "  <thead>\n",
       "    <tr style=\"text-align: right;\">\n",
       "      <th></th>\n",
       "      <th>2022-03-05</th>\n",
       "      <th>2022-03-06</th>\n",
       "      <th>2022-03-07</th>\n",
       "      <th>2022-03-08</th>\n",
       "      <th>2022-03-09</th>\n",
       "    </tr>\n",
       "  </thead>\n",
       "  <tbody>\n",
       "    <tr>\n",
       "      <th>count</th>\n",
       "      <td>10.000000</td>\n",
       "      <td>10.0</td>\n",
       "      <td>10.000000</td>\n",
       "      <td>10.000000</td>\n",
       "      <td>10.000000</td>\n",
       "    </tr>\n",
       "    <tr>\n",
       "      <th>mean</th>\n",
       "      <td>-0.240555</td>\n",
       "      <td>1.0</td>\n",
       "      <td>-0.236186</td>\n",
       "      <td>-0.098346</td>\n",
       "      <td>0.057307</td>\n",
       "    </tr>\n",
       "    <tr>\n",
       "      <th>std</th>\n",
       "      <td>1.066134</td>\n",
       "      <td>0.0</td>\n",
       "      <td>0.763147</td>\n",
       "      <td>1.128558</td>\n",
       "      <td>0.618447</td>\n",
       "    </tr>\n",
       "    <tr>\n",
       "      <th>min</th>\n",
       "      <td>-1.992864</td>\n",
       "      <td>1.0</td>\n",
       "      <td>-1.332736</td>\n",
       "      <td>-2.070283</td>\n",
       "      <td>-0.682538</td>\n",
       "    </tr>\n",
       "    <tr>\n",
       "      <th>25%</th>\n",
       "      <td>-0.925314</td>\n",
       "      <td>1.0</td>\n",
       "      <td>-0.709568</td>\n",
       "      <td>-0.489605</td>\n",
       "      <td>-0.490258</td>\n",
       "    </tr>\n",
       "    <tr>\n",
       "      <th>50%</th>\n",
       "      <td>-0.065400</td>\n",
       "      <td>1.0</td>\n",
       "      <td>-0.196949</td>\n",
       "      <td>0.118052</td>\n",
       "      <td>-0.041105</td>\n",
       "    </tr>\n",
       "    <tr>\n",
       "      <th>75%</th>\n",
       "      <td>0.445628</td>\n",
       "      <td>1.0</td>\n",
       "      <td>0.327046</td>\n",
       "      <td>0.730714</td>\n",
       "      <td>0.578880</td>\n",
       "    </tr>\n",
       "    <tr>\n",
       "      <th>max</th>\n",
       "      <td>1.041047</td>\n",
       "      <td>1.0</td>\n",
       "      <td>0.929171</td>\n",
       "      <td>1.176863</td>\n",
       "      <td>0.978363</td>\n",
       "    </tr>\n",
       "  </tbody>\n",
       "</table>\n",
       "</div>"
      ],
      "text/plain": [
       "       2022-03-05  2022-03-06  2022-03-07  2022-03-08  2022-03-09\n",
       "count   10.000000        10.0   10.000000   10.000000   10.000000\n",
       "mean    -0.240555         1.0   -0.236186   -0.098346    0.057307\n",
       "std      1.066134         0.0    0.763147    1.128558    0.618447\n",
       "min     -1.992864         1.0   -1.332736   -2.070283   -0.682538\n",
       "25%     -0.925314         1.0   -0.709568   -0.489605   -0.490258\n",
       "50%     -0.065400         1.0   -0.196949    0.118052   -0.041105\n",
       "75%      0.445628         1.0    0.327046    0.730714    0.578880\n",
       "max      1.041047         1.0    0.929171    1.176863    0.978363"
      ]
     },
     "execution_count": 59,
     "metadata": {},
     "output_type": "execute_result"
    }
   ],
   "source": [
    "stock_c.describe()"
   ]
  },
  {
   "cell_type": "code",
   "execution_count": 64,
   "id": "6da2b568",
   "metadata": {
    "collapsed": true
   },
   "outputs": [
    {
     "data": {
      "text/plain": [
       "col1    10\n",
       "col2    26\n",
       "dtype: int64"
      ]
     },
     "execution_count": 64,
     "metadata": {},
     "output_type": "execute_result"
    }
   ],
   "source": [
    "df.sum()"
   ]
  },
  {
   "cell_type": "code",
   "execution_count": 63,
   "id": "ed9fd002",
   "metadata": {
    "collapsed": true
   },
   "outputs": [
    {
     "data": {
      "text/plain": [
       "col1    2.5\n",
       "col2    6.5\n",
       "dtype: float64"
      ]
     },
     "execution_count": 63,
     "metadata": {},
     "output_type": "execute_result"
    }
   ],
   "source": [
    "df.mean()"
   ]
  },
  {
   "cell_type": "code",
   "execution_count": 65,
   "id": "2e7d9819",
   "metadata": {
    "collapsed": true
   },
   "outputs": [
    {
     "data": {
      "text/plain": [
       "col1    3\n",
       "col2    3\n",
       "dtype: int64"
      ]
     },
     "execution_count": 65,
     "metadata": {},
     "output_type": "execute_result"
    }
   ],
   "source": [
    "df.idxmax()"
   ]
  },
  {
   "cell_type": "code",
   "execution_count": 66,
   "id": "13aafe8d",
   "metadata": {
    "collapsed": true
   },
   "outputs": [
    {
     "data": {
      "text/plain": [
       "col1    0\n",
       "col2    0\n",
       "dtype: int64"
      ]
     },
     "execution_count": 66,
     "metadata": {},
     "output_type": "execute_result"
    }
   ],
   "source": [
    "df.idxmin()"
   ]
  },
  {
   "cell_type": "code",
   "execution_count": 70,
   "id": "3d3fa7cc",
   "metadata": {
    "collapsed": true
   },
   "outputs": [
    {
     "data": {
      "text/plain": [
       "<AxesSubplot:xlabel='col1'>"
      ]
     },
     "execution_count": 70,
     "metadata": {},
     "output_type": "execute_result"
    },
    {
     "data": {
      "image/png": "[encoded data removed]",
      "text/plain": [
       "<Figure size 432x288 with 1 Axes>"
      ]
     },
     "metadata": {
      "needs_background": "light"
     },
     "output_type": "display_data"
    }
   ],
   "source": [
    "# 绘图\n",
    "df.plot(x='col1',y='col2',kind='bar') # line, barh, hist, pie, scatter"
   ]
  },
  {
   "cell_type": "code",
   "execution_count": 76,
   "id": "ea2adff3",
   "metadata": {},
   "outputs": [],
   "source": [
    "# 文件存储\n",
    "df.to_csv('./data/test.csv')"
   ]
  },
  {
   "cell_type": "code",
   "execution_count": 77,
   "id": "bc5ec1df",
   "metadata": {
    "collapsed": true
   },
   "outputs": [
    {
     "data": {
      "text/html": [
       "<div>\n",
       "<style scoped>\n",
       "    .dataframe tbody tr th:only-of-type {\n",
       "        vertical-align: middle;\n",
       "    }\n",
       "\n",
       "    .dataframe tbody tr th {\n",
       "        vertical-align: top;\n",
       "    }\n",
       "\n",
       "    .dataframe thead th {\n",
       "        text-align: right;\n",
       "    }\n",
       "</style>\n",
       "<table border=\"1\" class=\"dataframe\">\n",
       "  <thead>\n",
       "    <tr style=\"text-align: right;\">\n",
       "      <th></th>\n",
       "      <th>Unnamed: 0</th>\n",
       "      <th>col1</th>\n",
       "      <th>col2</th>\n",
       "    </tr>\n",
       "  </thead>\n",
       "  <tbody>\n",
       "    <tr>\n",
       "      <th>0</th>\n",
       "      <td>0</td>\n",
       "      <td>1</td>\n",
       "      <td>5</td>\n",
       "    </tr>\n",
       "    <tr>\n",
       "      <th>1</th>\n",
       "      <td>1</td>\n",
       "      <td>2</td>\n",
       "      <td>6</td>\n",
       "    </tr>\n",
       "    <tr>\n",
       "      <th>2</th>\n",
       "      <td>2</td>\n",
       "      <td>3</td>\n",
       "      <td>7</td>\n",
       "    </tr>\n",
       "    <tr>\n",
       "      <th>3</th>\n",
       "      <td>3</td>\n",
       "      <td>4</td>\n",
       "      <td>8</td>\n",
       "    </tr>\n",
       "  </tbody>\n",
       "</table>\n",
       "</div>"
      ],
      "text/plain": [
       "   Unnamed: 0  col1  col2\n",
       "0           0     1     5\n",
       "1           1     2     6\n",
       "2           2     3     7\n",
       "3           3     4     8"
      ]
     },
     "execution_count": 77,
     "metadata": {},
     "output_type": "execute_result"
    }
   ],
   "source": [
    "# 文件读取\n",
    "pd.read_csv('./data/test.csv')"
   ]
  },
  {
   "cell_type": "code",
   "execution_count": 79,
   "id": "70fcd3ff",
   "metadata": {},
   "outputs": [],
   "source": [
    "df.to_csv('./data/test1.csv', columns=['col1']) #按列存取"
   ]
  },
  {
   "cell_type": "code",
   "execution_count": 81,
   "id": "dca6745a",
   "metadata": {
    "collapsed": true
   },
   "outputs": [
    {
     "data": {
      "text/html": [
       "<div>\n",
       "<style scoped>\n",
       "    .dataframe tbody tr th:only-of-type {\n",
       "        vertical-align: middle;\n",
       "    }\n",
       "\n",
       "    .dataframe tbody tr th {\n",
       "        vertical-align: top;\n",
       "    }\n",
       "\n",
       "    .dataframe thead th {\n",
       "        text-align: right;\n",
       "    }\n",
       "</style>\n",
       "<table border=\"1\" class=\"dataframe\">\n",
       "  <thead>\n",
       "    <tr style=\"text-align: right;\">\n",
       "      <th></th>\n",
       "      <th>Unnamed: 0</th>\n",
       "      <th>col1</th>\n",
       "    </tr>\n",
       "  </thead>\n",
       "  <tbody>\n",
       "    <tr>\n",
       "      <th>0</th>\n",
       "      <td>0</td>\n",
       "      <td>1</td>\n",
       "    </tr>\n",
       "    <tr>\n",
       "      <th>1</th>\n",
       "      <td>1</td>\n",
       "      <td>2</td>\n",
       "    </tr>\n",
       "    <tr>\n",
       "      <th>2</th>\n",
       "      <td>2</td>\n",
       "      <td>3</td>\n",
       "    </tr>\n",
       "    <tr>\n",
       "      <th>3</th>\n",
       "      <td>3</td>\n",
       "      <td>4</td>\n",
       "    </tr>\n",
       "  </tbody>\n",
       "</table>\n",
       "</div>"
      ],
      "text/plain": [
       "   Unnamed: 0  col1\n",
       "0           0     1\n",
       "1           1     2\n",
       "2           2     3\n",
       "3           3     4"
      ]
     },
     "execution_count": 81,
     "metadata": {},
     "output_type": "execute_result"
    }
   ],
   "source": [
    "pd.read_csv('./data/test1.csv')"
   ]
  }
 ],
 "metadata": {
  "kernelspec": {
   "display_name": "Python 3 (ipykernel)",
   "language": "python",
   "name": "python3"
  },
  "language_info": {
   "codemirror_mode": {
    "name": "ipython",
    "version": 3
   },
   "file_extension": ".py",
   "mimetype": "text/x-python",
   "name": "python",
   "nbconvert_exporter": "python",
   "pygments_lexer": "ipython3",
   "version": "3.9.12"
  },
  "toc": {
   "base_numbering": 1,
   "nav_menu": {},
   "number_sections": true,
   "sideBar": true,
   "skip_h1_title": false,
   "title_cell": "Table of Contents",
   "title_sidebar": "Contents",
   "toc_cell": false,
   "toc_position": {},
   "toc_section_display": true,
   "toc_window_display": false
  },
  "varInspector": {
   "cols": {
    "lenName": 16,
    "lenType": 16,
    "lenVar": 40
   },
   "kernels_config": {
    "python": {
     "delete_cmd_postfix": "",
     "delete_cmd_prefix": "del ",
     "library": "var_list.py",
     "varRefreshCmd": "print(var_dic_list())"
    },
    "r": {
     "delete_cmd_postfix": ") ",
     "delete_cmd_prefix": "rm(",
     "library": "var_list.r",
     "varRefreshCmd": "cat(var_dic_list()) "
    }
   },
   "types_to_exclude": [
    "module",
    "function",
    "builtin_function_or_method",
    "instance",
    "_Feature"
   ],
   "window_display": false
  }
 },
 "nbformat": 4,
 "nbformat_minor": 5
}
