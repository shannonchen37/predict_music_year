{
 "cells": [
  {
   "cell_type": "code",
   "execution_count": 256,
   "metadata": {},
   "outputs": [],
   "source": [
    "import numpy as np\n",
    "import pandas as pd"
   ]
  },
  {
   "cell_type": "code",
   "execution_count": 257,
   "metadata": {},
   "outputs": [],
   "source": [
    "#高斯分布：numpy.random.normal(loc, scale, size) 分别表示均值、方差、尺寸\n",
    "stock_change = np.random.normal(0,1,(10,5))"
   ]
  },
  {
   "cell_type": "code",
   "execution_count": 258,
   "metadata": {},
   "outputs": [
    {
     "data": {
      "text/plain": [
       "array([[-0.44894875,  0.27055595,  1.74730457,  0.95272182,  0.60308138],\n",
       "       [-0.37996718, -1.23878095, -1.06664307,  0.65709029,  1.24162651],\n",
       "       [ 0.49709822,  1.18024468, -0.38352235, -0.65163611,  0.31000208],\n",
       "       [-2.71487947,  1.21756081, -2.23185024,  0.17858486, -0.28938281],\n",
       "       [ 0.43346494,  0.54485559,  0.5945031 ,  0.34028764,  0.61451297],\n",
       "       [ 0.78758425,  0.16069968, -0.73599092,  0.2050522 ,  1.27638344],\n",
       "       [ 0.27026222,  0.72317362, -1.54543078, -0.66453203, -0.68041693],\n",
       "       [-0.98598891, -1.16126898,  0.58647576,  0.25750726, -0.76568239],\n",
       "       [-0.86832036, -0.01433774,  0.72674949,  1.28015798, -0.92947882],\n",
       "       [-1.93876966,  0.3962497 , -0.57703135,  1.07611893, -0.70330017]])"
      ]
     },
     "execution_count": 258,
     "metadata": {},
     "output_type": "execute_result"
    }
   ],
   "source": [
    "stock_change"
   ]
  },
  {
   "cell_type": "code",
   "execution_count": 259,
   "metadata": {},
   "outputs": [],
   "source": [
    "stock_rise = pd.DataFrame(stock_change)"
   ]
  },
  {
   "cell_type": "code",
   "execution_count": 260,
   "metadata": {},
   "outputs": [
    {
     "data": {
      "text/html": [
       "<div>\n",
       "<style scoped>\n",
       "    .dataframe tbody tr th:only-of-type {\n",
       "        vertical-align: middle;\n",
       "    }\n",
       "\n",
       "    .dataframe tbody tr th {\n",
       "        vertical-align: top;\n",
       "    }\n",
       "\n",
       "    .dataframe thead th {\n",
       "        text-align: right;\n",
       "    }\n",
       "</style>\n",
       "<table border=\"1\" class=\"dataframe\">\n",
       "  <thead>\n",
       "    <tr style=\"text-align: right;\">\n",
       "      <th></th>\n",
       "      <th>0</th>\n",
       "      <th>1</th>\n",
       "      <th>2</th>\n",
       "      <th>3</th>\n",
       "      <th>4</th>\n",
       "    </tr>\n",
       "  </thead>\n",
       "  <tbody>\n",
       "    <tr>\n",
       "      <th>0</th>\n",
       "      <td>-0.448949</td>\n",
       "      <td>0.270556</td>\n",
       "      <td>1.747305</td>\n",
       "      <td>0.952722</td>\n",
       "      <td>0.603081</td>\n",
       "    </tr>\n",
       "    <tr>\n",
       "      <th>1</th>\n",
       "      <td>-0.379967</td>\n",
       "      <td>-1.238781</td>\n",
       "      <td>-1.066643</td>\n",
       "      <td>0.657090</td>\n",
       "      <td>1.241627</td>\n",
       "    </tr>\n",
       "    <tr>\n",
       "      <th>2</th>\n",
       "      <td>0.497098</td>\n",
       "      <td>1.180245</td>\n",
       "      <td>-0.383522</td>\n",
       "      <td>-0.651636</td>\n",
       "      <td>0.310002</td>\n",
       "    </tr>\n",
       "    <tr>\n",
       "      <th>3</th>\n",
       "      <td>-2.714879</td>\n",
       "      <td>1.217561</td>\n",
       "      <td>-2.231850</td>\n",
       "      <td>0.178585</td>\n",
       "      <td>-0.289383</td>\n",
       "    </tr>\n",
       "    <tr>\n",
       "      <th>4</th>\n",
       "      <td>0.433465</td>\n",
       "      <td>0.544856</td>\n",
       "      <td>0.594503</td>\n",
       "      <td>0.340288</td>\n",
       "      <td>0.614513</td>\n",
       "    </tr>\n",
       "    <tr>\n",
       "      <th>5</th>\n",
       "      <td>0.787584</td>\n",
       "      <td>0.160700</td>\n",
       "      <td>-0.735991</td>\n",
       "      <td>0.205052</td>\n",
       "      <td>1.276383</td>\n",
       "    </tr>\n",
       "    <tr>\n",
       "      <th>6</th>\n",
       "      <td>0.270262</td>\n",
       "      <td>0.723174</td>\n",
       "      <td>-1.545431</td>\n",
       "      <td>-0.664532</td>\n",
       "      <td>-0.680417</td>\n",
       "    </tr>\n",
       "    <tr>\n",
       "      <th>7</th>\n",
       "      <td>-0.985989</td>\n",
       "      <td>-1.161269</td>\n",
       "      <td>0.586476</td>\n",
       "      <td>0.257507</td>\n",
       "      <td>-0.765682</td>\n",
       "    </tr>\n",
       "    <tr>\n",
       "      <th>8</th>\n",
       "      <td>-0.868320</td>\n",
       "      <td>-0.014338</td>\n",
       "      <td>0.726749</td>\n",
       "      <td>1.280158</td>\n",
       "      <td>-0.929479</td>\n",
       "    </tr>\n",
       "    <tr>\n",
       "      <th>9</th>\n",
       "      <td>-1.938770</td>\n",
       "      <td>0.396250</td>\n",
       "      <td>-0.577031</td>\n",
       "      <td>1.076119</td>\n",
       "      <td>-0.703300</td>\n",
       "    </tr>\n",
       "  </tbody>\n",
       "</table>\n",
       "</div>"
      ],
      "text/plain": [
       "          0         1         2         3         4\n",
       "0 -0.448949  0.270556  1.747305  0.952722  0.603081\n",
       "1 -0.379967 -1.238781 -1.066643  0.657090  1.241627\n",
       "2  0.497098  1.180245 -0.383522 -0.651636  0.310002\n",
       "3 -2.714879  1.217561 -2.231850  0.178585 -0.289383\n",
       "4  0.433465  0.544856  0.594503  0.340288  0.614513\n",
       "5  0.787584  0.160700 -0.735991  0.205052  1.276383\n",
       "6  0.270262  0.723174 -1.545431 -0.664532 -0.680417\n",
       "7 -0.985989 -1.161269  0.586476  0.257507 -0.765682\n",
       "8 -0.868320 -0.014338  0.726749  1.280158 -0.929479\n",
       "9 -1.938770  0.396250 -0.577031  1.076119 -0.703300"
      ]
     },
     "execution_count": 260,
     "metadata": {},
     "output_type": "execute_result"
    }
   ],
   "source": [
    "stock_rise"
   ]
  },
  {
   "cell_type": "code",
   "execution_count": 261,
   "metadata": {},
   "outputs": [
    {
     "data": {
      "text/plain": [
       "(10, 5)"
      ]
     },
     "execution_count": 261,
     "metadata": {},
     "output_type": "execute_result"
    }
   ],
   "source": [
    "stock_rise.shape"
   ]
  },
  {
   "cell_type": "code",
   "execution_count": 262,
   "metadata": {},
   "outputs": [
    {
     "data": {
      "text/plain": [
       "10"
      ]
     },
     "execution_count": 262,
     "metadata": {},
     "output_type": "execute_result"
    }
   ],
   "source": [
    "stock_rise.shape[0]"
   ]
  },
  {
   "cell_type": "code",
   "execution_count": 263,
   "metadata": {},
   "outputs": [],
   "source": [
    "stock_code = [\"股票{}\".format(i+1) for i in range(stock_rise.shape[0])] #0表示列索引"
   ]
  },
  {
   "cell_type": "code",
   "execution_count": 264,
   "metadata": {},
   "outputs": [
    {
     "data": {
      "text/plain": [
       "['股票1', '股票2', '股票3', '股票4', '股票5', '股票6', '股票7', '股票8', '股票9', '股票10']"
      ]
     },
     "execution_count": 264,
     "metadata": {},
     "output_type": "execute_result"
    }
   ],
   "source": [
    "stock_code"
   ]
  },
  {
   "cell_type": "code",
   "execution_count": 265,
   "metadata": {},
   "outputs": [
    {
     "data": {
      "text/html": [
       "<div>\n",
       "<style scoped>\n",
       "    .dataframe tbody tr th:only-of-type {\n",
       "        vertical-align: middle;\n",
       "    }\n",
       "\n",
       "    .dataframe tbody tr th {\n",
       "        vertical-align: top;\n",
       "    }\n",
       "\n",
       "    .dataframe thead th {\n",
       "        text-align: right;\n",
       "    }\n",
       "</style>\n",
       "<table border=\"1\" class=\"dataframe\">\n",
       "  <thead>\n",
       "    <tr style=\"text-align: right;\">\n",
       "      <th></th>\n",
       "      <th>0</th>\n",
       "      <th>1</th>\n",
       "      <th>2</th>\n",
       "      <th>3</th>\n",
       "      <th>4</th>\n",
       "    </tr>\n",
       "  </thead>\n",
       "  <tbody>\n",
       "    <tr>\n",
       "      <th>股票1</th>\n",
       "      <td>-0.448949</td>\n",
       "      <td>0.270556</td>\n",
       "      <td>1.747305</td>\n",
       "      <td>0.952722</td>\n",
       "      <td>0.603081</td>\n",
       "    </tr>\n",
       "    <tr>\n",
       "      <th>股票2</th>\n",
       "      <td>-0.379967</td>\n",
       "      <td>-1.238781</td>\n",
       "      <td>-1.066643</td>\n",
       "      <td>0.657090</td>\n",
       "      <td>1.241627</td>\n",
       "    </tr>\n",
       "    <tr>\n",
       "      <th>股票3</th>\n",
       "      <td>0.497098</td>\n",
       "      <td>1.180245</td>\n",
       "      <td>-0.383522</td>\n",
       "      <td>-0.651636</td>\n",
       "      <td>0.310002</td>\n",
       "    </tr>\n",
       "    <tr>\n",
       "      <th>股票4</th>\n",
       "      <td>-2.714879</td>\n",
       "      <td>1.217561</td>\n",
       "      <td>-2.231850</td>\n",
       "      <td>0.178585</td>\n",
       "      <td>-0.289383</td>\n",
       "    </tr>\n",
       "    <tr>\n",
       "      <th>股票5</th>\n",
       "      <td>0.433465</td>\n",
       "      <td>0.544856</td>\n",
       "      <td>0.594503</td>\n",
       "      <td>0.340288</td>\n",
       "      <td>0.614513</td>\n",
       "    </tr>\n",
       "    <tr>\n",
       "      <th>股票6</th>\n",
       "      <td>0.787584</td>\n",
       "      <td>0.160700</td>\n",
       "      <td>-0.735991</td>\n",
       "      <td>0.205052</td>\n",
       "      <td>1.276383</td>\n",
       "    </tr>\n",
       "    <tr>\n",
       "      <th>股票7</th>\n",
       "      <td>0.270262</td>\n",
       "      <td>0.723174</td>\n",
       "      <td>-1.545431</td>\n",
       "      <td>-0.664532</td>\n",
       "      <td>-0.680417</td>\n",
       "    </tr>\n",
       "    <tr>\n",
       "      <th>股票8</th>\n",
       "      <td>-0.985989</td>\n",
       "      <td>-1.161269</td>\n",
       "      <td>0.586476</td>\n",
       "      <td>0.257507</td>\n",
       "      <td>-0.765682</td>\n",
       "    </tr>\n",
       "    <tr>\n",
       "      <th>股票9</th>\n",
       "      <td>-0.868320</td>\n",
       "      <td>-0.014338</td>\n",
       "      <td>0.726749</td>\n",
       "      <td>1.280158</td>\n",
       "      <td>-0.929479</td>\n",
       "    </tr>\n",
       "    <tr>\n",
       "      <th>股票10</th>\n",
       "      <td>-1.938770</td>\n",
       "      <td>0.396250</td>\n",
       "      <td>-0.577031</td>\n",
       "      <td>1.076119</td>\n",
       "      <td>-0.703300</td>\n",
       "    </tr>\n",
       "  </tbody>\n",
       "</table>\n",
       "</div>"
      ],
      "text/plain": [
       "             0         1         2         3         4\n",
       "股票1  -0.448949  0.270556  1.747305  0.952722  0.603081\n",
       "股票2  -0.379967 -1.238781 -1.066643  0.657090  1.241627\n",
       "股票3   0.497098  1.180245 -0.383522 -0.651636  0.310002\n",
       "股票4  -2.714879  1.217561 -2.231850  0.178585 -0.289383\n",
       "股票5   0.433465  0.544856  0.594503  0.340288  0.614513\n",
       "股票6   0.787584  0.160700 -0.735991  0.205052  1.276383\n",
       "股票7   0.270262  0.723174 -1.545431 -0.664532 -0.680417\n",
       "股票8  -0.985989 -1.161269  0.586476  0.257507 -0.765682\n",
       "股票9  -0.868320 -0.014338  0.726749  1.280158 -0.929479\n",
       "股票10 -1.938770  0.396250 -0.577031  1.076119 -0.703300"
      ]
     },
     "execution_count": 265,
     "metadata": {},
     "output_type": "execute_result"
    }
   ],
   "source": [
    "#仅显示行索引\n",
    "pd.DataFrame(stock_change,index=stock_code)"
   ]
  },
  {
   "cell_type": "code",
   "execution_count": 266,
   "metadata": {},
   "outputs": [],
   "source": [
    "date= pd.date_range(start='20221111',periods=stock_rise.shape[1])"
   ]
  },
  {
   "cell_type": "code",
   "execution_count": 267,
   "metadata": {},
   "outputs": [
    {
     "data": {
      "text/plain": [
       "DatetimeIndex(['2022-11-11', '2022-11-12', '2022-11-13', '2022-11-14',\n",
       "               '2022-11-15'],\n",
       "              dtype='datetime64[ns]', freq='D')"
      ]
     },
     "execution_count": 267,
     "metadata": {},
     "output_type": "execute_result"
    }
   ],
   "source": [
    "date"
   ]
  },
  {
   "cell_type": "code",
   "execution_count": 268,
   "metadata": {},
   "outputs": [],
   "source": [
    "stock_c = pd.DataFrame(stock_change,index=stock_code,columns=date)  #index表示行索引，colums表示列索引"
   ]
  },
  {
   "cell_type": "code",
   "execution_count": 269,
   "metadata": {},
   "outputs": [
    {
     "data": {
      "text/html": [
       "<div>\n",
       "<style scoped>\n",
       "    .dataframe tbody tr th:only-of-type {\n",
       "        vertical-align: middle;\n",
       "    }\n",
       "\n",
       "    .dataframe tbody tr th {\n",
       "        vertical-align: top;\n",
       "    }\n",
       "\n",
       "    .dataframe thead th {\n",
       "        text-align: right;\n",
       "    }\n",
       "</style>\n",
       "<table border=\"1\" class=\"dataframe\">\n",
       "  <thead>\n",
       "    <tr style=\"text-align: right;\">\n",
       "      <th></th>\n",
       "      <th>2022-11-11</th>\n",
       "      <th>2022-11-12</th>\n",
       "      <th>2022-11-13</th>\n",
       "      <th>2022-11-14</th>\n",
       "      <th>2022-11-15</th>\n",
       "    </tr>\n",
       "  </thead>\n",
       "  <tbody>\n",
       "    <tr>\n",
       "      <th>股票1</th>\n",
       "      <td>-0.448949</td>\n",
       "      <td>0.270556</td>\n",
       "      <td>1.747305</td>\n",
       "      <td>0.952722</td>\n",
       "      <td>0.603081</td>\n",
       "    </tr>\n",
       "    <tr>\n",
       "      <th>股票2</th>\n",
       "      <td>-0.379967</td>\n",
       "      <td>-1.238781</td>\n",
       "      <td>-1.066643</td>\n",
       "      <td>0.657090</td>\n",
       "      <td>1.241627</td>\n",
       "    </tr>\n",
       "    <tr>\n",
       "      <th>股票3</th>\n",
       "      <td>0.497098</td>\n",
       "      <td>1.180245</td>\n",
       "      <td>-0.383522</td>\n",
       "      <td>-0.651636</td>\n",
       "      <td>0.310002</td>\n",
       "    </tr>\n",
       "    <tr>\n",
       "      <th>股票4</th>\n",
       "      <td>-2.714879</td>\n",
       "      <td>1.217561</td>\n",
       "      <td>-2.231850</td>\n",
       "      <td>0.178585</td>\n",
       "      <td>-0.289383</td>\n",
       "    </tr>\n",
       "    <tr>\n",
       "      <th>股票5</th>\n",
       "      <td>0.433465</td>\n",
       "      <td>0.544856</td>\n",
       "      <td>0.594503</td>\n",
       "      <td>0.340288</td>\n",
       "      <td>0.614513</td>\n",
       "    </tr>\n",
       "    <tr>\n",
       "      <th>股票6</th>\n",
       "      <td>0.787584</td>\n",
       "      <td>0.160700</td>\n",
       "      <td>-0.735991</td>\n",
       "      <td>0.205052</td>\n",
       "      <td>1.276383</td>\n",
       "    </tr>\n",
       "    <tr>\n",
       "      <th>股票7</th>\n",
       "      <td>0.270262</td>\n",
       "      <td>0.723174</td>\n",
       "      <td>-1.545431</td>\n",
       "      <td>-0.664532</td>\n",
       "      <td>-0.680417</td>\n",
       "    </tr>\n",
       "    <tr>\n",
       "      <th>股票8</th>\n",
       "      <td>-0.985989</td>\n",
       "      <td>-1.161269</td>\n",
       "      <td>0.586476</td>\n",
       "      <td>0.257507</td>\n",
       "      <td>-0.765682</td>\n",
       "    </tr>\n",
       "    <tr>\n",
       "      <th>股票9</th>\n",
       "      <td>-0.868320</td>\n",
       "      <td>-0.014338</td>\n",
       "      <td>0.726749</td>\n",
       "      <td>1.280158</td>\n",
       "      <td>-0.929479</td>\n",
       "    </tr>\n",
       "    <tr>\n",
       "      <th>股票10</th>\n",
       "      <td>-1.938770</td>\n",
       "      <td>0.396250</td>\n",
       "      <td>-0.577031</td>\n",
       "      <td>1.076119</td>\n",
       "      <td>-0.703300</td>\n",
       "    </tr>\n",
       "  </tbody>\n",
       "</table>\n",
       "</div>"
      ],
      "text/plain": [
       "      2022-11-11  2022-11-12  2022-11-13  2022-11-14  2022-11-15\n",
       "股票1    -0.448949    0.270556    1.747305    0.952722    0.603081\n",
       "股票2    -0.379967   -1.238781   -1.066643    0.657090    1.241627\n",
       "股票3     0.497098    1.180245   -0.383522   -0.651636    0.310002\n",
       "股票4    -2.714879    1.217561   -2.231850    0.178585   -0.289383\n",
       "股票5     0.433465    0.544856    0.594503    0.340288    0.614513\n",
       "股票6     0.787584    0.160700   -0.735991    0.205052    1.276383\n",
       "股票7     0.270262    0.723174   -1.545431   -0.664532   -0.680417\n",
       "股票8    -0.985989   -1.161269    0.586476    0.257507   -0.765682\n",
       "股票9    -0.868320   -0.014338    0.726749    1.280158   -0.929479\n",
       "股票10   -1.938770    0.396250   -0.577031    1.076119   -0.703300"
      ]
     },
     "execution_count": 269,
     "metadata": {},
     "output_type": "execute_result"
    }
   ],
   "source": [
    "stock_c "
   ]
  },
  {
   "cell_type": "code",
   "execution_count": 270,
   "metadata": {},
   "outputs": [],
   "source": [
    "# pd.DataFrame 的 index columns value transform"
   ]
  },
  {
   "cell_type": "code",
   "execution_count": 271,
   "metadata": {},
   "outputs": [
    {
     "data": {
      "text/html": [
       "<div>\n",
       "<style scoped>\n",
       "    .dataframe tbody tr th:only-of-type {\n",
       "        vertical-align: middle;\n",
       "    }\n",
       "\n",
       "    .dataframe tbody tr th {\n",
       "        vertical-align: top;\n",
       "    }\n",
       "\n",
       "    .dataframe thead th {\n",
       "        text-align: right;\n",
       "    }\n",
       "</style>\n",
       "<table border=\"1\" class=\"dataframe\">\n",
       "  <thead>\n",
       "    <tr style=\"text-align: right;\">\n",
       "      <th></th>\n",
       "      <th>2022-11-11</th>\n",
       "      <th>2022-11-12</th>\n",
       "      <th>2022-11-13</th>\n",
       "      <th>2022-11-14</th>\n",
       "      <th>2022-11-15</th>\n",
       "    </tr>\n",
       "  </thead>\n",
       "  <tbody>\n",
       "    <tr>\n",
       "      <th>股票1</th>\n",
       "      <td>-0.448949</td>\n",
       "      <td>0.270556</td>\n",
       "      <td>1.747305</td>\n",
       "      <td>0.952722</td>\n",
       "      <td>0.603081</td>\n",
       "    </tr>\n",
       "    <tr>\n",
       "      <th>股票2</th>\n",
       "      <td>-0.379967</td>\n",
       "      <td>-1.238781</td>\n",
       "      <td>-1.066643</td>\n",
       "      <td>0.657090</td>\n",
       "      <td>1.241627</td>\n",
       "    </tr>\n",
       "    <tr>\n",
       "      <th>股票3</th>\n",
       "      <td>0.497098</td>\n",
       "      <td>1.180245</td>\n",
       "      <td>-0.383522</td>\n",
       "      <td>-0.651636</td>\n",
       "      <td>0.310002</td>\n",
       "    </tr>\n",
       "    <tr>\n",
       "      <th>股票4</th>\n",
       "      <td>-2.714879</td>\n",
       "      <td>1.217561</td>\n",
       "      <td>-2.231850</td>\n",
       "      <td>0.178585</td>\n",
       "      <td>-0.289383</td>\n",
       "    </tr>\n",
       "    <tr>\n",
       "      <th>股票5</th>\n",
       "      <td>0.433465</td>\n",
       "      <td>0.544856</td>\n",
       "      <td>0.594503</td>\n",
       "      <td>0.340288</td>\n",
       "      <td>0.614513</td>\n",
       "    </tr>\n",
       "  </tbody>\n",
       "</table>\n",
       "</div>"
      ],
      "text/plain": [
       "     2022-11-11  2022-11-12  2022-11-13  2022-11-14  2022-11-15\n",
       "股票1   -0.448949    0.270556    1.747305    0.952722    0.603081\n",
       "股票2   -0.379967   -1.238781   -1.066643    0.657090    1.241627\n",
       "股票3    0.497098    1.180245   -0.383522   -0.651636    0.310002\n",
       "股票4   -2.714879    1.217561   -2.231850    0.178585   -0.289383\n",
       "股票5    0.433465    0.544856    0.594503    0.340288    0.614513"
      ]
     },
     "execution_count": 271,
     "metadata": {},
     "output_type": "execute_result"
    }
   ],
   "source": [
    "stock_c.head()  #查看头几行，默认5行"
   ]
  },
  {
   "cell_type": "code",
   "execution_count": 272,
   "metadata": {},
   "outputs": [
    {
     "data": {
      "text/html": [
       "<div>\n",
       "<style scoped>\n",
       "    .dataframe tbody tr th:only-of-type {\n",
       "        vertical-align: middle;\n",
       "    }\n",
       "\n",
       "    .dataframe tbody tr th {\n",
       "        vertical-align: top;\n",
       "    }\n",
       "\n",
       "    .dataframe thead th {\n",
       "        text-align: right;\n",
       "    }\n",
       "</style>\n",
       "<table border=\"1\" class=\"dataframe\">\n",
       "  <thead>\n",
       "    <tr style=\"text-align: right;\">\n",
       "      <th></th>\n",
       "      <th>2022-11-11</th>\n",
       "      <th>2022-11-12</th>\n",
       "      <th>2022-11-13</th>\n",
       "      <th>2022-11-14</th>\n",
       "      <th>2022-11-15</th>\n",
       "    </tr>\n",
       "  </thead>\n",
       "  <tbody>\n",
       "    <tr>\n",
       "      <th>股票8</th>\n",
       "      <td>-0.985989</td>\n",
       "      <td>-1.161269</td>\n",
       "      <td>0.586476</td>\n",
       "      <td>0.257507</td>\n",
       "      <td>-0.765682</td>\n",
       "    </tr>\n",
       "    <tr>\n",
       "      <th>股票9</th>\n",
       "      <td>-0.868320</td>\n",
       "      <td>-0.014338</td>\n",
       "      <td>0.726749</td>\n",
       "      <td>1.280158</td>\n",
       "      <td>-0.929479</td>\n",
       "    </tr>\n",
       "    <tr>\n",
       "      <th>股票10</th>\n",
       "      <td>-1.938770</td>\n",
       "      <td>0.396250</td>\n",
       "      <td>-0.577031</td>\n",
       "      <td>1.076119</td>\n",
       "      <td>-0.703300</td>\n",
       "    </tr>\n",
       "  </tbody>\n",
       "</table>\n",
       "</div>"
      ],
      "text/plain": [
       "      2022-11-11  2022-11-12  2022-11-13  2022-11-14  2022-11-15\n",
       "股票8    -0.985989   -1.161269    0.586476    0.257507   -0.765682\n",
       "股票9    -0.868320   -0.014338    0.726749    1.280158   -0.929479\n",
       "股票10   -1.938770    0.396250   -0.577031    1.076119   -0.703300"
      ]
     },
     "execution_count": 272,
     "metadata": {},
     "output_type": "execute_result"
    }
   ],
   "source": [
    "stock_c.tail(3)     #同head()"
   ]
  },
  {
   "cell_type": "code",
   "execution_count": 273,
   "metadata": {},
   "outputs": [
    {
     "data": {
      "text/html": [
       "<div>\n",
       "<style scoped>\n",
       "    .dataframe tbody tr th:only-of-type {\n",
       "        vertical-align: middle;\n",
       "    }\n",
       "\n",
       "    .dataframe tbody tr th {\n",
       "        vertical-align: top;\n",
       "    }\n",
       "\n",
       "    .dataframe thead th {\n",
       "        text-align: right;\n",
       "    }\n",
       "</style>\n",
       "<table border=\"1\" class=\"dataframe\">\n",
       "  <thead>\n",
       "    <tr style=\"text-align: right;\">\n",
       "      <th></th>\n",
       "      <th>2022-11-11</th>\n",
       "      <th>2022-11-12</th>\n",
       "      <th>2022-11-13</th>\n",
       "      <th>2022-11-14</th>\n",
       "      <th>2022-11-15</th>\n",
       "    </tr>\n",
       "  </thead>\n",
       "  <tbody>\n",
       "    <tr>\n",
       "      <th>股票(1)</th>\n",
       "      <td>-0.448949</td>\n",
       "      <td>0.270556</td>\n",
       "      <td>1.747305</td>\n",
       "      <td>0.952722</td>\n",
       "      <td>0.603081</td>\n",
       "    </tr>\n",
       "    <tr>\n",
       "      <th>股票(2)</th>\n",
       "      <td>-0.379967</td>\n",
       "      <td>-1.238781</td>\n",
       "      <td>-1.066643</td>\n",
       "      <td>0.657090</td>\n",
       "      <td>1.241627</td>\n",
       "    </tr>\n",
       "    <tr>\n",
       "      <th>股票(3)</th>\n",
       "      <td>0.497098</td>\n",
       "      <td>1.180245</td>\n",
       "      <td>-0.383522</td>\n",
       "      <td>-0.651636</td>\n",
       "      <td>0.310002</td>\n",
       "    </tr>\n",
       "    <tr>\n",
       "      <th>股票(4)</th>\n",
       "      <td>-2.714879</td>\n",
       "      <td>1.217561</td>\n",
       "      <td>-2.231850</td>\n",
       "      <td>0.178585</td>\n",
       "      <td>-0.289383</td>\n",
       "    </tr>\n",
       "    <tr>\n",
       "      <th>股票(5)</th>\n",
       "      <td>0.433465</td>\n",
       "      <td>0.544856</td>\n",
       "      <td>0.594503</td>\n",
       "      <td>0.340288</td>\n",
       "      <td>0.614513</td>\n",
       "    </tr>\n",
       "    <tr>\n",
       "      <th>股票(6)</th>\n",
       "      <td>0.787584</td>\n",
       "      <td>0.160700</td>\n",
       "      <td>-0.735991</td>\n",
       "      <td>0.205052</td>\n",
       "      <td>1.276383</td>\n",
       "    </tr>\n",
       "    <tr>\n",
       "      <th>股票(7)</th>\n",
       "      <td>0.270262</td>\n",
       "      <td>0.723174</td>\n",
       "      <td>-1.545431</td>\n",
       "      <td>-0.664532</td>\n",
       "      <td>-0.680417</td>\n",
       "    </tr>\n",
       "    <tr>\n",
       "      <th>股票(8)</th>\n",
       "      <td>-0.985989</td>\n",
       "      <td>-1.161269</td>\n",
       "      <td>0.586476</td>\n",
       "      <td>0.257507</td>\n",
       "      <td>-0.765682</td>\n",
       "    </tr>\n",
       "    <tr>\n",
       "      <th>股票(9)</th>\n",
       "      <td>-0.868320</td>\n",
       "      <td>-0.014338</td>\n",
       "      <td>0.726749</td>\n",
       "      <td>1.280158</td>\n",
       "      <td>-0.929479</td>\n",
       "    </tr>\n",
       "    <tr>\n",
       "      <th>股票(10)</th>\n",
       "      <td>-1.938770</td>\n",
       "      <td>0.396250</td>\n",
       "      <td>-0.577031</td>\n",
       "      <td>1.076119</td>\n",
       "      <td>-0.703300</td>\n",
       "    </tr>\n",
       "  </tbody>\n",
       "</table>\n",
       "</div>"
      ],
      "text/plain": [
       "        2022-11-11  2022-11-12  2022-11-13  2022-11-14  2022-11-15\n",
       "股票(1)    -0.448949    0.270556    1.747305    0.952722    0.603081\n",
       "股票(2)    -0.379967   -1.238781   -1.066643    0.657090    1.241627\n",
       "股票(3)     0.497098    1.180245   -0.383522   -0.651636    0.310002\n",
       "股票(4)    -2.714879    1.217561   -2.231850    0.178585   -0.289383\n",
       "股票(5)     0.433465    0.544856    0.594503    0.340288    0.614513\n",
       "股票(6)     0.787584    0.160700   -0.735991    0.205052    1.276383\n",
       "股票(7)     0.270262    0.723174   -1.545431   -0.664532   -0.680417\n",
       "股票(8)    -0.985989   -1.161269    0.586476    0.257507   -0.765682\n",
       "股票(9)    -0.868320   -0.014338    0.726749    1.280158   -0.929479\n",
       "股票(10)   -1.938770    0.396250   -0.577031    1.076119   -0.703300"
      ]
     },
     "execution_count": 273,
     "metadata": {},
     "output_type": "execute_result"
    }
   ],
   "source": [
    "stock_code = [\"股票({})\".format(i+1) for i in range(stock_rise.shape[0])]\n",
    "stock_c.index = stock_code\n",
    "stock_c"
   ]
  },
  {
   "cell_type": "code",
   "execution_count": 274,
   "metadata": {},
   "outputs": [
    {
     "data": {
      "text/html": [
       "<div>\n",
       "<style scoped>\n",
       "    .dataframe tbody tr th:only-of-type {\n",
       "        vertical-align: middle;\n",
       "    }\n",
       "\n",
       "    .dataframe tbody tr th {\n",
       "        vertical-align: top;\n",
       "    }\n",
       "\n",
       "    .dataframe thead th {\n",
       "        text-align: right;\n",
       "    }\n",
       "</style>\n",
       "<table border=\"1\" class=\"dataframe\">\n",
       "  <thead>\n",
       "    <tr style=\"text-align: right;\">\n",
       "      <th></th>\n",
       "      <th>index</th>\n",
       "      <th>2022-11-11 00:00:00</th>\n",
       "      <th>2022-11-12 00:00:00</th>\n",
       "      <th>2022-11-13 00:00:00</th>\n",
       "      <th>2022-11-14 00:00:00</th>\n",
       "      <th>2022-11-15 00:00:00</th>\n",
       "    </tr>\n",
       "  </thead>\n",
       "  <tbody>\n",
       "    <tr>\n",
       "      <th>0</th>\n",
       "      <td>股票(1)</td>\n",
       "      <td>-0.448949</td>\n",
       "      <td>0.270556</td>\n",
       "      <td>1.747305</td>\n",
       "      <td>0.952722</td>\n",
       "      <td>0.603081</td>\n",
       "    </tr>\n",
       "    <tr>\n",
       "      <th>1</th>\n",
       "      <td>股票(2)</td>\n",
       "      <td>-0.379967</td>\n",
       "      <td>-1.238781</td>\n",
       "      <td>-1.066643</td>\n",
       "      <td>0.657090</td>\n",
       "      <td>1.241627</td>\n",
       "    </tr>\n",
       "    <tr>\n",
       "      <th>2</th>\n",
       "      <td>股票(3)</td>\n",
       "      <td>0.497098</td>\n",
       "      <td>1.180245</td>\n",
       "      <td>-0.383522</td>\n",
       "      <td>-0.651636</td>\n",
       "      <td>0.310002</td>\n",
       "    </tr>\n",
       "    <tr>\n",
       "      <th>3</th>\n",
       "      <td>股票(4)</td>\n",
       "      <td>-2.714879</td>\n",
       "      <td>1.217561</td>\n",
       "      <td>-2.231850</td>\n",
       "      <td>0.178585</td>\n",
       "      <td>-0.289383</td>\n",
       "    </tr>\n",
       "    <tr>\n",
       "      <th>4</th>\n",
       "      <td>股票(5)</td>\n",
       "      <td>0.433465</td>\n",
       "      <td>0.544856</td>\n",
       "      <td>0.594503</td>\n",
       "      <td>0.340288</td>\n",
       "      <td>0.614513</td>\n",
       "    </tr>\n",
       "    <tr>\n",
       "      <th>5</th>\n",
       "      <td>股票(6)</td>\n",
       "      <td>0.787584</td>\n",
       "      <td>0.160700</td>\n",
       "      <td>-0.735991</td>\n",
       "      <td>0.205052</td>\n",
       "      <td>1.276383</td>\n",
       "    </tr>\n",
       "    <tr>\n",
       "      <th>6</th>\n",
       "      <td>股票(7)</td>\n",
       "      <td>0.270262</td>\n",
       "      <td>0.723174</td>\n",
       "      <td>-1.545431</td>\n",
       "      <td>-0.664532</td>\n",
       "      <td>-0.680417</td>\n",
       "    </tr>\n",
       "    <tr>\n",
       "      <th>7</th>\n",
       "      <td>股票(8)</td>\n",
       "      <td>-0.985989</td>\n",
       "      <td>-1.161269</td>\n",
       "      <td>0.586476</td>\n",
       "      <td>0.257507</td>\n",
       "      <td>-0.765682</td>\n",
       "    </tr>\n",
       "    <tr>\n",
       "      <th>8</th>\n",
       "      <td>股票(9)</td>\n",
       "      <td>-0.868320</td>\n",
       "      <td>-0.014338</td>\n",
       "      <td>0.726749</td>\n",
       "      <td>1.280158</td>\n",
       "      <td>-0.929479</td>\n",
       "    </tr>\n",
       "    <tr>\n",
       "      <th>9</th>\n",
       "      <td>股票(10)</td>\n",
       "      <td>-1.938770</td>\n",
       "      <td>0.396250</td>\n",
       "      <td>-0.577031</td>\n",
       "      <td>1.076119</td>\n",
       "      <td>-0.703300</td>\n",
       "    </tr>\n",
       "  </tbody>\n",
       "</table>\n",
       "</div>"
      ],
      "text/plain": [
       "    index  2022-11-11 00:00:00  2022-11-12 00:00:00  2022-11-13 00:00:00  \\\n",
       "0   股票(1)            -0.448949             0.270556             1.747305   \n",
       "1   股票(2)            -0.379967            -1.238781            -1.066643   \n",
       "2   股票(3)             0.497098             1.180245            -0.383522   \n",
       "3   股票(4)            -2.714879             1.217561            -2.231850   \n",
       "4   股票(5)             0.433465             0.544856             0.594503   \n",
       "5   股票(6)             0.787584             0.160700            -0.735991   \n",
       "6   股票(7)             0.270262             0.723174            -1.545431   \n",
       "7   股票(8)            -0.985989            -1.161269             0.586476   \n",
       "8   股票(9)            -0.868320            -0.014338             0.726749   \n",
       "9  股票(10)            -1.938770             0.396250            -0.577031   \n",
       "\n",
       "   2022-11-14 00:00:00  2022-11-15 00:00:00  \n",
       "0             0.952722             0.603081  \n",
       "1             0.657090             1.241627  \n",
       "2            -0.651636             0.310002  \n",
       "3             0.178585            -0.289383  \n",
       "4             0.340288             0.614513  \n",
       "5             0.205052             1.276383  \n",
       "6            -0.664532            -0.680417  \n",
       "7             0.257507            -0.765682  \n",
       "8             1.280158            -0.929479  \n",
       "9             1.076119            -0.703300  "
      ]
     },
     "execution_count": 274,
     "metadata": {},
     "output_type": "execute_result"
    }
   ],
   "source": [
    "stock_c.reset_index()"
   ]
  },
  {
   "cell_type": "code",
   "execution_count": 275,
   "metadata": {},
   "outputs": [
    {
     "data": {
      "text/html": [
       "<div>\n",
       "<style scoped>\n",
       "    .dataframe tbody tr th:only-of-type {\n",
       "        vertical-align: middle;\n",
       "    }\n",
       "\n",
       "    .dataframe tbody tr th {\n",
       "        vertical-align: top;\n",
       "    }\n",
       "\n",
       "    .dataframe thead th {\n",
       "        text-align: right;\n",
       "    }\n",
       "</style>\n",
       "<table border=\"1\" class=\"dataframe\">\n",
       "  <thead>\n",
       "    <tr style=\"text-align: right;\">\n",
       "      <th></th>\n",
       "      <th>month</th>\n",
       "      <th>year</th>\n",
       "      <th>sale</th>\n",
       "    </tr>\n",
       "  </thead>\n",
       "  <tbody>\n",
       "    <tr>\n",
       "      <th>0</th>\n",
       "      <td>1</td>\n",
       "      <td>2001</td>\n",
       "      <td>100</td>\n",
       "    </tr>\n",
       "    <tr>\n",
       "      <th>1</th>\n",
       "      <td>2</td>\n",
       "      <td>2002</td>\n",
       "      <td>200</td>\n",
       "    </tr>\n",
       "    <tr>\n",
       "      <th>2</th>\n",
       "      <td>3</td>\n",
       "      <td>2003</td>\n",
       "      <td>300</td>\n",
       "    </tr>\n",
       "    <tr>\n",
       "      <th>3</th>\n",
       "      <td>4</td>\n",
       "      <td>2004</td>\n",
       "      <td>400</td>\n",
       "    </tr>\n",
       "  </tbody>\n",
       "</table>\n",
       "</div>"
      ],
      "text/plain": [
       "   month  year  sale\n",
       "0      1  2001   100\n",
       "1      2  2002   200\n",
       "2      3  2003   300\n",
       "3      4  2004   400"
      ]
     },
     "execution_count": 275,
     "metadata": {},
     "output_type": "execute_result"
    }
   ],
   "source": [
    "df = pd.DataFrame({'month':[1,2,3,4],'year':[2001,2002,2003,2004],'sale':[100,200,300,400]})\n",
    "df"
   ]
  },
  {
   "cell_type": "code",
   "execution_count": 276,
   "metadata": {},
   "outputs": [
    {
     "data": {
      "text/html": [
       "<div>\n",
       "<style scoped>\n",
       "    .dataframe tbody tr th:only-of-type {\n",
       "        vertical-align: middle;\n",
       "    }\n",
       "\n",
       "    .dataframe tbody tr th {\n",
       "        vertical-align: top;\n",
       "    }\n",
       "\n",
       "    .dataframe thead th {\n",
       "        text-align: right;\n",
       "    }\n",
       "</style>\n",
       "<table border=\"1\" class=\"dataframe\">\n",
       "  <thead>\n",
       "    <tr style=\"text-align: right;\">\n",
       "      <th></th>\n",
       "      <th>month</th>\n",
       "      <th>sale</th>\n",
       "    </tr>\n",
       "    <tr>\n",
       "      <th>year</th>\n",
       "      <th></th>\n",
       "      <th></th>\n",
       "    </tr>\n",
       "  </thead>\n",
       "  <tbody>\n",
       "    <tr>\n",
       "      <th>2001</th>\n",
       "      <td>1</td>\n",
       "      <td>100</td>\n",
       "    </tr>\n",
       "    <tr>\n",
       "      <th>2002</th>\n",
       "      <td>2</td>\n",
       "      <td>200</td>\n",
       "    </tr>\n",
       "    <tr>\n",
       "      <th>2003</th>\n",
       "      <td>3</td>\n",
       "      <td>300</td>\n",
       "    </tr>\n",
       "    <tr>\n",
       "      <th>2004</th>\n",
       "      <td>4</td>\n",
       "      <td>400</td>\n",
       "    </tr>\n",
       "  </tbody>\n",
       "</table>\n",
       "</div>"
      ],
      "text/plain": [
       "      month  sale\n",
       "year             \n",
       "2001      1   100\n",
       "2002      2   200\n",
       "2003      3   300\n",
       "2004      4   400"
      ]
     },
     "execution_count": 276,
     "metadata": {},
     "output_type": "execute_result"
    }
   ],
   "source": [
    "df.set_index(keys='year',drop=True) #drop 表示把year的列也删掉\n",
    "# df.set_index(keys='year',drop=False)"
   ]
  },
  {
   "cell_type": "code",
   "execution_count": 277,
   "metadata": {},
   "outputs": [
    {
     "data": {
      "text/plain": [
       "0.49709821514078323"
      ]
     },
     "execution_count": 277,
     "metadata": {},
     "output_type": "execute_result"
    }
   ],
   "source": [
    "# 索引方式\n",
    "stock_c['20221111']['股票(3)'] #相当于索引矩阵，注意，必须先列后行"
   ]
  },
  {
   "cell_type": "code",
   "execution_count": 278,
   "metadata": {},
   "outputs": [
    {
     "data": {
      "text/html": [
       "<div>\n",
       "<style scoped>\n",
       "    .dataframe tbody tr th:only-of-type {\n",
       "        vertical-align: middle;\n",
       "    }\n",
       "\n",
       "    .dataframe tbody tr th {\n",
       "        vertical-align: top;\n",
       "    }\n",
       "\n",
       "    .dataframe thead th {\n",
       "        text-align: right;\n",
       "    }\n",
       "</style>\n",
       "<table border=\"1\" class=\"dataframe\">\n",
       "  <thead>\n",
       "    <tr style=\"text-align: right;\">\n",
       "      <th></th>\n",
       "      <th>2022-11-11</th>\n",
       "      <th>2022-11-12</th>\n",
       "      <th>2022-11-13</th>\n",
       "      <th>2022-11-14</th>\n",
       "      <th>2022-11-15</th>\n",
       "    </tr>\n",
       "  </thead>\n",
       "  <tbody>\n",
       "    <tr>\n",
       "      <th>股票(1)</th>\n",
       "      <td>-0.448949</td>\n",
       "      <td>0.270556</td>\n",
       "      <td>1.747305</td>\n",
       "      <td>0.952722</td>\n",
       "      <td>0.603081</td>\n",
       "    </tr>\n",
       "    <tr>\n",
       "      <th>股票(2)</th>\n",
       "      <td>-0.379967</td>\n",
       "      <td>-1.238781</td>\n",
       "      <td>-1.066643</td>\n",
       "      <td>0.657090</td>\n",
       "      <td>1.241627</td>\n",
       "    </tr>\n",
       "    <tr>\n",
       "      <th>股票(3)</th>\n",
       "      <td>0.497098</td>\n",
       "      <td>1.180245</td>\n",
       "      <td>-0.383522</td>\n",
       "      <td>-0.651636</td>\n",
       "      <td>0.310002</td>\n",
       "    </tr>\n",
       "  </tbody>\n",
       "</table>\n",
       "</div>"
      ],
      "text/plain": [
       "       2022-11-11  2022-11-12  2022-11-13  2022-11-14  2022-11-15\n",
       "股票(1)   -0.448949    0.270556    1.747305    0.952722    0.603081\n",
       "股票(2)   -0.379967   -1.238781   -1.066643    0.657090    1.241627\n",
       "股票(3)    0.497098    1.180245   -0.383522   -0.651636    0.310002"
      ]
     },
     "execution_count": 278,
     "metadata": {},
     "output_type": "execute_result"
    }
   ],
   "source": [
    "# 切片方式1\n",
    "stock_c.loc['股票(1)':'股票(3)']"
   ]
  },
  {
   "cell_type": "code",
   "execution_count": 279,
   "metadata": {},
   "outputs": [
    {
     "data": {
      "text/html": [
       "<div>\n",
       "<style scoped>\n",
       "    .dataframe tbody tr th:only-of-type {\n",
       "        vertical-align: middle;\n",
       "    }\n",
       "\n",
       "    .dataframe tbody tr th {\n",
       "        vertical-align: top;\n",
       "    }\n",
       "\n",
       "    .dataframe thead th {\n",
       "        text-align: right;\n",
       "    }\n",
       "</style>\n",
       "<table border=\"1\" class=\"dataframe\">\n",
       "  <thead>\n",
       "    <tr style=\"text-align: right;\">\n",
       "      <th></th>\n",
       "      <th>2022-11-11</th>\n",
       "      <th>2022-11-12</th>\n",
       "    </tr>\n",
       "  </thead>\n",
       "  <tbody>\n",
       "    <tr>\n",
       "      <th>股票(1)</th>\n",
       "      <td>-0.448949</td>\n",
       "      <td>0.270556</td>\n",
       "    </tr>\n",
       "    <tr>\n",
       "      <th>股票(2)</th>\n",
       "      <td>-0.379967</td>\n",
       "      <td>-1.238781</td>\n",
       "    </tr>\n",
       "    <tr>\n",
       "      <th>股票(3)</th>\n",
       "      <td>0.497098</td>\n",
       "      <td>1.180245</td>\n",
       "    </tr>\n",
       "  </tbody>\n",
       "</table>\n",
       "</div>"
      ],
      "text/plain": [
       "       2022-11-11  2022-11-12\n",
       "股票(1)   -0.448949    0.270556\n",
       "股票(2)   -0.379967   -1.238781\n",
       "股票(3)    0.497098    1.180245"
      ]
     },
     "execution_count": 279,
     "metadata": {},
     "output_type": "execute_result"
    }
   ],
   "source": [
    "# 切片方式1\n",
    "stock_c.iloc[:3,:2] #先列后行"
   ]
  },
  {
   "cell_type": "code",
   "execution_count": 280,
   "metadata": {},
   "outputs": [],
   "source": [
    "# 给特定位置、行、列赋值\n",
    "# stock_c['20221111']['股票(3)'] = 1\n",
    "# stock_c['20221111'] = 1\n",
    "# stock_c['股票(3)'] = 1"
   ]
  },
  {
   "cell_type": "code",
   "execution_count": 281,
   "metadata": {},
   "outputs": [
    {
     "data": {
      "text/html": [
       "<div>\n",
       "<style scoped>\n",
       "    .dataframe tbody tr th:only-of-type {\n",
       "        vertical-align: middle;\n",
       "    }\n",
       "\n",
       "    .dataframe tbody tr th {\n",
       "        vertical-align: top;\n",
       "    }\n",
       "\n",
       "    .dataframe thead th {\n",
       "        text-align: right;\n",
       "    }\n",
       "</style>\n",
       "<table border=\"1\" class=\"dataframe\">\n",
       "  <thead>\n",
       "    <tr style=\"text-align: right;\">\n",
       "      <th></th>\n",
       "      <th>2022-11-11</th>\n",
       "      <th>2022-11-12</th>\n",
       "      <th>2022-11-13</th>\n",
       "      <th>2022-11-14</th>\n",
       "      <th>2022-11-15</th>\n",
       "    </tr>\n",
       "  </thead>\n",
       "  <tbody>\n",
       "    <tr>\n",
       "      <th>股票(4)</th>\n",
       "      <td>-2.714879</td>\n",
       "      <td>1.217561</td>\n",
       "      <td>-2.231850</td>\n",
       "      <td>0.178585</td>\n",
       "      <td>-0.289383</td>\n",
       "    </tr>\n",
       "    <tr>\n",
       "      <th>股票(10)</th>\n",
       "      <td>-1.938770</td>\n",
       "      <td>0.396250</td>\n",
       "      <td>-0.577031</td>\n",
       "      <td>1.076119</td>\n",
       "      <td>-0.703300</td>\n",
       "    </tr>\n",
       "    <tr>\n",
       "      <th>股票(8)</th>\n",
       "      <td>-0.985989</td>\n",
       "      <td>-1.161269</td>\n",
       "      <td>0.586476</td>\n",
       "      <td>0.257507</td>\n",
       "      <td>-0.765682</td>\n",
       "    </tr>\n",
       "    <tr>\n",
       "      <th>股票(9)</th>\n",
       "      <td>-0.868320</td>\n",
       "      <td>-0.014338</td>\n",
       "      <td>0.726749</td>\n",
       "      <td>1.280158</td>\n",
       "      <td>-0.929479</td>\n",
       "    </tr>\n",
       "    <tr>\n",
       "      <th>股票(1)</th>\n",
       "      <td>-0.448949</td>\n",
       "      <td>0.270556</td>\n",
       "      <td>1.747305</td>\n",
       "      <td>0.952722</td>\n",
       "      <td>0.603081</td>\n",
       "    </tr>\n",
       "    <tr>\n",
       "      <th>股票(2)</th>\n",
       "      <td>-0.379967</td>\n",
       "      <td>-1.238781</td>\n",
       "      <td>-1.066643</td>\n",
       "      <td>0.657090</td>\n",
       "      <td>1.241627</td>\n",
       "    </tr>\n",
       "    <tr>\n",
       "      <th>股票(7)</th>\n",
       "      <td>0.270262</td>\n",
       "      <td>0.723174</td>\n",
       "      <td>-1.545431</td>\n",
       "      <td>-0.664532</td>\n",
       "      <td>-0.680417</td>\n",
       "    </tr>\n",
       "    <tr>\n",
       "      <th>股票(5)</th>\n",
       "      <td>0.433465</td>\n",
       "      <td>0.544856</td>\n",
       "      <td>0.594503</td>\n",
       "      <td>0.340288</td>\n",
       "      <td>0.614513</td>\n",
       "    </tr>\n",
       "    <tr>\n",
       "      <th>股票(3)</th>\n",
       "      <td>0.497098</td>\n",
       "      <td>1.180245</td>\n",
       "      <td>-0.383522</td>\n",
       "      <td>-0.651636</td>\n",
       "      <td>0.310002</td>\n",
       "    </tr>\n",
       "    <tr>\n",
       "      <th>股票(6)</th>\n",
       "      <td>0.787584</td>\n",
       "      <td>0.160700</td>\n",
       "      <td>-0.735991</td>\n",
       "      <td>0.205052</td>\n",
       "      <td>1.276383</td>\n",
       "    </tr>\n",
       "  </tbody>\n",
       "</table>\n",
       "</div>"
      ],
      "text/plain": [
       "        2022-11-11  2022-11-12  2022-11-13  2022-11-14  2022-11-15\n",
       "股票(4)    -2.714879    1.217561   -2.231850    0.178585   -0.289383\n",
       "股票(10)   -1.938770    0.396250   -0.577031    1.076119   -0.703300\n",
       "股票(8)    -0.985989   -1.161269    0.586476    0.257507   -0.765682\n",
       "股票(9)    -0.868320   -0.014338    0.726749    1.280158   -0.929479\n",
       "股票(1)    -0.448949    0.270556    1.747305    0.952722    0.603081\n",
       "股票(2)    -0.379967   -1.238781   -1.066643    0.657090    1.241627\n",
       "股票(7)     0.270262    0.723174   -1.545431   -0.664532   -0.680417\n",
       "股票(5)     0.433465    0.544856    0.594503    0.340288    0.614513\n",
       "股票(3)     0.497098    1.180245   -0.383522   -0.651636    0.310002\n",
       "股票(6)     0.787584    0.160700   -0.735991    0.205052    1.276383"
      ]
     },
     "execution_count": 281,
     "metadata": {},
     "output_type": "execute_result"
    }
   ],
   "source": [
    "# 排序\n",
    "stock_c.sort_values(by='20221111',ascending=True)   #ascending=True表示从小到大排序"
   ]
  },
  {
   "cell_type": "code",
   "execution_count": 282,
   "metadata": {},
   "outputs": [
    {
     "data": {
      "text/plain": [
       "股票(6)     0.787584\n",
       "股票(3)     0.497098\n",
       "股票(5)     0.433465\n",
       "股票(7)     0.270262\n",
       "股票(2)    -0.379967\n",
       "股票(1)    -0.448949\n",
       "股票(9)    -0.868320\n",
       "股票(8)    -0.985989\n",
       "股票(10)   -1.938770\n",
       "股票(4)    -2.714879\n",
       "Name: 2022-11-11 00:00:00, dtype: float64"
      ]
     },
     "execution_count": 282,
     "metadata": {},
     "output_type": "execute_result"
    }
   ],
   "source": [
    "stock_c['20221111'].sort_values(ascending=False)"
   ]
  },
  {
   "cell_type": "code",
   "execution_count": 283,
   "metadata": {},
   "outputs": [
    {
     "data": {
      "text/plain": [
       "股票(1)    -0.448949\n",
       "股票(10)   -1.938770\n",
       "股票(2)    -0.379967\n",
       "股票(3)     0.497098\n",
       "股票(4)    -2.714879\n",
       "Name: 2022-11-11 00:00:00, dtype: float64"
      ]
     },
     "execution_count": 283,
     "metadata": {},
     "output_type": "execute_result"
    }
   ],
   "source": [
    "stock_c['20221111'].sort_index().head()     #表示按序列号排序，由于(1)和(10),排在了一起"
   ]
  },
  {
   "cell_type": "code",
   "execution_count": 284,
   "metadata": {},
   "outputs": [
    {
     "data": {
      "text/plain": [
       "股票(1)    -1.448949\n",
       "股票(2)    -1.379967\n",
       "股票(3)    -0.502902\n",
       "股票(4)    -3.714879\n",
       "股票(5)    -0.566535\n",
       "股票(6)    -0.212416\n",
       "股票(7)    -0.729738\n",
       "股票(8)    -1.985989\n",
       "股票(9)    -1.868320\n",
       "股票(10)   -2.938770\n",
       "Name: 2022-11-11 00:00:00, dtype: float64"
      ]
     },
     "execution_count": 284,
     "metadata": {},
     "output_type": "execute_result"
    }
   ],
   "source": [
    "stock_c['20221111'].sub(1)  #表示-1 ，注意，这不改变原先的表格"
   ]
  },
  {
   "cell_type": "code",
   "execution_count": 285,
   "metadata": {},
   "outputs": [
    {
     "data": {
      "text/plain": [
       "股票(1)     0.551051\n",
       "股票(2)     0.620033\n",
       "股票(3)     1.497098\n",
       "股票(4)    -1.714879\n",
       "股票(5)     1.433465\n",
       "股票(6)     1.787584\n",
       "股票(7)     1.270262\n",
       "股票(8)     0.014011\n",
       "股票(9)     0.131680\n",
       "股票(10)   -0.938770\n",
       "Name: 2022-11-11 00:00:00, dtype: float64"
      ]
     },
     "execution_count": 285,
     "metadata": {},
     "output_type": "execute_result"
    }
   ],
   "source": [
    "stock_c['20221111']+1"
   ]
  },
  {
   "cell_type": "code",
   "execution_count": 286,
   "metadata": {},
   "outputs": [
    {
     "data": {
      "text/plain": [
       "股票(1)     True\n",
       "股票(2)     True\n",
       "股票(3)     True\n",
       "股票(4)     True\n",
       "股票(5)     True\n",
       "股票(6)     True\n",
       "股票(7)     True\n",
       "股票(8)     True\n",
       "股票(9)     True\n",
       "股票(10)    True\n",
       "Name: 2022-11-11 00:00:00, dtype: bool"
      ]
     },
     "execution_count": 286,
     "metadata": {},
     "output_type": "execute_result"
    }
   ],
   "source": [
    "stock_c['20221111']<1"
   ]
  },
  {
   "cell_type": "code",
   "execution_count": 287,
   "metadata": {},
   "outputs": [
    {
     "data": {
      "text/plain": [
       "股票(1)      True\n",
       "股票(2)      True\n",
       "股票(3)     False\n",
       "股票(4)     False\n",
       "股票(5)      True\n",
       "股票(6)      True\n",
       "股票(7)      True\n",
       "股票(8)      True\n",
       "股票(9)      True\n",
       "股票(10)     True\n",
       "dtype: bool"
      ]
     },
     "execution_count": 287,
     "metadata": {},
     "output_type": "execute_result"
    }
   ],
   "source": [
    "(stock_c['20221111']<1) & (stock_c['20221112']<1)"
   ]
  },
  {
   "cell_type": "code",
   "execution_count": 288,
   "metadata": {},
   "outputs": [
    {
     "data": {
      "text/html": [
       "<div>\n",
       "<style scoped>\n",
       "    .dataframe tbody tr th:only-of-type {\n",
       "        vertical-align: middle;\n",
       "    }\n",
       "\n",
       "    .dataframe tbody tr th {\n",
       "        vertical-align: top;\n",
       "    }\n",
       "\n",
       "    .dataframe thead th {\n",
       "        text-align: right;\n",
       "    }\n",
       "</style>\n",
       "<table border=\"1\" class=\"dataframe\">\n",
       "  <thead>\n",
       "    <tr style=\"text-align: right;\">\n",
       "      <th></th>\n",
       "      <th>col1</th>\n",
       "      <th>col2</th>\n",
       "    </tr>\n",
       "  </thead>\n",
       "  <tbody>\n",
       "    <tr>\n",
       "      <th>0</th>\n",
       "      <td>1</td>\n",
       "      <td>5</td>\n",
       "    </tr>\n",
       "    <tr>\n",
       "      <th>1</th>\n",
       "      <td>2</td>\n",
       "      <td>6</td>\n",
       "    </tr>\n",
       "  </tbody>\n",
       "</table>\n",
       "</div>"
      ],
      "text/plain": [
       "   col1  col2\n",
       "0     1     5\n",
       "1     2     6"
      ]
     },
     "execution_count": 288,
     "metadata": {},
     "output_type": "execute_result"
    }
   ],
   "source": [
    "# 显示满足条件的表格范围\n",
    "df = pd.DataFrame({'col1':[1,2,3,4],'col2':[5,6,7,8]})\n",
    "df.query('col1 <3')"
   ]
  },
  {
   "cell_type": "code",
   "execution_count": 289,
   "metadata": {},
   "outputs": [
    {
     "data": {
      "text/plain": [
       "0     True\n",
       "1     True\n",
       "2    False\n",
       "3    False\n",
       "Name: col1, dtype: bool"
      ]
     },
     "execution_count": 289,
     "metadata": {},
     "output_type": "execute_result"
    }
   ],
   "source": [
    "# 判断元素是否存在\n",
    "df['col1'].isin([0,1,2])"
   ]
  },
  {
   "cell_type": "code",
   "execution_count": 290,
   "metadata": {},
   "outputs": [
    {
     "data": {
      "text/html": [
       "<div>\n",
       "<style scoped>\n",
       "    .dataframe tbody tr th:only-of-type {\n",
       "        vertical-align: middle;\n",
       "    }\n",
       "\n",
       "    .dataframe tbody tr th {\n",
       "        vertical-align: top;\n",
       "    }\n",
       "\n",
       "    .dataframe thead th {\n",
       "        text-align: right;\n",
       "    }\n",
       "</style>\n",
       "<table border=\"1\" class=\"dataframe\">\n",
       "  <thead>\n",
       "    <tr style=\"text-align: right;\">\n",
       "      <th></th>\n",
       "      <th>2022-11-11</th>\n",
       "      <th>2022-11-12</th>\n",
       "      <th>2022-11-13</th>\n",
       "      <th>2022-11-14</th>\n",
       "      <th>2022-11-15</th>\n",
       "    </tr>\n",
       "  </thead>\n",
       "  <tbody>\n",
       "    <tr>\n",
       "      <th>count</th>\n",
       "      <td>10.000000</td>\n",
       "      <td>10.000000</td>\n",
       "      <td>10.000000</td>\n",
       "      <td>10.000000</td>\n",
       "      <td>10.000000</td>\n",
       "    </tr>\n",
       "    <tr>\n",
       "      <th>mean</th>\n",
       "      <td>-0.534846</td>\n",
       "      <td>0.207895</td>\n",
       "      <td>-0.288544</td>\n",
       "      <td>0.363135</td>\n",
       "      <td>0.067735</td>\n",
       "    </tr>\n",
       "    <tr>\n",
       "      <th>std</th>\n",
       "      <td>1.128874</td>\n",
       "      <td>0.843435</td>\n",
       "      <td>1.200696</td>\n",
       "      <td>0.661638</td>\n",
       "      <td>0.846817</td>\n",
       "    </tr>\n",
       "    <tr>\n",
       "      <th>min</th>\n",
       "      <td>-2.714879</td>\n",
       "      <td>-1.238781</td>\n",
       "      <td>-2.231850</td>\n",
       "      <td>-0.664532</td>\n",
       "      <td>-0.929479</td>\n",
       "    </tr>\n",
       "    <tr>\n",
       "      <th>25%</th>\n",
       "      <td>-0.956572</td>\n",
       "      <td>0.029422</td>\n",
       "      <td>-0.983980</td>\n",
       "      <td>0.185202</td>\n",
       "      <td>-0.697579</td>\n",
       "    </tr>\n",
       "    <tr>\n",
       "      <th>50%</th>\n",
       "      <td>-0.414458</td>\n",
       "      <td>0.333403</td>\n",
       "      <td>-0.480277</td>\n",
       "      <td>0.298897</td>\n",
       "      <td>0.010310</td>\n",
       "    </tr>\n",
       "    <tr>\n",
       "      <th>75%</th>\n",
       "      <td>0.392664</td>\n",
       "      <td>0.678594</td>\n",
       "      <td>0.592496</td>\n",
       "      <td>0.878814</td>\n",
       "      <td>0.611655</td>\n",
       "    </tr>\n",
       "    <tr>\n",
       "      <th>max</th>\n",
       "      <td>0.787584</td>\n",
       "      <td>1.217561</td>\n",
       "      <td>1.747305</td>\n",
       "      <td>1.280158</td>\n",
       "      <td>1.276383</td>\n",
       "    </tr>\n",
       "  </tbody>\n",
       "</table>\n",
       "</div>"
      ],
      "text/plain": [
       "       2022-11-11  2022-11-12  2022-11-13  2022-11-14  2022-11-15\n",
       "count   10.000000   10.000000   10.000000   10.000000   10.000000\n",
       "mean    -0.534846    0.207895   -0.288544    0.363135    0.067735\n",
       "std      1.128874    0.843435    1.200696    0.661638    0.846817\n",
       "min     -2.714879   -1.238781   -2.231850   -0.664532   -0.929479\n",
       "25%     -0.956572    0.029422   -0.983980    0.185202   -0.697579\n",
       "50%     -0.414458    0.333403   -0.480277    0.298897    0.010310\n",
       "75%      0.392664    0.678594    0.592496    0.878814    0.611655\n",
       "max      0.787584    1.217561    1.747305    1.280158    1.276383"
      ]
     },
     "execution_count": 290,
     "metadata": {},
     "output_type": "execute_result"
    }
   ],
   "source": [
    "# 描述表格的基本信息\n",
    "stock_c.describe()"
   ]
  },
  {
   "cell_type": "code",
   "execution_count": 291,
   "metadata": {},
   "outputs": [
    {
     "data": {
      "text/plain": [
       "col1    10\n",
       "col2    26\n",
       "dtype: int64"
      ]
     },
     "execution_count": 291,
     "metadata": {},
     "output_type": "execute_result"
    }
   ],
   "source": [
    "# 表格求和\n",
    "df.sum()"
   ]
  },
  {
   "cell_type": "code",
   "execution_count": 292,
   "metadata": {},
   "outputs": [
    {
     "data": {
      "text/plain": [
       "col1    2.5\n",
       "col2    6.5\n",
       "dtype: float64"
      ]
     },
     "execution_count": 292,
     "metadata": {},
     "output_type": "execute_result"
    }
   ],
   "source": [
    "# 表格平均\n",
    "df.mean()"
   ]
  },
  {
   "cell_type": "code",
   "execution_count": 293,
   "metadata": {},
   "outputs": [
    {
     "data": {
      "text/plain": [
       "col1    3\n",
       "col2    3\n",
       "dtype: int64"
      ]
     },
     "execution_count": 293,
     "metadata": {},
     "output_type": "execute_result"
    }
   ],
   "source": [
    "# 求最大值是第几个\n",
    "df.idxmax()"
   ]
  },
  {
   "cell_type": "code",
   "execution_count": 294,
   "metadata": {},
   "outputs": [
    {
     "data": {
      "text/plain": [
       "col1    0\n",
       "col2    0\n",
       "dtype: int64"
      ]
     },
     "execution_count": 294,
     "metadata": {},
     "output_type": "execute_result"
    }
   ],
   "source": [
    "# 求最小值是第几个\n",
    "df.idxmin()"
   ]
  },
  {
   "cell_type": "code",
   "execution_count": 295,
   "metadata": {},
   "outputs": [
    {
     "data": {
      "text/plain": [
       "<AxesSubplot: xlabel='col1'>"
      ]
     },
     "execution_count": 295,
     "metadata": {},
     "output_type": "execute_result"
    },
    {
     "data": {
      "image/png": "[encoded data removed]",
      "text/plain": [
       "<Figure size 640x480 with 1 Axes>"
      ]
     },
     "metadata": {},
     "output_type": "display_data"
    }
   ],
   "source": [
    "# help(df.plot()\n",
    "df.plot(x='col1',y='col2',kind='line') #bar, barh, hist, pie, scatter,line"
   ]
  },
  {
   "cell_type": "code",
   "execution_count": 307,
   "metadata": {},
   "outputs": [],
   "source": [
    "# python创建目录，处理已经存在的路径\n",
    "import os\n",
    "os.makedirs('./DataFrames_save',exist_ok=True)"
   ]
  },
  {
   "cell_type": "code",
   "execution_count": 297,
   "metadata": {},
   "outputs": [],
   "source": [
    "# 将DataFrame存储为csv，读取csv文件\n",
    "df.to_csv('./DataFrames_save/df.csv')\n",
    "stock_c.to_csv('./DataFrames_save/stock.csv')"
   ]
  },
  {
   "cell_type": "code",
   "execution_count": 298,
   "metadata": {},
   "outputs": [
    {
     "data": {
      "text/html": [
       "<div>\n",
       "<style scoped>\n",
       "    .dataframe tbody tr th:only-of-type {\n",
       "        vertical-align: middle;\n",
       "    }\n",
       "\n",
       "    .dataframe tbody tr th {\n",
       "        vertical-align: top;\n",
       "    }\n",
       "\n",
       "    .dataframe thead th {\n",
       "        text-align: right;\n",
       "    }\n",
       "</style>\n",
       "<table border=\"1\" class=\"dataframe\">\n",
       "  <thead>\n",
       "    <tr style=\"text-align: right;\">\n",
       "      <th></th>\n",
       "      <th>Unnamed: 0</th>\n",
       "      <th>col1</th>\n",
       "      <th>col2</th>\n",
       "    </tr>\n",
       "  </thead>\n",
       "  <tbody>\n",
       "    <tr>\n",
       "      <th>0</th>\n",
       "      <td>0</td>\n",
       "      <td>1</td>\n",
       "      <td>5</td>\n",
       "    </tr>\n",
       "    <tr>\n",
       "      <th>1</th>\n",
       "      <td>1</td>\n",
       "      <td>2</td>\n",
       "      <td>6</td>\n",
       "    </tr>\n",
       "    <tr>\n",
       "      <th>2</th>\n",
       "      <td>2</td>\n",
       "      <td>3</td>\n",
       "      <td>7</td>\n",
       "    </tr>\n",
       "    <tr>\n",
       "      <th>3</th>\n",
       "      <td>3</td>\n",
       "      <td>4</td>\n",
       "      <td>8</td>\n",
       "    </tr>\n",
       "  </tbody>\n",
       "</table>\n",
       "</div>"
      ],
      "text/plain": [
       "   Unnamed: 0  col1  col2\n",
       "0           0     1     5\n",
       "1           1     2     6\n",
       "2           2     3     7\n",
       "3           3     4     8"
      ]
     },
     "execution_count": 298,
     "metadata": {},
     "output_type": "execute_result"
    }
   ],
   "source": [
    "pd.read_csv('./DataFrames_save/df.csv')"
   ]
  },
  {
   "cell_type": "code",
   "execution_count": 299,
   "metadata": {},
   "outputs": [
    {
     "data": {
      "text/html": [
       "<div>\n",
       "<style scoped>\n",
       "    .dataframe tbody tr th:only-of-type {\n",
       "        vertical-align: middle;\n",
       "    }\n",
       "\n",
       "    .dataframe tbody tr th {\n",
       "        vertical-align: top;\n",
       "    }\n",
       "\n",
       "    .dataframe thead th {\n",
       "        text-align: right;\n",
       "    }\n",
       "</style>\n",
       "<table border=\"1\" class=\"dataframe\">\n",
       "  <thead>\n",
       "    <tr style=\"text-align: right;\">\n",
       "      <th></th>\n",
       "      <th>Unnamed: 0</th>\n",
       "      <th>2022-11-11</th>\n",
       "      <th>2022-11-12</th>\n",
       "      <th>2022-11-13</th>\n",
       "      <th>2022-11-14</th>\n",
       "      <th>2022-11-15</th>\n",
       "    </tr>\n",
       "  </thead>\n",
       "  <tbody>\n",
       "    <tr>\n",
       "      <th>0</th>\n",
       "      <td>股票(1)</td>\n",
       "      <td>-0.448949</td>\n",
       "      <td>0.270556</td>\n",
       "      <td>1.747305</td>\n",
       "      <td>0.952722</td>\n",
       "      <td>0.603081</td>\n",
       "    </tr>\n",
       "    <tr>\n",
       "      <th>1</th>\n",
       "      <td>股票(2)</td>\n",
       "      <td>-0.379967</td>\n",
       "      <td>-1.238781</td>\n",
       "      <td>-1.066643</td>\n",
       "      <td>0.657090</td>\n",
       "      <td>1.241627</td>\n",
       "    </tr>\n",
       "    <tr>\n",
       "      <th>2</th>\n",
       "      <td>股票(3)</td>\n",
       "      <td>0.497098</td>\n",
       "      <td>1.180245</td>\n",
       "      <td>-0.383522</td>\n",
       "      <td>-0.651636</td>\n",
       "      <td>0.310002</td>\n",
       "    </tr>\n",
       "    <tr>\n",
       "      <th>3</th>\n",
       "      <td>股票(4)</td>\n",
       "      <td>-2.714879</td>\n",
       "      <td>1.217561</td>\n",
       "      <td>-2.231850</td>\n",
       "      <td>0.178585</td>\n",
       "      <td>-0.289383</td>\n",
       "    </tr>\n",
       "    <tr>\n",
       "      <th>4</th>\n",
       "      <td>股票(5)</td>\n",
       "      <td>0.433465</td>\n",
       "      <td>0.544856</td>\n",
       "      <td>0.594503</td>\n",
       "      <td>0.340288</td>\n",
       "      <td>0.614513</td>\n",
       "    </tr>\n",
       "    <tr>\n",
       "      <th>5</th>\n",
       "      <td>股票(6)</td>\n",
       "      <td>0.787584</td>\n",
       "      <td>0.160700</td>\n",
       "      <td>-0.735991</td>\n",
       "      <td>0.205052</td>\n",
       "      <td>1.276383</td>\n",
       "    </tr>\n",
       "    <tr>\n",
       "      <th>6</th>\n",
       "      <td>股票(7)</td>\n",
       "      <td>0.270262</td>\n",
       "      <td>0.723174</td>\n",
       "      <td>-1.545431</td>\n",
       "      <td>-0.664532</td>\n",
       "      <td>-0.680417</td>\n",
       "    </tr>\n",
       "    <tr>\n",
       "      <th>7</th>\n",
       "      <td>股票(8)</td>\n",
       "      <td>-0.985989</td>\n",
       "      <td>-1.161269</td>\n",
       "      <td>0.586476</td>\n",
       "      <td>0.257507</td>\n",
       "      <td>-0.765682</td>\n",
       "    </tr>\n",
       "    <tr>\n",
       "      <th>8</th>\n",
       "      <td>股票(9)</td>\n",
       "      <td>-0.868320</td>\n",
       "      <td>-0.014338</td>\n",
       "      <td>0.726749</td>\n",
       "      <td>1.280158</td>\n",
       "      <td>-0.929479</td>\n",
       "    </tr>\n",
       "    <tr>\n",
       "      <th>9</th>\n",
       "      <td>股票(10)</td>\n",
       "      <td>-1.938770</td>\n",
       "      <td>0.396250</td>\n",
       "      <td>-0.577031</td>\n",
       "      <td>1.076119</td>\n",
       "      <td>-0.703300</td>\n",
       "    </tr>\n",
       "  </tbody>\n",
       "</table>\n",
       "</div>"
      ],
      "text/plain": [
       "  Unnamed: 0  2022-11-11  2022-11-12  2022-11-13  2022-11-14  2022-11-15\n",
       "0      股票(1)   -0.448949    0.270556    1.747305    0.952722    0.603081\n",
       "1      股票(2)   -0.379967   -1.238781   -1.066643    0.657090    1.241627\n",
       "2      股票(3)    0.497098    1.180245   -0.383522   -0.651636    0.310002\n",
       "3      股票(4)   -2.714879    1.217561   -2.231850    0.178585   -0.289383\n",
       "4      股票(5)    0.433465    0.544856    0.594503    0.340288    0.614513\n",
       "5      股票(6)    0.787584    0.160700   -0.735991    0.205052    1.276383\n",
       "6      股票(7)    0.270262    0.723174   -1.545431   -0.664532   -0.680417\n",
       "7      股票(8)   -0.985989   -1.161269    0.586476    0.257507   -0.765682\n",
       "8      股票(9)   -0.868320   -0.014338    0.726749    1.280158   -0.929479\n",
       "9     股票(10)   -1.938770    0.396250   -0.577031    1.076119   -0.703300"
      ]
     },
     "execution_count": 299,
     "metadata": {},
     "output_type": "execute_result"
    }
   ],
   "source": [
    "pd.read_csv('./DataFrames_save/stock.csv')"
   ]
  },
  {
   "cell_type": "code",
   "execution_count": 300,
   "metadata": {},
   "outputs": [
    {
     "name": "stdout",
     "output_type": "stream",
     "text": [
      "Requirement already satisfied: lxml in /Users/mountaintop/opt/anaconda3/envs/ML/lib/python3.9/site-packages (4.9.1)\n"
     ]
    }
   ],
   "source": [
    "!pip install lxml"
   ]
  },
  {
   "cell_type": "code",
   "execution_count": 301,
   "metadata": {},
   "outputs": [],
   "source": [
    "df.to_html('./DataFrames_save/df.html')"
   ]
  },
  {
   "cell_type": "code",
   "execution_count": null,
   "metadata": {},
   "outputs": [],
   "source": [
    "# 需要安装lxml\n",
    "pd.read_html('./DataFrames_save/df.html')"
   ]
  },
  {
   "cell_type": "code",
   "execution_count": null,
   "metadata": {},
   "outputs": [],
   "source": []
  }
 ],
 "metadata": {
  "kernelspec": {
   "display_name": "Python 3.9.13 ('ML')",
   "language": "python",
   "name": "python3"
  },
  "language_info": {
   "codemirror_mode": {
    "name": "ipython",
    "version": 3
   },
   "file_extension": ".py",
   "mimetype": "text/x-python",
   "name": "python",
   "nbconvert_exporter": "python",
   "pygments_lexer": "ipython3",
   "version": "3.9.13"
  },
  "orig_nbformat": 4,
  "vscode": {
   "interpreter": {
    "hash": "527e1f183729315cc0b20e076f8fa01a9ad5031799e510482f8c5a1d9432ab9a"
   }
  }
 },
 "nbformat": 4,
 "nbformat_minor": 2
}
