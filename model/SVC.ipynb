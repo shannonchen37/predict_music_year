{
 "cells": [
  {
   "cell_type": "code",
   "execution_count": 1,
   "id": "8e42428c",
   "metadata": {},
   "outputs": [],
   "source": [
    "from sklearn.datasets import make_blobs\n",
    "from sklearn.svm import SVC\n",
    "import matplotlib.pyplot as plt\n",
    "import numpy as np"
   ]
  },
  {
   "cell_type": "code",
   "execution_count": 2,
   "id": "94d38244",
   "metadata": {},
   "outputs": [],
   "source": [
    "# 创建数据集\n",
    "X,y = make_blobs(n_samples=50,centers=2,random_state=0,cluster_std=0.6)"
   ]
  },
  {
   "cell_type": "code",
   "execution_count": 3,
   "id": "337b1214",
   "metadata": {
    "collapsed": true
   },
   "outputs": [
    {
     "data": {
      "text/plain": [
       "array([[ 1.41281595,  1.5303347 ],\n",
       "       [ 1.81336135,  1.6311307 ],\n",
       "       [ 1.43289271,  4.37679234],\n",
       "       [ 1.87271752,  4.18069237],\n",
       "       [ 2.09517785,  1.0791468 ],\n",
       "       [ 2.73890793,  0.15676817],\n",
       "       [ 3.18515794,  0.08900822],\n",
       "       [ 2.06156753,  1.96918596],\n",
       "       [ 2.03835818,  1.15466278],\n",
       "       [-0.04749204,  5.47425256],\n",
       "       [ 1.71444449,  5.02521524],\n",
       "       [ 0.22459286,  4.77028154],\n",
       "       [ 1.06923853,  4.53068484],\n",
       "       [ 1.53278923,  0.55035386],\n",
       "       [ 1.4949318 ,  3.85848832],\n",
       "       [ 1.1641107 ,  3.79132988],\n",
       "       [ 0.74387399,  4.12240568],\n",
       "       [ 2.29667251,  0.48677761],\n",
       "       [ 0.44359863,  3.11530945],\n",
       "       [ 0.91433877,  4.55014643],\n",
       "       [ 1.67467427,  0.68001896],\n",
       "       [ 2.26908736,  1.32160756],\n",
       "       [ 1.5108885 ,  0.9288309 ],\n",
       "       [ 1.65179125,  0.68193176],\n",
       "       [ 2.49272186,  0.97505341],\n",
       "       [ 2.33812285,  3.43116792],\n",
       "       [ 0.67047877,  4.04094275],\n",
       "       [-0.55552381,  4.69595848],\n",
       "       [ 2.16172321,  0.6565951 ],\n",
       "       [ 2.09680487,  3.7174206 ],\n",
       "       [ 2.18023251,  1.48364708],\n",
       "       [ 0.43899014,  4.53592883],\n",
       "       [ 1.24258802,  4.50399192],\n",
       "       [ 0.00793137,  4.17614316],\n",
       "       [ 1.89593761,  5.18540259],\n",
       "       [ 1.868336  ,  0.93136287],\n",
       "       [ 2.13141478,  1.13885728],\n",
       "       [ 1.06269622,  5.17635143],\n",
       "       [ 2.33466499, -0.02408255],\n",
       "       [ 0.669787  ,  3.59540802],\n",
       "       [ 1.07714851,  1.17533301],\n",
       "       [ 1.54632313,  4.212973  ],\n",
       "       [ 1.56737975, -0.1381059 ],\n",
       "       [ 1.35617762,  1.43815955],\n",
       "       [ 1.00372519,  4.19147702],\n",
       "       [ 1.29297652,  1.47930168],\n",
       "       [ 2.94821884,  2.03519717],\n",
       "       [ 0.3471383 ,  3.45177657],\n",
       "       [ 2.76253526,  0.78970876],\n",
       "       [ 0.76752279,  4.39759671]])"
      ]
     },
     "execution_count": 3,
     "metadata": {},
     "output_type": "execute_result"
    }
   ],
   "source": [
    "X"
   ]
  },
  {
   "cell_type": "code",
   "execution_count": 4,
   "id": "757570ee",
   "metadata": {
    "collapsed": true
   },
   "outputs": [
    {
     "data": {
      "text/plain": [
       "array([1, 1, 0, 0, 1, 1, 1, 1, 1, 0, 0, 0, 0, 1, 0, 0, 0, 1, 0, 0, 1, 1,\n",
       "       1, 1, 1, 0, 0, 0, 1, 0, 1, 0, 0, 0, 0, 1, 1, 0, 1, 0, 1, 0, 1, 1,\n",
       "       0, 1, 1, 0, 1, 0])"
      ]
     },
     "execution_count": 4,
     "metadata": {},
     "output_type": "execute_result"
    }
   ],
   "source": [
    "y"
   ]
  },
  {
   "cell_type": "code",
   "execution_count": 5,
   "id": "2fcc4c03",
   "metadata": {
    "collapsed": true
   },
   "outputs": [
    {
     "data": {
      "image/png": "[encoded data removed]",
      "text/plain": [
       "<Figure size 432x288 with 1 Axes>"
      ]
     },
     "metadata": {
      "needs_background": "light"
     },
     "output_type": "display_data"
    }
   ],
   "source": [
    "# 可视化数据集\n",
    "plt.scatter(X[:,0],X[:,1],c=y,s=50,cmap='rainbow') # 创建散点图\n",
    "ax = plt.gca() # 获取当前的子图，如果不存在，则创建新的子图"
   ]
  },
  {
   "cell_type": "code",
   "execution_count": 6,
   "id": "6a275412",
   "metadata": {},
   "outputs": [],
   "source": [
    "# 画决策边界\n",
    "# 获取平面上两条坐标轴的最大值和最小值\n",
    "xlim = ax.get_xlim()\n",
    "ylim = ax.get_ylim()"
   ]
  },
  {
   "cell_type": "code",
   "execution_count": 7,
   "id": "4d83d7e5",
   "metadata": {
    "collapsed": true
   },
   "outputs": [
    {
     "data": {
      "text/plain": [
       "(-0.7425578984849813, 3.3721920271976598)"
      ]
     },
     "execution_count": 7,
     "metadata": {},
     "output_type": "execute_result"
    }
   ],
   "source": [
    "xlim"
   ]
  },
  {
   "cell_type": "code",
   "execution_count": 8,
   "id": "e5f0101f",
   "metadata": {},
   "outputs": [],
   "source": [
    "# 在最大值和最小值之间形成30个规律的数据\n",
    "axisx = np.linspace(xlim[0],xlim[1],30)\n",
    "axisy = np.linspace(ylim[0],ylim[1],30)"
   ]
  },
  {
   "cell_type": "code",
   "execution_count": 9,
   "id": "dfbe07e3",
   "metadata": {
    "collapsed": true
   },
   "outputs": [
    {
     "data": {
      "text/plain": [
       "array([-0.7425579 , -0.60066997, -0.45878204, -0.31689411, -0.17500618,\n",
       "       -0.03311826,  0.10876967,  0.2506576 ,  0.39254553,  0.53443346,\n",
       "        0.67632139,  0.81820931,  0.96009724,  1.10198517,  1.2438731 ,\n",
       "        1.38576103,  1.52764896,  1.66953689,  1.81142481,  1.95331274,\n",
       "        2.09520067,  2.2370886 ,  2.37897653,  2.52086446,  2.66275238,\n",
       "        2.80464031,  2.94652824,  3.08841617,  3.2303041 ,  3.37219203])"
      ]
     },
     "execution_count": 9,
     "metadata": {},
     "output_type": "execute_result"
    }
   ],
   "source": [
    "axisx"
   ]
  },
  {
   "cell_type": "code",
   "execution_count": 10,
   "id": "6c07bcc1",
   "metadata": {},
   "outputs": [],
   "source": [
    "# 使用meshgrid函数将两个一维向量转换为特征矩阵\n",
    "axisy,axisx = np.meshgrid(axisy,axisx) #将使用这里的二维数组作为contour函数的X和Y"
   ]
  },
  {
   "cell_type": "code",
   "execution_count": 11,
   "id": "0f597904",
   "metadata": {
    "collapsed": true
   },
   "outputs": [
    {
     "data": {
      "text/plain": [
       "array([[-0.7425579 , -0.7425579 , -0.7425579 , -0.7425579 , -0.7425579 ,\n",
       "        -0.7425579 , -0.7425579 , -0.7425579 , -0.7425579 , -0.7425579 ,\n",
       "        -0.7425579 , -0.7425579 , -0.7425579 , -0.7425579 , -0.7425579 ,\n",
       "        -0.7425579 , -0.7425579 , -0.7425579 , -0.7425579 , -0.7425579 ,\n",
       "        -0.7425579 , -0.7425579 , -0.7425579 , -0.7425579 , -0.7425579 ,\n",
       "        -0.7425579 , -0.7425579 , -0.7425579 , -0.7425579 , -0.7425579 ],\n",
       "       [-0.60066997, -0.60066997, -0.60066997, -0.60066997, -0.60066997,\n",
       "        -0.60066997, -0.60066997, -0.60066997, -0.60066997, -0.60066997,\n",
       "        -0.60066997, -0.60066997, -0.60066997, -0.60066997, -0.60066997,\n",
       "        -0.60066997, -0.60066997, -0.60066997, -0.60066997, -0.60066997,\n",
       "        -0.60066997, -0.60066997, -0.60066997, -0.60066997, -0.60066997,\n",
       "        -0.60066997, -0.60066997, -0.60066997, -0.60066997, -0.60066997],\n",
       "       [-0.45878204, -0.45878204, -0.45878204, -0.45878204, -0.45878204,\n",
       "        -0.45878204, -0.45878204, -0.45878204, -0.45878204, -0.45878204,\n",
       "        -0.45878204, -0.45878204, -0.45878204, -0.45878204, -0.45878204,\n",
       "        -0.45878204, -0.45878204, -0.45878204, -0.45878204, -0.45878204,\n",
       "        -0.45878204, -0.45878204, -0.45878204, -0.45878204, -0.45878204,\n",
       "        -0.45878204, -0.45878204, -0.45878204, -0.45878204, -0.45878204],\n",
       "       [-0.31689411, -0.31689411, -0.31689411, -0.31689411, -0.31689411,\n",
       "        -0.31689411, -0.31689411, -0.31689411, -0.31689411, -0.31689411,\n",
       "        -0.31689411, -0.31689411, -0.31689411, -0.31689411, -0.31689411,\n",
       "        -0.31689411, -0.31689411, -0.31689411, -0.31689411, -0.31689411,\n",
       "        -0.31689411, -0.31689411, -0.31689411, -0.31689411, -0.31689411,\n",
       "        -0.31689411, -0.31689411, -0.31689411, -0.31689411, -0.31689411],\n",
       "       [-0.17500618, -0.17500618, -0.17500618, -0.17500618, -0.17500618,\n",
       "        -0.17500618, -0.17500618, -0.17500618, -0.17500618, -0.17500618,\n",
       "        -0.17500618, -0.17500618, -0.17500618, -0.17500618, -0.17500618,\n",
       "        -0.17500618, -0.17500618, -0.17500618, -0.17500618, -0.17500618,\n",
       "        -0.17500618, -0.17500618, -0.17500618, -0.17500618, -0.17500618,\n",
       "        -0.17500618, -0.17500618, -0.17500618, -0.17500618, -0.17500618],\n",
       "       [-0.03311826, -0.03311826, -0.03311826, -0.03311826, -0.03311826,\n",
       "        -0.03311826, -0.03311826, -0.03311826, -0.03311826, -0.03311826,\n",
       "        -0.03311826, -0.03311826, -0.03311826, -0.03311826, -0.03311826,\n",
       "        -0.03311826, -0.03311826, -0.03311826, -0.03311826, -0.03311826,\n",
       "        -0.03311826, -0.03311826, -0.03311826, -0.03311826, -0.03311826,\n",
       "        -0.03311826, -0.03311826, -0.03311826, -0.03311826, -0.03311826],\n",
       "       [ 0.10876967,  0.10876967,  0.10876967,  0.10876967,  0.10876967,\n",
       "         0.10876967,  0.10876967,  0.10876967,  0.10876967,  0.10876967,\n",
       "         0.10876967,  0.10876967,  0.10876967,  0.10876967,  0.10876967,\n",
       "         0.10876967,  0.10876967,  0.10876967,  0.10876967,  0.10876967,\n",
       "         0.10876967,  0.10876967,  0.10876967,  0.10876967,  0.10876967,\n",
       "         0.10876967,  0.10876967,  0.10876967,  0.10876967,  0.10876967],\n",
       "       [ 0.2506576 ,  0.2506576 ,  0.2506576 ,  0.2506576 ,  0.2506576 ,\n",
       "         0.2506576 ,  0.2506576 ,  0.2506576 ,  0.2506576 ,  0.2506576 ,\n",
       "         0.2506576 ,  0.2506576 ,  0.2506576 ,  0.2506576 ,  0.2506576 ,\n",
       "         0.2506576 ,  0.2506576 ,  0.2506576 ,  0.2506576 ,  0.2506576 ,\n",
       "         0.2506576 ,  0.2506576 ,  0.2506576 ,  0.2506576 ,  0.2506576 ,\n",
       "         0.2506576 ,  0.2506576 ,  0.2506576 ,  0.2506576 ,  0.2506576 ],\n",
       "       [ 0.39254553,  0.39254553,  0.39254553,  0.39254553,  0.39254553,\n",
       "         0.39254553,  0.39254553,  0.39254553,  0.39254553,  0.39254553,\n",
       "         0.39254553,  0.39254553,  0.39254553,  0.39254553,  0.39254553,\n",
       "         0.39254553,  0.39254553,  0.39254553,  0.39254553,  0.39254553,\n",
       "         0.39254553,  0.39254553,  0.39254553,  0.39254553,  0.39254553,\n",
       "         0.39254553,  0.39254553,  0.39254553,  0.39254553,  0.39254553],\n",
       "       [ 0.53443346,  0.53443346,  0.53443346,  0.53443346,  0.53443346,\n",
       "         0.53443346,  0.53443346,  0.53443346,  0.53443346,  0.53443346,\n",
       "         0.53443346,  0.53443346,  0.53443346,  0.53443346,  0.53443346,\n",
       "         0.53443346,  0.53443346,  0.53443346,  0.53443346,  0.53443346,\n",
       "         0.53443346,  0.53443346,  0.53443346,  0.53443346,  0.53443346,\n",
       "         0.53443346,  0.53443346,  0.53443346,  0.53443346,  0.53443346],\n",
       "       [ 0.67632139,  0.67632139,  0.67632139,  0.67632139,  0.67632139,\n",
       "         0.67632139,  0.67632139,  0.67632139,  0.67632139,  0.67632139,\n",
       "         0.67632139,  0.67632139,  0.67632139,  0.67632139,  0.67632139,\n",
       "         0.67632139,  0.67632139,  0.67632139,  0.67632139,  0.67632139,\n",
       "         0.67632139,  0.67632139,  0.67632139,  0.67632139,  0.67632139,\n",
       "         0.67632139,  0.67632139,  0.67632139,  0.67632139,  0.67632139],\n",
       "       [ 0.81820931,  0.81820931,  0.81820931,  0.81820931,  0.81820931,\n",
       "         0.81820931,  0.81820931,  0.81820931,  0.81820931,  0.81820931,\n",
       "         0.81820931,  0.81820931,  0.81820931,  0.81820931,  0.81820931,\n",
       "         0.81820931,  0.81820931,  0.81820931,  0.81820931,  0.81820931,\n",
       "         0.81820931,  0.81820931,  0.81820931,  0.81820931,  0.81820931,\n",
       "         0.81820931,  0.81820931,  0.81820931,  0.81820931,  0.81820931],\n",
       "       [ 0.96009724,  0.96009724,  0.96009724,  0.96009724,  0.96009724,\n",
       "         0.96009724,  0.96009724,  0.96009724,  0.96009724,  0.96009724,\n",
       "         0.96009724,  0.96009724,  0.96009724,  0.96009724,  0.96009724,\n",
       "         0.96009724,  0.96009724,  0.96009724,  0.96009724,  0.96009724,\n",
       "         0.96009724,  0.96009724,  0.96009724,  0.96009724,  0.96009724,\n",
       "         0.96009724,  0.96009724,  0.96009724,  0.96009724,  0.96009724],\n",
       "       [ 1.10198517,  1.10198517,  1.10198517,  1.10198517,  1.10198517,\n",
       "         1.10198517,  1.10198517,  1.10198517,  1.10198517,  1.10198517,\n",
       "         1.10198517,  1.10198517,  1.10198517,  1.10198517,  1.10198517,\n",
       "         1.10198517,  1.10198517,  1.10198517,  1.10198517,  1.10198517,\n",
       "         1.10198517,  1.10198517,  1.10198517,  1.10198517,  1.10198517,\n",
       "         1.10198517,  1.10198517,  1.10198517,  1.10198517,  1.10198517],\n",
       "       [ 1.2438731 ,  1.2438731 ,  1.2438731 ,  1.2438731 ,  1.2438731 ,\n",
       "         1.2438731 ,  1.2438731 ,  1.2438731 ,  1.2438731 ,  1.2438731 ,\n",
       "         1.2438731 ,  1.2438731 ,  1.2438731 ,  1.2438731 ,  1.2438731 ,\n",
       "         1.2438731 ,  1.2438731 ,  1.2438731 ,  1.2438731 ,  1.2438731 ,\n",
       "         1.2438731 ,  1.2438731 ,  1.2438731 ,  1.2438731 ,  1.2438731 ,\n",
       "         1.2438731 ,  1.2438731 ,  1.2438731 ,  1.2438731 ,  1.2438731 ],\n",
       "       [ 1.38576103,  1.38576103,  1.38576103,  1.38576103,  1.38576103,\n",
       "         1.38576103,  1.38576103,  1.38576103,  1.38576103,  1.38576103,\n",
       "         1.38576103,  1.38576103,  1.38576103,  1.38576103,  1.38576103,\n",
       "         1.38576103,  1.38576103,  1.38576103,  1.38576103,  1.38576103,\n",
       "         1.38576103,  1.38576103,  1.38576103,  1.38576103,  1.38576103,\n",
       "         1.38576103,  1.38576103,  1.38576103,  1.38576103,  1.38576103],\n",
       "       [ 1.52764896,  1.52764896,  1.52764896,  1.52764896,  1.52764896,\n",
       "         1.52764896,  1.52764896,  1.52764896,  1.52764896,  1.52764896,\n",
       "         1.52764896,  1.52764896,  1.52764896,  1.52764896,  1.52764896,\n",
       "         1.52764896,  1.52764896,  1.52764896,  1.52764896,  1.52764896,\n",
       "         1.52764896,  1.52764896,  1.52764896,  1.52764896,  1.52764896,\n",
       "         1.52764896,  1.52764896,  1.52764896,  1.52764896,  1.52764896],\n",
       "       [ 1.66953689,  1.66953689,  1.66953689,  1.66953689,  1.66953689,\n",
       "         1.66953689,  1.66953689,  1.66953689,  1.66953689,  1.66953689,\n",
       "         1.66953689,  1.66953689,  1.66953689,  1.66953689,  1.66953689,\n",
       "         1.66953689,  1.66953689,  1.66953689,  1.66953689,  1.66953689,\n",
       "         1.66953689,  1.66953689,  1.66953689,  1.66953689,  1.66953689,\n",
       "         1.66953689,  1.66953689,  1.66953689,  1.66953689,  1.66953689],\n",
       "       [ 1.81142481,  1.81142481,  1.81142481,  1.81142481,  1.81142481,\n",
       "         1.81142481,  1.81142481,  1.81142481,  1.81142481,  1.81142481,\n",
       "         1.81142481,  1.81142481,  1.81142481,  1.81142481,  1.81142481,\n",
       "         1.81142481,  1.81142481,  1.81142481,  1.81142481,  1.81142481,\n",
       "         1.81142481,  1.81142481,  1.81142481,  1.81142481,  1.81142481,\n",
       "         1.81142481,  1.81142481,  1.81142481,  1.81142481,  1.81142481],\n",
       "       [ 1.95331274,  1.95331274,  1.95331274,  1.95331274,  1.95331274,\n",
       "         1.95331274,  1.95331274,  1.95331274,  1.95331274,  1.95331274,\n",
       "         1.95331274,  1.95331274,  1.95331274,  1.95331274,  1.95331274,\n",
       "         1.95331274,  1.95331274,  1.95331274,  1.95331274,  1.95331274,\n",
       "         1.95331274,  1.95331274,  1.95331274,  1.95331274,  1.95331274,\n",
       "         1.95331274,  1.95331274,  1.95331274,  1.95331274,  1.95331274],\n",
       "       [ 2.09520067,  2.09520067,  2.09520067,  2.09520067,  2.09520067,\n",
       "         2.09520067,  2.09520067,  2.09520067,  2.09520067,  2.09520067,\n",
       "         2.09520067,  2.09520067,  2.09520067,  2.09520067,  2.09520067,\n",
       "         2.09520067,  2.09520067,  2.09520067,  2.09520067,  2.09520067,\n",
       "         2.09520067,  2.09520067,  2.09520067,  2.09520067,  2.09520067,\n",
       "         2.09520067,  2.09520067,  2.09520067,  2.09520067,  2.09520067],\n",
       "       [ 2.2370886 ,  2.2370886 ,  2.2370886 ,  2.2370886 ,  2.2370886 ,\n",
       "         2.2370886 ,  2.2370886 ,  2.2370886 ,  2.2370886 ,  2.2370886 ,\n",
       "         2.2370886 ,  2.2370886 ,  2.2370886 ,  2.2370886 ,  2.2370886 ,\n",
       "         2.2370886 ,  2.2370886 ,  2.2370886 ,  2.2370886 ,  2.2370886 ,\n",
       "         2.2370886 ,  2.2370886 ,  2.2370886 ,  2.2370886 ,  2.2370886 ,\n",
       "         2.2370886 ,  2.2370886 ,  2.2370886 ,  2.2370886 ,  2.2370886 ],\n",
       "       [ 2.37897653,  2.37897653,  2.37897653,  2.37897653,  2.37897653,\n",
       "         2.37897653,  2.37897653,  2.37897653,  2.37897653,  2.37897653,\n",
       "         2.37897653,  2.37897653,  2.37897653,  2.37897653,  2.37897653,\n",
       "         2.37897653,  2.37897653,  2.37897653,  2.37897653,  2.37897653,\n",
       "         2.37897653,  2.37897653,  2.37897653,  2.37897653,  2.37897653,\n",
       "         2.37897653,  2.37897653,  2.37897653,  2.37897653,  2.37897653],\n",
       "       [ 2.52086446,  2.52086446,  2.52086446,  2.52086446,  2.52086446,\n",
       "         2.52086446,  2.52086446,  2.52086446,  2.52086446,  2.52086446,\n",
       "         2.52086446,  2.52086446,  2.52086446,  2.52086446,  2.52086446,\n",
       "         2.52086446,  2.52086446,  2.52086446,  2.52086446,  2.52086446,\n",
       "         2.52086446,  2.52086446,  2.52086446,  2.52086446,  2.52086446,\n",
       "         2.52086446,  2.52086446,  2.52086446,  2.52086446,  2.52086446],\n",
       "       [ 2.66275238,  2.66275238,  2.66275238,  2.66275238,  2.66275238,\n",
       "         2.66275238,  2.66275238,  2.66275238,  2.66275238,  2.66275238,\n",
       "         2.66275238,  2.66275238,  2.66275238,  2.66275238,  2.66275238,\n",
       "         2.66275238,  2.66275238,  2.66275238,  2.66275238,  2.66275238,\n",
       "         2.66275238,  2.66275238,  2.66275238,  2.66275238,  2.66275238,\n",
       "         2.66275238,  2.66275238,  2.66275238,  2.66275238,  2.66275238],\n",
       "       [ 2.80464031,  2.80464031,  2.80464031,  2.80464031,  2.80464031,\n",
       "         2.80464031,  2.80464031,  2.80464031,  2.80464031,  2.80464031,\n",
       "         2.80464031,  2.80464031,  2.80464031,  2.80464031,  2.80464031,\n",
       "         2.80464031,  2.80464031,  2.80464031,  2.80464031,  2.80464031,\n",
       "         2.80464031,  2.80464031,  2.80464031,  2.80464031,  2.80464031,\n",
       "         2.80464031,  2.80464031,  2.80464031,  2.80464031,  2.80464031],\n",
       "       [ 2.94652824,  2.94652824,  2.94652824,  2.94652824,  2.94652824,\n",
       "         2.94652824,  2.94652824,  2.94652824,  2.94652824,  2.94652824,\n",
       "         2.94652824,  2.94652824,  2.94652824,  2.94652824,  2.94652824,\n",
       "         2.94652824,  2.94652824,  2.94652824,  2.94652824,  2.94652824,\n",
       "         2.94652824,  2.94652824,  2.94652824,  2.94652824,  2.94652824,\n",
       "         2.94652824,  2.94652824,  2.94652824,  2.94652824,  2.94652824],\n",
       "       [ 3.08841617,  3.08841617,  3.08841617,  3.08841617,  3.08841617,\n",
       "         3.08841617,  3.08841617,  3.08841617,  3.08841617,  3.08841617,\n",
       "         3.08841617,  3.08841617,  3.08841617,  3.08841617,  3.08841617,\n",
       "         3.08841617,  3.08841617,  3.08841617,  3.08841617,  3.08841617,\n",
       "         3.08841617,  3.08841617,  3.08841617,  3.08841617,  3.08841617,\n",
       "         3.08841617,  3.08841617,  3.08841617,  3.08841617,  3.08841617],\n",
       "       [ 3.2303041 ,  3.2303041 ,  3.2303041 ,  3.2303041 ,  3.2303041 ,\n",
       "         3.2303041 ,  3.2303041 ,  3.2303041 ,  3.2303041 ,  3.2303041 ,\n",
       "         3.2303041 ,  3.2303041 ,  3.2303041 ,  3.2303041 ,  3.2303041 ,\n",
       "         3.2303041 ,  3.2303041 ,  3.2303041 ,  3.2303041 ,  3.2303041 ,\n",
       "         3.2303041 ,  3.2303041 ,  3.2303041 ,  3.2303041 ,  3.2303041 ,\n",
       "         3.2303041 ,  3.2303041 ,  3.2303041 ,  3.2303041 ,  3.2303041 ],\n",
       "       [ 3.37219203,  3.37219203,  3.37219203,  3.37219203,  3.37219203,\n",
       "         3.37219203,  3.37219203,  3.37219203,  3.37219203,  3.37219203,\n",
       "         3.37219203,  3.37219203,  3.37219203,  3.37219203,  3.37219203,\n",
       "         3.37219203,  3.37219203,  3.37219203,  3.37219203,  3.37219203,\n",
       "         3.37219203,  3.37219203,  3.37219203,  3.37219203,  3.37219203,\n",
       "         3.37219203,  3.37219203,  3.37219203,  3.37219203,  3.37219203]])"
      ]
     },
     "execution_count": 11,
     "metadata": {},
     "output_type": "execute_result"
    }
   ],
   "source": [
    "axisx"
   ]
  },
  {
   "cell_type": "code",
   "execution_count": 12,
   "id": "89dcbbe9",
   "metadata": {
    "collapsed": true
   },
   "outputs": [
    {
     "data": {
      "text/plain": [
       "(30, 30)"
      ]
     },
     "execution_count": 12,
     "metadata": {},
     "output_type": "execute_result"
    }
   ],
   "source": [
    "axisx.shape"
   ]
  },
  {
   "cell_type": "code",
   "execution_count": 13,
   "id": "80872628",
   "metadata": {},
   "outputs": [],
   "source": [
    "xy = np.vstack([axisx.ravel(),axisy.ravel()]).T\n",
    "# 其中ravel()是降维函数，vstack()能够将多个结构一致的一维数组按行堆叠\n",
    "# xy是已经形成的网络，是遍布在整个画布上的密集的点"
   ]
  },
  {
   "cell_type": "code",
   "execution_count": 14,
   "id": "7b1612a0",
   "metadata": {
    "collapsed": true
   },
   "outputs": [
    {
     "data": {
      "text/plain": [
       "(900, 2)"
      ]
     },
     "execution_count": 14,
     "metadata": {},
     "output_type": "execute_result"
    }
   ],
   "source": [
    "xy.shape"
   ]
  },
  {
   "cell_type": "code",
   "execution_count": 15,
   "id": "9a749006",
   "metadata": {
    "collapsed": true
   },
   "outputs": [
    {
     "data": {
      "text/plain": [
       "<matplotlib.collections.PathCollection at 0x1edbc06c460>"
      ]
     },
     "execution_count": 15,
     "metadata": {},
     "output_type": "execute_result"
    },
    {
     "data": {
      "image/png": "[encoded data removed]",
      "text/plain": [
       "<Figure size 432x288 with 1 Axes>"
      ]
     },
     "metadata": {
      "needs_background": "light"
     },
     "output_type": "display_data"
    }
   ],
   "source": [
    "plt.scatter(xy[:,0],xy[:,1],s=1,cmap='rainbow')"
   ]
  },
  {
   "cell_type": "code",
   "execution_count": 16,
   "id": "19aed7c7",
   "metadata": {},
   "outputs": [],
   "source": [
    "#理解函数meshgrid 和 vstack的作用\n",
    "a = np.array([1,2,3])\n",
    "b = np.array([4,5])\n",
    "#两两组合，会得到多少个坐标？\n",
    "v1,v2 = np.meshgrid(a,b)"
   ]
  },
  {
   "cell_type": "code",
   "execution_count": 17,
   "id": "fc70dccb",
   "metadata": {
    "collapsed": true
   },
   "outputs": [
    {
     "data": {
      "text/plain": [
       "array([[1, 2, 3],\n",
       "       [1, 2, 3]])"
      ]
     },
     "execution_count": 17,
     "metadata": {},
     "output_type": "execute_result"
    }
   ],
   "source": [
    "v1"
   ]
  },
  {
   "cell_type": "code",
   "execution_count": 18,
   "id": "b43ca02e",
   "metadata": {
    "collapsed": true
   },
   "outputs": [
    {
     "data": {
      "text/plain": [
       "array([[4, 4, 4],\n",
       "       [5, 5, 5]])"
      ]
     },
     "execution_count": 18,
     "metadata": {},
     "output_type": "execute_result"
    }
   ],
   "source": [
    "v2"
   ]
  },
  {
   "cell_type": "code",
   "execution_count": 19,
   "id": "2d65087d",
   "metadata": {
    "collapsed": true
   },
   "outputs": [
    {
     "data": {
      "text/plain": [
       "array([1, 2, 3, 1, 2, 3])"
      ]
     },
     "execution_count": 19,
     "metadata": {},
     "output_type": "execute_result"
    }
   ],
   "source": [
    "v1.ravel()"
   ]
  },
  {
   "cell_type": "code",
   "execution_count": 20,
   "id": "f932026b",
   "metadata": {
    "collapsed": true
   },
   "outputs": [
    {
     "data": {
      "text/plain": [
       "array([4, 4, 4, 5, 5, 5])"
      ]
     },
     "execution_count": 20,
     "metadata": {},
     "output_type": "execute_result"
    }
   ],
   "source": [
    "v2.ravel()"
   ]
  },
  {
   "cell_type": "code",
   "execution_count": 40,
   "id": "39f97014",
   "metadata": {},
   "outputs": [],
   "source": [
    "v = np.vstack([v1.ravel(),v2.ravel()]).T"
   ]
  },
  {
   "cell_type": "code",
   "execution_count": 41,
   "id": "10385819",
   "metadata": {
    "collapsed": true
   },
   "outputs": [
    {
     "data": {
      "text/plain": [
       "array([[1, 4],\n",
       "       [2, 4],\n",
       "       [3, 4],\n",
       "       [1, 5],\n",
       "       [2, 5],\n",
       "       [3, 5]])"
      ]
     },
     "execution_count": 41,
     "metadata": {},
     "output_type": "execute_result"
    }
   ],
   "source": [
    "v"
   ]
  },
  {
   "cell_type": "code",
   "execution_count": 23,
   "id": "549bc3f7",
   "metadata": {},
   "outputs": [],
   "source": [
    "# 建模，通过fit计算对应的决策边界\n",
    "clf = SVC(kernel='linear').fit(X,y)\n",
    "z = clf.decision_function(xy).reshape(axisx.shape) #返回每个输入样本对应的点到决策边界的距离\n",
    "                                        #将这个距离转换为axisx结构，z的结构需与X和y保持一致"
   ]
  },
  {
   "cell_type": "code",
   "execution_count": 26,
   "id": "e0741e38",
   "metadata": {
    "collapsed": true
   },
   "outputs": [
    {
     "data": {
      "text/plain": [
       "(30, 30)"
      ]
     },
     "execution_count": 26,
     "metadata": {},
     "output_type": "execute_result"
    }
   ],
   "source": [
    "z.shape"
   ]
  },
  {
   "cell_type": "code",
   "execution_count": 27,
   "id": "9ba9d3f3",
   "metadata": {},
   "outputs": [
    {
     "data": {
      "text/plain": [
       "(-0.41872382476349596, 5.754870487889891)"
      ]
     },
     "execution_count": 27,
     "metadata": {},
     "output_type": "execute_result"
    },
    {
     "data": {
      "image/png": "[encoded data removed]",
      "text/plain": [
       "<Figure size 432x288 with 1 Axes>"
      ]
     },
     "metadata": {
      "needs_background": "light"
     },
     "output_type": "display_data"
    }
   ],
   "source": [
    "# 可视化数据集\n",
    "plt.scatter(X[:,0],X[:,1],c=y,s=50,cmap='rainbow') # 创建散点图\n",
    "ax = plt.gca() # 获取当前的子图，如果不存在，则创建新的子图\n",
    "#画决策边界和平行于决策边界的超平面\n",
    "ax.contour(axisx,axisy,z\n",
    "          ,colors='k'\n",
    "          ,levels=[-1,0,1] #画三条等高线，分别是z为-1，0，1\n",
    "          ,alpha=0.5 #透明度\n",
    "          ,linestyles=['--','-','--'])\n",
    "ax.set_xlim(xlim)\n",
    "ax.set_ylim(ylim)"
   ]
  },
  {
   "cell_type": "code",
   "execution_count": 28,
   "id": "28b0e424",
   "metadata": {},
   "outputs": [
    {
     "data": {
      "text/plain": [
       "array([1.71444449, 5.02521524])"
      ]
     },
     "execution_count": 28,
     "metadata": {},
     "output_type": "execute_result"
    }
   ],
   "source": [
    "X[10]"
   ]
  },
  {
   "cell_type": "code",
   "execution_count": 43,
   "id": "4dbcfd18",
   "metadata": {},
   "outputs": [
    {
     "data": {
      "text/plain": [
       "<matplotlib.collections.PathCollection at 0x1edbd2eac10>"
      ]
     },
     "execution_count": 43,
     "metadata": {},
     "output_type": "execute_result"
    },
    {
     "data": {
      "image/png": "[encoded data removed]",
      "text/plain": [
       "<Figure size 432x288 with 1 Axes>"
      ]
     },
     "metadata": {
      "needs_background": "light"
     },
     "output_type": "display_data"
    }
   ],
   "source": [
    "#查看点的位置\n",
    "plt.scatter(X[:,0],X[:,1],c=y,s=50,cmap='rainbow')\n",
    "plt.scatter(X[10,0],X[10,1],c='black',s=50,cmap='rainbow')"
   ]
  },
  {
   "cell_type": "code",
   "execution_count": 30,
   "id": "8dcf251d",
   "metadata": {},
   "outputs": [
    {
     "data": {
      "text/plain": [
       "array([-3.33917354])"
      ]
     },
     "execution_count": 30,
     "metadata": {},
     "output_type": "execute_result"
    }
   ],
   "source": [
    "clf.decision_function(X[10].reshape(1,2))"
   ]
  },
  {
   "cell_type": "code",
   "execution_count": 31,
   "id": "8820fbcc",
   "metadata": {
    "collapsed": true
   },
   "outputs": [
    {
     "data": {
      "text/plain": [
       "<matplotlib.contour.QuadContourSet at 0x1edbc19aeb0>"
      ]
     },
     "execution_count": 31,
     "metadata": {},
     "output_type": "execute_result"
    },
    {
     "data": {
      "image/png": "[encoded data removed]",
      "text/plain": [
       "<Figure size 432x288 with 1 Axes>"
      ]
     },
     "metadata": {
      "needs_background": "light"
     },
     "output_type": "display_data"
    }
   ],
   "source": [
    "plt.scatter(X[:,0],X[:,1],c=y,s=50,cmap='rainbow') # 创建散点图\n",
    "ax = plt.gca() # 获取当前的子图，如果不存在，则创建新的子图\n",
    "\n",
    "#画决策边界和平行于决策边界的超平面\n",
    "ax.contour(axisx,axisy,z\n",
    "          ,colors='k'\n",
    "          ,levels=[-3.33917354] #画过该点的等高线\n",
    "          ,alpha=0.5 #透明度\n",
    "          ,linestyles=['--'])"
   ]
  },
  {
   "cell_type": "code",
   "execution_count": 32,
   "id": "7619f7dd",
   "metadata": {},
   "outputs": [],
   "source": [
    "# 将上述过程包装成函数\n",
    "def plot_svc_decision_function(model,ax=None):\n",
    "    if ax is None:\n",
    "        ax = plt.gca()\n",
    "    xlim = ax.get_xlim()\n",
    "    ylim = ax.get_ylim()\n",
    "    \n",
    "    x = np.linspace(xlim[0],xlim[1],30)\n",
    "    y = np.linspace(ylim[0],ylim[1],30)\n",
    "    Y,X = np.meshgrid(y,x)\n",
    "    xy = np.vstack([X.ravel(),Y.ravel()]).T\n",
    "    P = model.decision_function(xy).reshape(X.shape)\n",
    "    \n",
    "    ax.contour(X,Y,P,colors='k',levels=[-1,0,1],alpha=0.5,linestyles=['--','-','--'])\n",
    "    ax.set_xlim(xlim)\n",
    "    ax.set_ylim(ylim)"
   ]
  },
  {
   "cell_type": "code",
   "execution_count": 33,
   "id": "247cc8fc",
   "metadata": {},
   "outputs": [
    {
     "data": {
      "image/png": "[encoded data removed]",
      "text/plain": [
       "<Figure size 432x288 with 1 Axes>"
      ]
     },
     "metadata": {
      "needs_background": "light"
     },
     "output_type": "display_data"
    }
   ],
   "source": [
    "# 整个绘图过程可以写作\n",
    "clf = SVC(kernel='linear').fit(X,y)\n",
    "plt.scatter(X[:,0],X[:,1],c=y,s=50,cmap='rainbow')\n",
    "plot_svc_decision_function(clf)"
   ]
  },
  {
   "cell_type": "code",
   "execution_count": 34,
   "id": "3d421ae6",
   "metadata": {},
   "outputs": [
    {
     "data": {
      "text/plain": [
       "array([1, 1, 0, 0, 1, 1, 1, 1, 1, 0, 0, 0, 0, 1, 0, 0, 0, 1, 0, 0, 1, 1,\n",
       "       1, 1, 1, 0, 0, 0, 1, 0, 1, 0, 0, 0, 0, 1, 1, 0, 1, 0, 1, 0, 1, 1,\n",
       "       0, 1, 1, 0, 1, 0])"
      ]
     },
     "execution_count": 34,
     "metadata": {},
     "output_type": "execute_result"
    }
   ],
   "source": [
    "#模型评估\n",
    "clf.predict(X) #根据决策边界，对样本进行分类"
   ]
  },
  {
   "cell_type": "code",
   "execution_count": 35,
   "id": "3c1decb8",
   "metadata": {},
   "outputs": [
    {
     "data": {
      "text/plain": [
       "1.0"
      ]
     },
     "execution_count": 35,
     "metadata": {},
     "output_type": "execute_result"
    }
   ],
   "source": [
    "clf.score(X,y) #平均准确度"
   ]
  },
  {
   "cell_type": "code",
   "execution_count": 36,
   "id": "8945a019",
   "metadata": {},
   "outputs": [
    {
     "data": {
      "text/plain": [
       "array([[0.44359863, 3.11530945],\n",
       "       [2.33812285, 3.43116792],\n",
       "       [2.06156753, 1.96918596]])"
      ]
     },
     "execution_count": 36,
     "metadata": {},
     "output_type": "execute_result"
    }
   ],
   "source": [
    "clf.support_vectors_ #返回支持向量"
   ]
  },
  {
   "cell_type": "code",
   "execution_count": 37,
   "id": "47c9b7a3",
   "metadata": {},
   "outputs": [
    {
     "data": {
      "text/plain": [
       "array([2, 1])"
      ]
     },
     "execution_count": 37,
     "metadata": {},
     "output_type": "execute_result"
    }
   ],
   "source": [
    "clf.n_support_ #返回每个类中支持向量的个数"
   ]
  },
  {
   "cell_type": "code",
   "execution_count": null,
   "id": "70f6fee3",
   "metadata": {},
   "outputs": [],
   "source": []
  }
 ],
 "metadata": {
  "kernelspec": {
   "display_name": "Python 3 (ipykernel)",
   "language": "python",
   "name": "python3"
  },
  "language_info": {
   "codemirror_mode": {
    "name": "ipython",
    "version": 3
   },
   "file_extension": ".py",
   "mimetype": "text/x-python",
   "name": "python",
   "nbconvert_exporter": "python",
   "pygments_lexer": "ipython3",
   "version": "3.9.12"
  },
  "toc": {
   "base_numbering": 1,
   "nav_menu": {},
   "number_sections": true,
   "sideBar": true,
   "skip_h1_title": false,
   "title_cell": "Table of Contents",
   "title_sidebar": "Contents",
   "toc_cell": false,
   "toc_position": {},
   "toc_section_display": true,
   "toc_window_display": false
  },
  "varInspector": {
   "cols": {
    "lenName": 16,
    "lenType": 16,
    "lenVar": 40
   },
   "kernels_config": {
    "python": {
     "delete_cmd_postfix": "",
     "delete_cmd_prefix": "del ",
     "library": "var_list.py",
     "varRefreshCmd": "print(var_dic_list())"
    },
    "r": {
     "delete_cmd_postfix": ") ",
     "delete_cmd_prefix": "rm(",
     "library": "var_list.r",
     "varRefreshCmd": "cat(var_dic_list()) "
    }
   },
   "types_to_exclude": [
    "module",
    "function",
    "builtin_function_or_method",
    "instance",
    "_Feature"
   ],
   "window_display": false
  }
 },
 "nbformat": 4,
 "nbformat_minor": 5
}
